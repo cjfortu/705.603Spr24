{
 "cells": [
  {
   "cell_type": "markdown",
   "id": "0c94224c-4ece-40d0-9693-81b30e7f1ee3",
   "metadata": {},
   "source": [
    "# Model Analysis\n",
    "\n",
    "**We will use an LSTM-based RNN for multiclass classification.**\n",
    "\n",
    "**The labels will be the star ratings.**\n",
    "\n",
    "**We select a neural network because we want to capture the relationship between reviews and star ratings, we are not primarily concerned with understanding the nature of this relationship, and we have a very large amount of data.**\n",
    "\n",
    "**We select an RNN because the data can be understood as time series.**\n",
    "\n",
    "**We select an LSTM due to their ability to capture both long and short term temporal relationships, including non-sequential or disjoined relationships, which are common in human language.**"
   ]
  },
  {
   "cell_type": "code",
   "execution_count": 61,
   "id": "e98b6461-e7f4-4904-8ed3-cb6f000ce5b5",
   "metadata": {
    "tags": []
   },
   "outputs": [],
   "source": [
    "import os\n",
    "os.chdir('/home/clementejasonfortuna/workspace/705.603Portfolio/Multimodal-Analysis')\n",
    "\n",
    "from collections import deque\n",
    "import pandas as pd\n",
    "import numpy as np\n",
    "import matplotlib.pyplot as plt\n",
    "from pathlib import Path\n",
    "from multiprocessing import Pool\n",
    "from itertools import repeat\n",
    "import time\n",
    "import pickle\n",
    "\n",
    "from Helpers import preprocess, tokentext2seqs\n",
    "\n",
    "from sklearn.feature_extraction.text import CountVectorizer\n",
    "from sklearn.feature_extraction.text import TfidfVectorizer\n",
    "from sklearn.model_selection import train_test_split\n",
    "\n",
    "from gensim.models import Word2Vec\n",
    "from nltk.tokenize import word_tokenize\n",
    "import nltk\n",
    "import contractions\n",
    "import string\n",
    "\n",
    "import tensorrt\n",
    "from tensorflow.keras.utils import pad_sequences\n",
    "import tensorflow.keras.layers as tfkl\n",
    "import tensorflow.keras as tfk\n",
    "from tensorflow.keras.callbacks import ModelCheckpoint\n",
    "from tensorflow.keras import backend as K\n"
   ]
  },
  {
   "cell_type": "code",
   "execution_count": 2,
   "id": "17cafe2e-6f87-4a63-b225-4a0bcd41c525",
   "metadata": {
    "tags": []
   },
   "outputs": [],
   "source": [
    "pd.set_option('display.max_columns', None)  # None or 1000\n",
    "pd.set_option('display.max_rows', 10)  # or 1000\n",
    "pd.set_option('display.max_colwidth', None)  # or 199"
   ]
  },
  {
   "cell_type": "markdown",
   "id": "436036dc-c444-4c5e-95d5-20371f606523",
   "metadata": {},
   "source": [
    "**Ingest the data**"
   ]
  },
  {
   "cell_type": "code",
   "execution_count": 3,
   "id": "6f1dee95-73b3-436b-bd45-f0db0e4cd7aa",
   "metadata": {
    "tags": []
   },
   "outputs": [
    {
     "name": "stderr",
     "output_type": "stream",
     "text": [
      "/tmp/ipykernel_64835/1706385969.py:1: DtypeWarning: Columns (18,25) have mixed types. Specify dtype option on import or set low_memory=False.\n",
      "  df = pd.read_csv('../data/amazon_movie_reviews.csv')\n"
     ]
    }
   ],
   "source": [
    "df = pd.read_csv('../data/amazon_movie_reviews.csv')"
   ]
  },
  {
   "cell_type": "markdown",
   "id": "0511e9b0-69fb-4554-9963-6d10c9bf1e3b",
   "metadata": {},
   "source": [
    "## First data preprocessing\n",
    "\n",
    "**The helper for normalizing/stemming/tokenizing:**"
   ]
  },
  {
   "cell_type": "code",
   "execution_count": 53,
   "id": "02db81cf-1b9d-4f40-beed-380c401891aa",
   "metadata": {
    "tags": []
   },
   "outputs": [],
   "source": [
    "def get_proccorpus(dfproc):\n",
    "    \"\"\"\n",
    "    Get a normalized, stemmed, tokenized form of a corpus of text.\n",
    "    \n",
    "    parameters:\n",
    "    corpus (list of str): The text corpus\n",
    "    \n",
    "    returns:\n",
    "    tokentext (list of [str]): The tokenized corpus\n",
    "    proctext (list of str): The tokenized corpus with word re-joined\n",
    "    ratings (list of float): The star ratings\n",
    "    \"\"\"\n",
    "    corpus = dfproc['text'].to_list()\n",
    "    ratings = dfproc['rating'].to_list()\n",
    "    # corpus = corpus.to_list()\n",
    "    with Pool(14) as pool:  # see helper\n",
    "        result = pool.starmap(preprocess, zip(corpus, ratings))\n",
    "    \n",
    "    df = pd.DataFrame(result, columns = ['tokentext', 'proctext', 'rating'])\n",
    "    tokentext = df['tokentext'].to_list()\n",
    "    proctext = df['proctext'].to_list()\n",
    "    ratings = df['rating'].to_list()\n",
    "    \n",
    "    return (tokentext, proctext, ratings)\n",
    "        "
   ]
  },
  {
   "cell_type": "markdown",
   "id": "755a5be0-9077-45f3-b779-77bc6d909a51",
   "metadata": {},
   "source": [
    "**The helper word2vec model training/encoding:**"
   ]
  },
  {
   "cell_type": "code",
   "execution_count": 54,
   "id": "c394129a-3d56-473e-bf5b-8ea107459507",
   "metadata": {
    "tags": []
   },
   "outputs": [],
   "source": [
    "def encode(tokenproctext, w2vsz):\n",
    "    \"\"\"\n",
    "    Encode a tokenized corpus according to the Word2Vec method.\n",
    "    \n",
    "    parameters:\n",
    "    tokenproctext (tuple of list): The tokenized corpus both in original and\n",
    "            word-rejoined form\n",
    "    w2vsz (int): The embedding feature space size\n",
    "    \"\"\"\n",
    "    proccorpus = tokenproctext[0]  # needs processed tokens\n",
    "    word2vec_model = Word2Vec(proccorpus, vector_size=w2vsz, min_count=1,\n",
    "                              workers=14)\n",
    "\n",
    "    return word2vec_model"
   ]
  },
  {
   "cell_type": "markdown",
   "id": "16a4cfaf-b9bb-4dc8-a6b5-9654d062df8b",
   "metadata": {},
   "source": [
    "**The helper for token to index conversion:**"
   ]
  },
  {
   "cell_type": "code",
   "execution_count": 55,
   "id": "16330584-565f-488c-a427-7b17e94595aa",
   "metadata": {},
   "outputs": [],
   "source": [
    "def get_ttxts2seqs(ttxt, tokshash, inputsz):\n",
    "    \"\"\"\n",
    "    Convert tokens to their indices in the word2vec model.\n",
    "    \n",
    "    parameters:\n",
    "    ttxt (list of [str]): The tokens\n",
    "    tokshash (dict of int): The word2vec indices of each token\n",
    "    inputsz (int): The size limit of the input vectors\n",
    "    \n",
    "    returns:\n",
    "    result (iterable of [int]): The indices of the tokens\n",
    "    \"\"\"\n",
    "    with Pool(14) as pool:  # see helper\n",
    "        result = pool.starmap(tokentext2seqs, zip(ttxt, repeat(tokshash), repeat(inputsz)))\n",
    "    \n",
    "    return result"
   ]
  },
  {
   "cell_type": "markdown",
   "id": "f26ecf48-7729-4831-aae0-7632dadf386e",
   "metadata": {},
   "source": [
    "**The data preprocessing pipeline:**"
   ]
  },
  {
   "cell_type": "code",
   "execution_count": 56,
   "id": "7d8ab582-d667-467b-b20d-c36f2370dabe",
   "metadata": {
    "tags": []
   },
   "outputs": [],
   "source": [
    "def get_data(df, inputsz, w2vsz):\n",
    "    \"\"\"\n",
    "    Prepare the dataframe and embedding weights for machine learning.\n",
    "    \n",
    "    parameters:\n",
    "    df (dataframe): The ingested dataframe\n",
    "    inputsz (int): The size limit of the input vectors\n",
    "    w2vsz (int): The embedding feature space size\n",
    "    \n",
    "    returns:\n",
    "    embed_model (Word2Vec model): The trained word2vec model\n",
    "    dfproc (dataframe): The processed dataframe\n",
    "    ntoks (int): The total number of unique tokens\n",
    "    tokshash (dict): The mapping from tokens to their word2vec indices\n",
    "    \"\"\"\n",
    "    df2 = df.drop_duplicates(subset=['text'])\n",
    "    dffil = df2.loc[df2['text'].notna(), ['rating', 'text']]\n",
    "    \n",
    "    stime = time.time()\n",
    "    tokenproctext = get_proccorpus(dffil[:])\n",
    "    print('tokenization done: {}'.format(time.time() - stime))\n",
    "    \n",
    "    stime = time.time()\n",
    "    embed_model = encode(tokenproctext, w2vsz)\n",
    "    print('embedding model done: {}'.format(time.time() - stime))\n",
    "    \n",
    "    ttxt = tokenproctext[0]\n",
    "    ratings = tokenproctext[2]\n",
    "    alltoks = list(embed_model.wv.key_to_index.keys())\n",
    "    # O(N) lookup time for dict.  Critical to speeding up get_ttxts2seqs()\n",
    "    tokshash = dict(zip(alltoks, range(0, len(alltoks))))\n",
    "    \n",
    "    stime = time.time()\n",
    "    seqs = get_ttxts2seqs(ttxt[:], tokshash, inputsz)\n",
    "    print('sequences done: {}'.format(time.time() - stime))\n",
    "    \n",
    "    dfproc = pd.DataFrame({'seqs': seqs, 'ratings': ratings})\n",
    "    \n",
    "    dfproc = pd.get_dummies(data=dfproc, columns=['ratings'])\n",
    "    ratcols = [col for col in dfproc.columns if 'ratings' in col]   \n",
    "    dfproc[ratcols] = dfproc[ratcols].replace({True: 1, False: 0})\n",
    "    dfproc['ratings'] = dfproc[ratcols].values.tolist()\n",
    "    dfproc['ratings'] = dfproc['ratings'].to_numpy()\n",
    "    dfproc = dfproc.drop(ratcols, axis=1)\n",
    "    \n",
    "    ntoks = len(alltoks)\n",
    "\n",
    "    return embed_model, dfproc, ntoks, tokshash"
   ]
  },
  {
   "cell_type": "code",
   "execution_count": 57,
   "id": "1a9b1f10-d2ed-4c18-8bc1-a1ae9a48380d",
   "metadata": {
    "tags": []
   },
   "outputs": [
    {
     "name": "stdout",
     "output_type": "stream",
     "text": [
      "tokenization done: 74.74806308746338\n",
      "embedding model done: 44.46340012550354\n",
      "sequences done: 40.389137506484985\n"
     ]
    }
   ],
   "source": [
    "inputsz = 50\n",
    "w2vsz = 100\n",
    "embed_model, dfproc, ntoks, tokshash = get_data(df, inputsz, w2vsz)"
   ]
  },
  {
   "cell_type": "code",
   "execution_count": 63,
   "id": "3fc7c458-682c-4fe6-babc-3149a67a2fe6",
   "metadata": {
    "tags": []
   },
   "outputs": [],
   "source": [
    "with open('./models/tokshash.bin', mode='wb') as f:\n",
    "    pickle.dump(tokshash, f)\n",
    "    \n",
    "with open('./models/dfproc.bin', mode='wb') as f:\n",
    "    pickle.dump(dfproc, f)"
   ]
  },
  {
   "cell_type": "code",
   "execution_count": 25,
   "id": "b1c2893a-fe95-46e1-91ea-12a5a71ef4d6",
   "metadata": {
    "tags": []
   },
   "outputs": [
    {
     "data": {
      "text/html": [
       "<div>\n",
       "<style scoped>\n",
       "    .dataframe tbody tr th:only-of-type {\n",
       "        vertical-align: middle;\n",
       "    }\n",
       "\n",
       "    .dataframe tbody tr th {\n",
       "        vertical-align: top;\n",
       "    }\n",
       "\n",
       "    .dataframe thead th {\n",
       "        text-align: right;\n",
       "    }\n",
       "</style>\n",
       "<table border=\"1\" class=\"dataframe\">\n",
       "  <thead>\n",
       "    <tr style=\"text-align: right;\">\n",
       "      <th></th>\n",
       "      <th>seqs</th>\n",
       "      <th>ratings</th>\n",
       "    </tr>\n",
       "  </thead>\n",
       "  <tbody>\n",
       "    <tr>\n",
       "      <th>0</th>\n",
       "      <td>[150, 378, 140, 10, 616, 0, 0, 0, 0, 0, 0, 0, 0, 0, 0, 0, 0, 0, 0, 0, 0, 0, 0, 0, 0, 0, 0, 0, 0, 0, 0, 0, 0, 0, 0, 0, 0, 0, 0, 0, 0, 0, 0, 0, 0, 0, 0, 0, 0, 0]</td>\n",
       "      <td>[0, 0, 0, 0, 1]</td>\n",
       "    </tr>\n",
       "    <tr>\n",
       "      <th>1</th>\n",
       "      <td>[4441, 3, 10, 0, 0, 0, 0, 0, 0, 0, 0, 0, 0, 0, 0, 0, 0, 0, 0, 0, 0, 0, 0, 0, 0, 0, 0, 0, 0, 0, 0, 0, 0, 0, 0, 0, 0, 0, 0, 0, 0, 0, 0, 0, 0, 0, 0, 0, 0, 0]</td>\n",
       "      <td>[0, 0, 0, 0, 1]</td>\n",
       "    </tr>\n",
       "    <tr>\n",
       "      <th>2</th>\n",
       "      <td>[15135, 18487, 15, 1037, 312, 1057, 1460, 810, 3995, 919, 1042, 22, 2090, 2233, 1533, 251, 668, 345, 316, 1846, 312, 3009, 218, 3, 24, 14, 24, 100, 75, 7, 2003, 125, 3636, 451, 0, 547, 346, 129, 7, 56046, 5370, 76, 251, 145353, 75, 33, 592, 1426, 0, 0]</td>\n",
       "      <td>[0, 0, 1, 0, 0]</td>\n",
       "    </tr>\n",
       "    <tr>\n",
       "      <th>3</th>\n",
       "      <td>[1316, 15, 35224, 3771, 593, 3894, 2958, 33, 368, 247, 2484, 907, 3, 305, 40, 1225, 1439, 120, 232, 827, 678, 353, 345, 4020, 10, 158, 1454, 892, 115, 521, 20, 261, 1966, 889, 15, 4020, 0, 0, 0, 0, 0, 0, 0, 0, 0, 0, 0, 0, 0, 0]</td>\n",
       "      <td>[0, 0, 0, 1, 0]</td>\n",
       "    </tr>\n",
       "    <tr>\n",
       "      <th>4</th>\n",
       "      <td>[95, 116, 41, 0, 705, 678, 739, 1286, 228, 332, 836, 34, 138, 1596, 340, 61, 218, 1202, 2796, 96, 690, 3814, 1584, 21, 148, 1210, 296, 4, 158, 88, 11, 0, 0, 0, 0, 0, 0, 0, 0, 0, 0, 0, 0, 0, 0, 0, 0, 0, 0, 0]</td>\n",
       "      <td>[0, 0, 0, 0, 1]</td>\n",
       "    </tr>\n",
       "    <tr>\n",
       "      <th>...</th>\n",
       "      <td>...</td>\n",
       "      <td>...</td>\n",
       "    </tr>\n",
       "    <tr>\n",
       "      <th>828691</th>\n",
       "      <td>[82, 118, 10, 0, 0, 0, 0, 0, 0, 0, 0, 0, 0, 0, 0, 0, 0, 0, 0, 0, 0, 0, 0, 0, 0, 0, 0, 0, 0, 0, 0, 0, 0, 0, 0, 0, 0, 0, 0, 0, 0, 0, 0, 0, 0, 0, 0, 0, 0, 0]</td>\n",
       "      <td>[0, 0, 0, 0, 1]</td>\n",
       "    </tr>\n",
       "    <tr>\n",
       "      <th>828692</th>\n",
       "      <td>[27, 350, 1051, 0, 0, 0, 0, 0, 0, 0, 0, 0, 0, 0, 0, 0, 0, 0, 0, 0, 0, 0, 0, 0, 0, 0, 0, 0, 0, 0, 0, 0, 0, 0, 0, 0, 0, 0, 0, 0, 0, 0, 0, 0, 0, 0, 0, 0, 0, 0]</td>\n",
       "      <td>[0, 0, 0, 0, 1]</td>\n",
       "    </tr>\n",
       "    <tr>\n",
       "      <th>828693</th>\n",
       "      <td>[6, 442, 76, 6, 15, 66, 96, 1677, 151, 257, 72, 476, 8011, 247, 1980, 0, 0, 0, 0, 0, 0, 0, 0, 0, 0, 0, 0, 0, 0, 0, 0, 0, 0, 0, 0, 0, 0, 0, 0, 0, 0, 0, 0, 0, 0, 0, 0, 0, 0, 0]</td>\n",
       "      <td>[0, 0, 0, 1, 0]</td>\n",
       "    </tr>\n",
       "    <tr>\n",
       "      <th>828694</th>\n",
       "      <td>[2, 551, 153, 46, 4, 10192, 105, 112, 451, 2318, 9, 106, 38, 410, 451, 66, 1225, 221, 2318, 507, 78, 1282, 0, 0, 0, 0, 0, 0, 0, 0, 0, 0, 0, 0, 0, 0, 0, 0, 0, 0, 0, 0, 0, 0, 0, 0, 0, 0, 0, 0]</td>\n",
       "      <td>[0, 0, 0, 1, 0]</td>\n",
       "    </tr>\n",
       "    <tr>\n",
       "      <th>828695</th>\n",
       "      <td>[89, 592, 38, 3077, 40, 7011, 9617, 37, 221, 15, 3483, 4020, 346, 131, 51, 907, 4464, 17, 12808, 836, 3679, 7283, 94, 146, 1101, 821, 280, 146, 1801, 907, 276126, 29, 1404, 3441, 5955, 37910, 12, 1077, 172605, 403, 32, 40, 46, 4746, 0, 0, 0, 0, 0, 0]</td>\n",
       "      <td>[1, 0, 0, 0, 0]</td>\n",
       "    </tr>\n",
       "  </tbody>\n",
       "</table>\n",
       "<p>828696 rows × 2 columns</p>\n",
       "</div>"
      ],
      "text/plain": [
       "                                                                                                                                                                                                                                                                seqs  \\\n",
       "0                                                                                                    [150, 378, 140, 10, 616, 0, 0, 0, 0, 0, 0, 0, 0, 0, 0, 0, 0, 0, 0, 0, 0, 0, 0, 0, 0, 0, 0, 0, 0, 0, 0, 0, 0, 0, 0, 0, 0, 0, 0, 0, 0, 0, 0, 0, 0, 0, 0, 0, 0, 0]   \n",
       "1                                                                                                         [4441, 3, 10, 0, 0, 0, 0, 0, 0, 0, 0, 0, 0, 0, 0, 0, 0, 0, 0, 0, 0, 0, 0, 0, 0, 0, 0, 0, 0, 0, 0, 0, 0, 0, 0, 0, 0, 0, 0, 0, 0, 0, 0, 0, 0, 0, 0, 0, 0, 0]   \n",
       "2       [15135, 18487, 15, 1037, 312, 1057, 1460, 810, 3995, 919, 1042, 22, 2090, 2233, 1533, 251, 668, 345, 316, 1846, 312, 3009, 218, 3, 24, 14, 24, 100, 75, 7, 2003, 125, 3636, 451, 0, 547, 346, 129, 7, 56046, 5370, 76, 251, 145353, 75, 33, 592, 1426, 0, 0]   \n",
       "3                                [1316, 15, 35224, 3771, 593, 3894, 2958, 33, 368, 247, 2484, 907, 3, 305, 40, 1225, 1439, 120, 232, 827, 678, 353, 345, 4020, 10, 158, 1454, 892, 115, 521, 20, 261, 1966, 889, 15, 4020, 0, 0, 0, 0, 0, 0, 0, 0, 0, 0, 0, 0, 0, 0]   \n",
       "4                                                    [95, 116, 41, 0, 705, 678, 739, 1286, 228, 332, 836, 34, 138, 1596, 340, 61, 218, 1202, 2796, 96, 690, 3814, 1584, 21, 148, 1210, 296, 4, 158, 88, 11, 0, 0, 0, 0, 0, 0, 0, 0, 0, 0, 0, 0, 0, 0, 0, 0, 0, 0, 0]   \n",
       "...                                                                                                                                                                                                                                                              ...   \n",
       "828691                                                                                                    [82, 118, 10, 0, 0, 0, 0, 0, 0, 0, 0, 0, 0, 0, 0, 0, 0, 0, 0, 0, 0, 0, 0, 0, 0, 0, 0, 0, 0, 0, 0, 0, 0, 0, 0, 0, 0, 0, 0, 0, 0, 0, 0, 0, 0, 0, 0, 0, 0, 0]   \n",
       "828692                                                                                                  [27, 350, 1051, 0, 0, 0, 0, 0, 0, 0, 0, 0, 0, 0, 0, 0, 0, 0, 0, 0, 0, 0, 0, 0, 0, 0, 0, 0, 0, 0, 0, 0, 0, 0, 0, 0, 0, 0, 0, 0, 0, 0, 0, 0, 0, 0, 0, 0, 0, 0]   \n",
       "828693                                                                                [6, 442, 76, 6, 15, 66, 96, 1677, 151, 257, 72, 476, 8011, 247, 1980, 0, 0, 0, 0, 0, 0, 0, 0, 0, 0, 0, 0, 0, 0, 0, 0, 0, 0, 0, 0, 0, 0, 0, 0, 0, 0, 0, 0, 0, 0, 0, 0, 0, 0, 0]   \n",
       "828694                                                                [2, 551, 153, 46, 4, 10192, 105, 112, 451, 2318, 9, 106, 38, 410, 451, 66, 1225, 221, 2318, 507, 78, 1282, 0, 0, 0, 0, 0, 0, 0, 0, 0, 0, 0, 0, 0, 0, 0, 0, 0, 0, 0, 0, 0, 0, 0, 0, 0, 0, 0, 0]   \n",
       "828695    [89, 592, 38, 3077, 40, 7011, 9617, 37, 221, 15, 3483, 4020, 346, 131, 51, 907, 4464, 17, 12808, 836, 3679, 7283, 94, 146, 1101, 821, 280, 146, 1801, 907, 276126, 29, 1404, 3441, 5955, 37910, 12, 1077, 172605, 403, 32, 40, 46, 4746, 0, 0, 0, 0, 0, 0]   \n",
       "\n",
       "                ratings  \n",
       "0       [0, 0, 0, 0, 1]  \n",
       "1       [0, 0, 0, 0, 1]  \n",
       "2       [0, 0, 1, 0, 0]  \n",
       "3       [0, 0, 0, 1, 0]  \n",
       "4       [0, 0, 0, 0, 1]  \n",
       "...                 ...  \n",
       "828691  [0, 0, 0, 0, 1]  \n",
       "828692  [0, 0, 0, 0, 1]  \n",
       "828693  [0, 0, 0, 1, 0]  \n",
       "828694  [0, 0, 0, 1, 0]  \n",
       "828695  [1, 0, 0, 0, 0]  \n",
       "\n",
       "[828696 rows x 2 columns]"
      ]
     },
     "execution_count": 25,
     "metadata": {},
     "output_type": "execute_result"
    }
   ],
   "source": [
    "dfproc"
   ]
  },
  {
   "cell_type": "markdown",
   "id": "e7f31cd8-231d-4579-a1b0-39284cbae77f",
   "metadata": {},
   "source": [
    "**Now create the train/val/test split:**"
   ]
  },
  {
   "cell_type": "code",
   "execution_count": 26,
   "id": "704504be-a8b1-494c-be0f-b3f08f1dff83",
   "metadata": {
    "tags": []
   },
   "outputs": [],
   "source": [
    "X = np.stack(np.array(dfproc['seqs']))\n",
    "Y = np.stack(np.array(dfproc['ratings']))\n",
    "X_train, X_test, Y_train, Y_test = train_test_split(X, Y,\n",
    "                                    test_size=0.1, stratify=Y)\n",
    "X_train, X_val, Y_train, Y_val = train_test_split(X_train, Y_train,\n",
    "                                    test_size=1/9, stratify=Y_train)"
   ]
  },
  {
   "cell_type": "markdown",
   "id": "4ba37d8e-604c-4da0-b5d7-b50673c21d27",
   "metadata": {},
   "source": [
    "## Now model creation and training definition\n",
    "\n",
    "**Define the LSTM model:**\n",
    "\n",
    "**To speed up learning we load the word2vec embeddings rather than using randomly initialized embedding weights. To reduce runtime we use a single LSTM and dense layer. To improve generalized performance, we use dropout.**\n",
    "\n",
    "**The hyperparameters will be tuned later.**"
   ]
  },
  {
   "cell_type": "code",
   "execution_count": 27,
   "id": "ae0cdad5-99f7-47de-9231-666fb7e2624e",
   "metadata": {
    "tags": []
   },
   "outputs": [],
   "source": [
    "def LSTM_model(ntoks, w2vsz, embed_mat, lstmunits, lstmdo,\n",
    "               rdo, fcunits, fcd):\n",
    "    \"\"\"\n",
    "    The LSTM-based RNN model.\n",
    "    \n",
    "    parameters:\n",
    "    ntoks (int): The total number of unique tokens\n",
    "    w2vsz (int): The embedding feature space size\n",
    "    embed_mat (numpy array): The embedding weight matrix from word2vec\n",
    "    lstmunits (int): The number of LSTM neurons\n",
    "    lstmdo (float): The input LSTM dropout\n",
    "    rdo (float): The recurrent LSTM dropout\n",
    "    fcunits (int): The number of dense neurons\n",
    "    fcd (float): The dense dropout\n",
    "    \n",
    "    returns:\n",
    "    model (tensorflow model): The LSTM-based RNN model.\n",
    "    \"\"\"\n",
    "    model = tfk.Sequential()\n",
    "\n",
    "    input_dat = tfkl.Embedding(ntoks, w2vsz)\n",
    "    input_dat.build(input_shape=(1,))\n",
    "    # initialize with the word2vec embedding weights\n",
    "    input_dat.set_weights([embed_mat])\n",
    "    \n",
    "    model.add(input_dat)\n",
    "    model.add(tfkl.LSTM(lstmunits, dropout=lstmdo, recurrent_dropout=rdo))\n",
    "    model.add(tfkl.Dense(fcunits, activation='relu'))\n",
    "    model.add(tfkl.BatchNormalization())\n",
    "    model.add(tfkl.Dropout(fcd))\n",
    "    model.add(tfkl.Dense(units = 5, activation = 'softmax'))\n",
    "    \n",
    "    return model"
   ]
  },
  {
   "cell_type": "markdown",
   "id": "0959ba2d-97cb-460b-a766-5eace0963538",
   "metadata": {},
   "source": [
    "**A custom callback to facilitate tiebreaking for model saving, based on summing scaled training and validation accuracies:**"
   ]
  },
  {
   "cell_type": "code",
   "execution_count": 28,
   "id": "2dab35fc-3909-4814-a342-72586d540062",
   "metadata": {
    "tags": []
   },
   "outputs": [],
   "source": [
    "class CombineCallback(tfk.callbacks.Callback):\n",
    "    \"\"\"\n",
    "    A custom callback to facilitate tiebreaking for model saving, based on summing scaled training and validation accuracies\n",
    "    \"\"\"\n",
    "    def __init__(self, **kargs):\n",
    "        super(CombineCallback, self).__init__(**kargs)\n",
    "\n",
    "    def on_epoch_end(self, epoch, logs={}):\n",
    "        logs['combine_accuracy'] = 0.999 * logs['val_accuracy'] + 0.001 * logs['accuracy']"
   ]
  },
  {
   "cell_type": "markdown",
   "id": "6dd7b48d-ec99-4f1e-9cb4-99de2bbf86c0",
   "metadata": {},
   "source": [
    "**Accuracy is one of the metrics.  We select it because it provides an intuitive measure for whether or not the model is learning.  Specifically, the result must be compared to the proportion of the most common label.  In *expoloratory_data_analysis.ipynb,* this was %60.3 for the 5 star rating.**"
   ]
  },
  {
   "cell_type": "markdown",
   "id": "1376941f-edb9-4b9c-ba49-e1caeb759aba",
   "metadata": {},
   "source": [
    "**The training/evaluation pipeline:**"
   ]
  },
  {
   "cell_type": "code",
   "execution_count": 29,
   "id": "897e1c90-0fe3-48c1-9125-db31c3ba3fd2",
   "metadata": {
    "tags": []
   },
   "outputs": [],
   "source": [
    "def train_eval_mod(X_train, X_vt, Y_train, Y_vt, epochs, batch_size, ntoks,\n",
    "                   w2vsz, embed_mat, lstmunits, lstmdo, rdo, fcunits, fcd):\n",
    "    \"\"\"\n",
    "    Train the model and make a final prediction.\n",
    "    \n",
    "    Saves the best performing model.\n",
    "    \n",
    "    parameters:\n",
    "    X_train (np.array): The training data\n",
    "    X_vt (np.array): The validation/testing data\n",
    "    Y_train (np.array): The training labels\n",
    "    Y_vt (np.array): The validation/testing labels\n",
    "    epochs (int): The number of training passes through the data\n",
    "    batch_size (int): The number of data points required for each weight update\n",
    "    ntoks (int): The total number of unique tokens\n",
    "    w2vsz (int): The embedding feature space size\n",
    "    embed_mat (numpy array): The embedding weight matrix from word2vec\n",
    "    lstmunits (int): The number of LSTM neurons\n",
    "    lstmdo (float): The input LSTM dropout\n",
    "    rdo (float): The recurrent LSTM dropout\n",
    "    fcunits (int): The number of dense neurons\n",
    "    fcd (float): The dense dropout\n",
    "    \n",
    "    returns:\n",
    "    history (tensorflow History): The record of training and validation metrics\n",
    "    y_preds (np.array): The prediction for the validation/testing data\n",
    "    \"\"\"\n",
    "    model = LSTM_model(ntoks, w2vsz, embed_mat, lstmunits, lstmdo,\n",
    "               rdo, fcunits, fcd)\n",
    "    model.compile(optimizer='adam',\n",
    "                      loss='categorical_crossentropy',\n",
    "                      metrics=['accuracy'])\n",
    "    model.summary()\n",
    "    mod_callback = ModelCheckpoint(filepath = '../models/text_model.keras',\n",
    "                                  save_weights_only = False,\n",
    "                                  monitor = 'combine_accuracy',\n",
    "                                  mode = 'max',\n",
    "                                  save_best_only = True)\n",
    "    history = model.fit(X_train, Y_train, epochs=epochs, batch_size=batch_size,\n",
    "                       validation_data=(X_vt, Y_vt),\n",
    "                       callbacks = [CombineCallback(), mod_callback])\n",
    "    model = tfk.models.\\\n",
    "            load_model('../models/text_model.keras')\n",
    "    y_preds = model.predict(X_vt)\n",
    "    \n",
    "    return history, y_preds\n"
   ]
  },
  {
   "cell_type": "markdown",
   "id": "c4608b4f-e196-4dff-9a4c-e7363261d51e",
   "metadata": {},
   "source": [
    "**Another performance metric, which we call *proximalperf*.  See the docstring for discussion/description:**"
   ]
  },
  {
   "cell_type": "code",
   "execution_count": 30,
   "id": "afa72e37-2a9e-4d6e-950d-6fa9c2807297",
   "metadata": {
    "tags": []
   },
   "outputs": [],
   "source": [
    "def get_proximalperf(Y_vt, y_preds):\n",
    "    \"\"\"\n",
    "    Compute proximalperf.\n",
    "    \n",
    "    Assigns a value of 1 for each correct label, and a value (5-abs(diff))/nclasses\n",
    "    for each incorrect label. For example, if *y_truth=5* and *y_pred=2*,\n",
    "    then the value will be 2/5.\n",
    "    \n",
    "    This allows some lenience if scores were only a single star rating off.\n",
    "    This is important because there is inherent subjectivity and error in the\n",
    "    star ratings versus the text.\n",
    "    \n",
    "    parameters:\n",
    "    Y_vt (np.array): The validation/testing labels\n",
    "    y_preds (np.array): The prediction for the validation/testing data\n",
    "    \n",
    "    returns:\n",
    "    proximalperf (float): The proximalperf score\n",
    "    \"\"\"\n",
    "    truidxs = np.argwhere(Y_vt > 0)[:, 1]\n",
    "    prdidxs = np.argmax(y_preds, axis=1)\n",
    "    tot = (5 - np.abs(truidxs - prdidxs)) / y_preds.shape[1]\n",
    "    proximalperf =  np.sum(tot)\n",
    "    proximalperf /= y_preds.shape[0]\n",
    "    \n",
    "    return proximalperf\n"
   ]
  },
  {
   "cell_type": "markdown",
   "id": "6a9e08d9-9411-4855-811d-5727d8662f31",
   "metadata": {
    "tags": []
   },
   "source": [
    "## Now tune hyperparameters\n",
    "\n",
    "**We will explore 64 vs 128 neurons in each layer/cell, and dropout vs no dropout.**"
   ]
  },
  {
   "cell_type": "code",
   "execution_count": 31,
   "id": "32671174-efc9-470a-b8b1-8ce607a60cf7",
   "metadata": {
    "tags": []
   },
   "outputs": [],
   "source": [
    "def tune_model(X_train, X_val, Y_train, Y_val, ntoks,\n",
    "               inputsz, w2vsz, embed_model):\n",
    "    X_train = X_train[:50000, :]\n",
    "    Y_train = Y_train[:50000, :]\n",
    "    X_vt = X_val[:5000, :]\n",
    "    Y_vt = Y_val[:5000, :]\n",
    "\n",
    "    epochs = 10\n",
    "    batch_size = 64\n",
    "    embed_mat = embed_model.wv.vectors\n",
    "    \n",
    "    histories = []\n",
    "    proxperfs = []\n",
    "    for units in [64, 128]:\n",
    "        for do in [0, 0.5]:\n",
    "            lstmunits = units\n",
    "            fcunits = units\n",
    "            lstmdo = do\n",
    "            rdo = do\n",
    "            fcd = do\n",
    "            history, y_preds = train_eval_mod(X_train, X_vt, Y_train, Y_vt, epochs,\n",
    "                    batch_size, ntoks, w2vsz, embed_mat, lstmunits, lstmdo,\n",
    "                    rdo, fcunits, fcd)\n",
    "            histories.append(history)\n",
    "            proxperf = get_proximalperf(Y_vt, y_preds)\n",
    "            proxperfs.append(proxperf)\n",
    "    \n",
    "    return histories, proxperfs\n",
    "    "
   ]
  },
  {
   "cell_type": "code",
   "execution_count": 32,
   "id": "163e9056-a1a4-459c-ab4a-6c24fed60e44",
   "metadata": {
    "collapsed": true,
    "jupyter": {
     "outputs_hidden": true
    },
    "tags": []
   },
   "outputs": [
    {
     "name": "stderr",
     "output_type": "stream",
     "text": [
      "2024-04-20 01:00:18.069927: I external/local_xla/xla/stream_executor/cuda/cuda_executor.cc:998] successful NUMA node read from SysFS had negative value (-1), but there must be at least one NUMA node, so returning NUMA node zero. See more at https://github.com/torvalds/linux/blob/v6.0/Documentation/ABI/testing/sysfs-bus-pci#L344-L355\n",
      "2024-04-20 01:00:18.115872: I external/local_xla/xla/stream_executor/cuda/cuda_executor.cc:998] successful NUMA node read from SysFS had negative value (-1), but there must be at least one NUMA node, so returning NUMA node zero. See more at https://github.com/torvalds/linux/blob/v6.0/Documentation/ABI/testing/sysfs-bus-pci#L344-L355\n",
      "2024-04-20 01:00:18.116126: I external/local_xla/xla/stream_executor/cuda/cuda_executor.cc:998] successful NUMA node read from SysFS had negative value (-1), but there must be at least one NUMA node, so returning NUMA node zero. See more at https://github.com/torvalds/linux/blob/v6.0/Documentation/ABI/testing/sysfs-bus-pci#L344-L355\n",
      "2024-04-20 01:00:18.118172: I external/local_xla/xla/stream_executor/cuda/cuda_executor.cc:998] successful NUMA node read from SysFS had negative value (-1), but there must be at least one NUMA node, so returning NUMA node zero. See more at https://github.com/torvalds/linux/blob/v6.0/Documentation/ABI/testing/sysfs-bus-pci#L344-L355\n",
      "2024-04-20 01:00:18.118336: I external/local_xla/xla/stream_executor/cuda/cuda_executor.cc:998] successful NUMA node read from SysFS had negative value (-1), but there must be at least one NUMA node, so returning NUMA node zero. See more at https://github.com/torvalds/linux/blob/v6.0/Documentation/ABI/testing/sysfs-bus-pci#L344-L355\n",
      "2024-04-20 01:00:18.118460: I external/local_xla/xla/stream_executor/cuda/cuda_executor.cc:998] successful NUMA node read from SysFS had negative value (-1), but there must be at least one NUMA node, so returning NUMA node zero. See more at https://github.com/torvalds/linux/blob/v6.0/Documentation/ABI/testing/sysfs-bus-pci#L344-L355\n",
      "2024-04-20 01:00:18.217443: I external/local_xla/xla/stream_executor/cuda/cuda_executor.cc:998] successful NUMA node read from SysFS had negative value (-1), but there must be at least one NUMA node, so returning NUMA node zero. See more at https://github.com/torvalds/linux/blob/v6.0/Documentation/ABI/testing/sysfs-bus-pci#L344-L355\n",
      "2024-04-20 01:00:18.217673: I external/local_xla/xla/stream_executor/cuda/cuda_executor.cc:998] successful NUMA node read from SysFS had negative value (-1), but there must be at least one NUMA node, so returning NUMA node zero. See more at https://github.com/torvalds/linux/blob/v6.0/Documentation/ABI/testing/sysfs-bus-pci#L344-L355\n",
      "2024-04-20 01:00:18.217848: I external/local_xla/xla/stream_executor/cuda/cuda_executor.cc:998] successful NUMA node read from SysFS had negative value (-1), but there must be at least one NUMA node, so returning NUMA node zero. See more at https://github.com/torvalds/linux/blob/v6.0/Documentation/ABI/testing/sysfs-bus-pci#L344-L355\n",
      "2024-04-20 01:00:18.218186: I tensorflow/core/common_runtime/gpu/gpu_device.cc:1928] Created device /job:localhost/replica:0/task:0/device:GPU:0 with 6679 MB memory:  -> device: 0, name: NVIDIA GeForce RTX 2070 Super, pci bus id: 0000:01:00.0, compute capability: 7.5\n"
     ]
    },
    {
     "data": {
      "text/html": [
       "<pre style=\"white-space:pre;overflow-x:auto;line-height:normal;font-family:Menlo,'DejaVu Sans Mono',consolas,'Courier New',monospace\"><span style=\"font-weight: bold\">Model: \"sequential\"</span>\n",
       "</pre>\n"
      ],
      "text/plain": [
       "\u001b[1mModel: \"sequential\"\u001b[0m\n"
      ]
     },
     "metadata": {},
     "output_type": "display_data"
    },
    {
     "data": {
      "text/html": [
       "<pre style=\"white-space:pre;overflow-x:auto;line-height:normal;font-family:Menlo,'DejaVu Sans Mono',consolas,'Courier New',monospace\">┏━━━━━━━━━━━━━━━━━━━━━━━━━━━━━━━━━┳━━━━━━━━━━━━━━━━━━━━━━━━┳━━━━━━━━━━━━━━━┓\n",
       "┃<span style=\"font-weight: bold\"> Layer (type)                    </span>┃<span style=\"font-weight: bold\"> Output Shape           </span>┃<span style=\"font-weight: bold\">       Param # </span>┃\n",
       "┡━━━━━━━━━━━━━━━━━━━━━━━━━━━━━━━━━╇━━━━━━━━━━━━━━━━━━━━━━━━╇━━━━━━━━━━━━━━━┩\n",
       "│ embedding (<span style=\"color: #0087ff; text-decoration-color: #0087ff\">Embedding</span>)           │ ?                      │    <span style=\"color: #00af00; text-decoration-color: #00af00\">31,067,500</span> │\n",
       "├─────────────────────────────────┼────────────────────────┼───────────────┤\n",
       "│ lstm (<span style=\"color: #0087ff; text-decoration-color: #0087ff\">LSTM</span>)                     │ ?                      │   <span style=\"color: #00af00; text-decoration-color: #00af00\">0</span> (unbuilt) │\n",
       "├─────────────────────────────────┼────────────────────────┼───────────────┤\n",
       "│ dense (<span style=\"color: #0087ff; text-decoration-color: #0087ff\">Dense</span>)                   │ ?                      │   <span style=\"color: #00af00; text-decoration-color: #00af00\">0</span> (unbuilt) │\n",
       "├─────────────────────────────────┼────────────────────────┼───────────────┤\n",
       "│ batch_normalization             │ ?                      │   <span style=\"color: #00af00; text-decoration-color: #00af00\">0</span> (unbuilt) │\n",
       "│ (<span style=\"color: #0087ff; text-decoration-color: #0087ff\">BatchNormalization</span>)            │                        │               │\n",
       "├─────────────────────────────────┼────────────────────────┼───────────────┤\n",
       "│ dropout (<span style=\"color: #0087ff; text-decoration-color: #0087ff\">Dropout</span>)               │ ?                      │             <span style=\"color: #00af00; text-decoration-color: #00af00\">0</span> │\n",
       "├─────────────────────────────────┼────────────────────────┼───────────────┤\n",
       "│ dense_1 (<span style=\"color: #0087ff; text-decoration-color: #0087ff\">Dense</span>)                 │ ?                      │   <span style=\"color: #00af00; text-decoration-color: #00af00\">0</span> (unbuilt) │\n",
       "└─────────────────────────────────┴────────────────────────┴───────────────┘\n",
       "</pre>\n"
      ],
      "text/plain": [
       "┏━━━━━━━━━━━━━━━━━━━━━━━━━━━━━━━━━┳━━━━━━━━━━━━━━━━━━━━━━━━┳━━━━━━━━━━━━━━━┓\n",
       "┃\u001b[1m \u001b[0m\u001b[1mLayer (type)                   \u001b[0m\u001b[1m \u001b[0m┃\u001b[1m \u001b[0m\u001b[1mOutput Shape          \u001b[0m\u001b[1m \u001b[0m┃\u001b[1m \u001b[0m\u001b[1m      Param #\u001b[0m\u001b[1m \u001b[0m┃\n",
       "┡━━━━━━━━━━━━━━━━━━━━━━━━━━━━━━━━━╇━━━━━━━━━━━━━━━━━━━━━━━━╇━━━━━━━━━━━━━━━┩\n",
       "│ embedding (\u001b[38;5;33mEmbedding\u001b[0m)           │ ?                      │    \u001b[38;5;34m31,067,500\u001b[0m │\n",
       "├─────────────────────────────────┼────────────────────────┼───────────────┤\n",
       "│ lstm (\u001b[38;5;33mLSTM\u001b[0m)                     │ ?                      │   \u001b[38;5;34m0\u001b[0m (unbuilt) │\n",
       "├─────────────────────────────────┼────────────────────────┼───────────────┤\n",
       "│ dense (\u001b[38;5;33mDense\u001b[0m)                   │ ?                      │   \u001b[38;5;34m0\u001b[0m (unbuilt) │\n",
       "├─────────────────────────────────┼────────────────────────┼───────────────┤\n",
       "│ batch_normalization             │ ?                      │   \u001b[38;5;34m0\u001b[0m (unbuilt) │\n",
       "│ (\u001b[38;5;33mBatchNormalization\u001b[0m)            │                        │               │\n",
       "├─────────────────────────────────┼────────────────────────┼───────────────┤\n",
       "│ dropout (\u001b[38;5;33mDropout\u001b[0m)               │ ?                      │             \u001b[38;5;34m0\u001b[0m │\n",
       "├─────────────────────────────────┼────────────────────────┼───────────────┤\n",
       "│ dense_1 (\u001b[38;5;33mDense\u001b[0m)                 │ ?                      │   \u001b[38;5;34m0\u001b[0m (unbuilt) │\n",
       "└─────────────────────────────────┴────────────────────────┴───────────────┘\n"
      ]
     },
     "metadata": {},
     "output_type": "display_data"
    },
    {
     "data": {
      "text/html": [
       "<pre style=\"white-space:pre;overflow-x:auto;line-height:normal;font-family:Menlo,'DejaVu Sans Mono',consolas,'Courier New',monospace\"><span style=\"font-weight: bold\"> Total params: </span><span style=\"color: #00af00; text-decoration-color: #00af00\">31,067,500</span> (118.51 MB)\n",
       "</pre>\n"
      ],
      "text/plain": [
       "\u001b[1m Total params: \u001b[0m\u001b[38;5;34m31,067,500\u001b[0m (118.51 MB)\n"
      ]
     },
     "metadata": {},
     "output_type": "display_data"
    },
    {
     "data": {
      "text/html": [
       "<pre style=\"white-space:pre;overflow-x:auto;line-height:normal;font-family:Menlo,'DejaVu Sans Mono',consolas,'Courier New',monospace\"><span style=\"font-weight: bold\"> Trainable params: </span><span style=\"color: #00af00; text-decoration-color: #00af00\">31,067,500</span> (118.51 MB)\n",
       "</pre>\n"
      ],
      "text/plain": [
       "\u001b[1m Trainable params: \u001b[0m\u001b[38;5;34m31,067,500\u001b[0m (118.51 MB)\n"
      ]
     },
     "metadata": {},
     "output_type": "display_data"
    },
    {
     "data": {
      "text/html": [
       "<pre style=\"white-space:pre;overflow-x:auto;line-height:normal;font-family:Menlo,'DejaVu Sans Mono',consolas,'Courier New',monospace\"><span style=\"font-weight: bold\"> Non-trainable params: </span><span style=\"color: #00af00; text-decoration-color: #00af00\">0</span> (0.00 B)\n",
       "</pre>\n"
      ],
      "text/plain": [
       "\u001b[1m Non-trainable params: \u001b[0m\u001b[38;5;34m0\u001b[0m (0.00 B)\n"
      ]
     },
     "metadata": {},
     "output_type": "display_data"
    },
    {
     "name": "stdout",
     "output_type": "stream",
     "text": [
      "Epoch 1/10\n"
     ]
    },
    {
     "name": "stderr",
     "output_type": "stream",
     "text": [
      "2024-04-20 01:00:21.147264: I external/local_xla/xla/stream_executor/cuda/cuda_dnn.cc:465] Loaded cuDNN version 8907\n"
     ]
    },
    {
     "name": "stdout",
     "output_type": "stream",
     "text": [
      "\u001b[1m782/782\u001b[0m \u001b[32m━━━━━━━━━━━━━━━━━━━━\u001b[0m\u001b[37m\u001b[0m \u001b[1m16s\u001b[0m 17ms/step - accuracy: 0.5749 - loss: 1.2733 - val_accuracy: 0.6378 - val_loss: 0.9415 - combine_accuracy: 0.6378\n",
      "Epoch 2/10\n",
      "\u001b[1m782/782\u001b[0m \u001b[32m━━━━━━━━━━━━━━━━━━━━\u001b[0m\u001b[37m\u001b[0m \u001b[1m12s\u001b[0m 15ms/step - accuracy: 0.6637 - loss: 0.8783 - val_accuracy: 0.6352 - val_loss: 0.9267 - combine_accuracy: 0.6352\n",
      "Epoch 3/10\n",
      "\u001b[1m782/782\u001b[0m \u001b[32m━━━━━━━━━━━━━━━━━━━━\u001b[0m\u001b[37m\u001b[0m \u001b[1m12s\u001b[0m 15ms/step - accuracy: 0.6932 - loss: 0.8005 - val_accuracy: 0.6334 - val_loss: 0.9498 - combine_accuracy: 0.6335\n",
      "Epoch 4/10\n",
      "\u001b[1m782/782\u001b[0m \u001b[32m━━━━━━━━━━━━━━━━━━━━\u001b[0m\u001b[37m\u001b[0m \u001b[1m12s\u001b[0m 15ms/step - accuracy: 0.7263 - loss: 0.7123 - val_accuracy: 0.6316 - val_loss: 0.9910 - combine_accuracy: 0.6317\n",
      "Epoch 5/10\n",
      "\u001b[1m782/782\u001b[0m \u001b[32m━━━━━━━━━━━━━━━━━━━━\u001b[0m\u001b[37m\u001b[0m \u001b[1m12s\u001b[0m 15ms/step - accuracy: 0.7682 - loss: 0.6237 - val_accuracy: 0.6368 - val_loss: 1.1357 - combine_accuracy: 0.6369\n",
      "Epoch 6/10\n",
      "\u001b[1m782/782\u001b[0m \u001b[32m━━━━━━━━━━━━━━━━━━━━\u001b[0m\u001b[37m\u001b[0m \u001b[1m12s\u001b[0m 16ms/step - accuracy: 0.8040 - loss: 0.5403 - val_accuracy: 0.6048 - val_loss: 1.2367 - combine_accuracy: 0.6050\n",
      "Epoch 7/10\n",
      "\u001b[1m782/782\u001b[0m \u001b[32m━━━━━━━━━━━━━━━━━━━━\u001b[0m\u001b[37m\u001b[0m \u001b[1m12s\u001b[0m 15ms/step - accuracy: 0.8260 - loss: 0.4854 - val_accuracy: 0.6014 - val_loss: 1.3418 - combine_accuracy: 0.6016\n",
      "Epoch 8/10\n",
      "\u001b[1m782/782\u001b[0m \u001b[32m━━━━━━━━━━━━━━━━━━━━\u001b[0m\u001b[37m\u001b[0m \u001b[1m12s\u001b[0m 15ms/step - accuracy: 0.8352 - loss: 0.4496 - val_accuracy: 0.5992 - val_loss: 1.4083 - combine_accuracy: 0.5994\n",
      "Epoch 9/10\n",
      "\u001b[1m782/782\u001b[0m \u001b[32m━━━━━━━━━━━━━━━━━━━━\u001b[0m\u001b[37m\u001b[0m \u001b[1m12s\u001b[0m 15ms/step - accuracy: 0.8483 - loss: 0.4177 - val_accuracy: 0.6204 - val_loss: 1.5003 - combine_accuracy: 0.6206\n",
      "Epoch 10/10\n",
      "\u001b[1m782/782\u001b[0m \u001b[32m━━━━━━━━━━━━━━━━━━━━\u001b[0m\u001b[37m\u001b[0m \u001b[1m12s\u001b[0m 15ms/step - accuracy: 0.8576 - loss: 0.3909 - val_accuracy: 0.6152 - val_loss: 1.5406 - combine_accuracy: 0.6154\n",
      "\u001b[1m157/157\u001b[0m \u001b[32m━━━━━━━━━━━━━━━━━━━━\u001b[0m\u001b[37m\u001b[0m \u001b[1m0s\u001b[0m 2ms/step\n"
     ]
    },
    {
     "data": {
      "text/html": [
       "<pre style=\"white-space:pre;overflow-x:auto;line-height:normal;font-family:Menlo,'DejaVu Sans Mono',consolas,'Courier New',monospace\"><span style=\"font-weight: bold\">Model: \"sequential_1\"</span>\n",
       "</pre>\n"
      ],
      "text/plain": [
       "\u001b[1mModel: \"sequential_1\"\u001b[0m\n"
      ]
     },
     "metadata": {},
     "output_type": "display_data"
    },
    {
     "data": {
      "text/html": [
       "<pre style=\"white-space:pre;overflow-x:auto;line-height:normal;font-family:Menlo,'DejaVu Sans Mono',consolas,'Courier New',monospace\">┏━━━━━━━━━━━━━━━━━━━━━━━━━━━━━━━━━┳━━━━━━━━━━━━━━━━━━━━━━━━┳━━━━━━━━━━━━━━━┓\n",
       "┃<span style=\"font-weight: bold\"> Layer (type)                    </span>┃<span style=\"font-weight: bold\"> Output Shape           </span>┃<span style=\"font-weight: bold\">       Param # </span>┃\n",
       "┡━━━━━━━━━━━━━━━━━━━━━━━━━━━━━━━━━╇━━━━━━━━━━━━━━━━━━━━━━━━╇━━━━━━━━━━━━━━━┩\n",
       "│ embedding_1 (<span style=\"color: #0087ff; text-decoration-color: #0087ff\">Embedding</span>)         │ ?                      │    <span style=\"color: #00af00; text-decoration-color: #00af00\">31,067,500</span> │\n",
       "├─────────────────────────────────┼────────────────────────┼───────────────┤\n",
       "│ lstm_1 (<span style=\"color: #0087ff; text-decoration-color: #0087ff\">LSTM</span>)                   │ ?                      │   <span style=\"color: #00af00; text-decoration-color: #00af00\">0</span> (unbuilt) │\n",
       "├─────────────────────────────────┼────────────────────────┼───────────────┤\n",
       "│ dense_2 (<span style=\"color: #0087ff; text-decoration-color: #0087ff\">Dense</span>)                 │ ?                      │   <span style=\"color: #00af00; text-decoration-color: #00af00\">0</span> (unbuilt) │\n",
       "├─────────────────────────────────┼────────────────────────┼───────────────┤\n",
       "│ batch_normalization_1           │ ?                      │   <span style=\"color: #00af00; text-decoration-color: #00af00\">0</span> (unbuilt) │\n",
       "│ (<span style=\"color: #0087ff; text-decoration-color: #0087ff\">BatchNormalization</span>)            │                        │               │\n",
       "├─────────────────────────────────┼────────────────────────┼───────────────┤\n",
       "│ dropout_1 (<span style=\"color: #0087ff; text-decoration-color: #0087ff\">Dropout</span>)             │ ?                      │             <span style=\"color: #00af00; text-decoration-color: #00af00\">0</span> │\n",
       "├─────────────────────────────────┼────────────────────────┼───────────────┤\n",
       "│ dense_3 (<span style=\"color: #0087ff; text-decoration-color: #0087ff\">Dense</span>)                 │ ?                      │   <span style=\"color: #00af00; text-decoration-color: #00af00\">0</span> (unbuilt) │\n",
       "└─────────────────────────────────┴────────────────────────┴───────────────┘\n",
       "</pre>\n"
      ],
      "text/plain": [
       "┏━━━━━━━━━━━━━━━━━━━━━━━━━━━━━━━━━┳━━━━━━━━━━━━━━━━━━━━━━━━┳━━━━━━━━━━━━━━━┓\n",
       "┃\u001b[1m \u001b[0m\u001b[1mLayer (type)                   \u001b[0m\u001b[1m \u001b[0m┃\u001b[1m \u001b[0m\u001b[1mOutput Shape          \u001b[0m\u001b[1m \u001b[0m┃\u001b[1m \u001b[0m\u001b[1m      Param #\u001b[0m\u001b[1m \u001b[0m┃\n",
       "┡━━━━━━━━━━━━━━━━━━━━━━━━━━━━━━━━━╇━━━━━━━━━━━━━━━━━━━━━━━━╇━━━━━━━━━━━━━━━┩\n",
       "│ embedding_1 (\u001b[38;5;33mEmbedding\u001b[0m)         │ ?                      │    \u001b[38;5;34m31,067,500\u001b[0m │\n",
       "├─────────────────────────────────┼────────────────────────┼───────────────┤\n",
       "│ lstm_1 (\u001b[38;5;33mLSTM\u001b[0m)                   │ ?                      │   \u001b[38;5;34m0\u001b[0m (unbuilt) │\n",
       "├─────────────────────────────────┼────────────────────────┼───────────────┤\n",
       "│ dense_2 (\u001b[38;5;33mDense\u001b[0m)                 │ ?                      │   \u001b[38;5;34m0\u001b[0m (unbuilt) │\n",
       "├─────────────────────────────────┼────────────────────────┼───────────────┤\n",
       "│ batch_normalization_1           │ ?                      │   \u001b[38;5;34m0\u001b[0m (unbuilt) │\n",
       "│ (\u001b[38;5;33mBatchNormalization\u001b[0m)            │                        │               │\n",
       "├─────────────────────────────────┼────────────────────────┼───────────────┤\n",
       "│ dropout_1 (\u001b[38;5;33mDropout\u001b[0m)             │ ?                      │             \u001b[38;5;34m0\u001b[0m │\n",
       "├─────────────────────────────────┼────────────────────────┼───────────────┤\n",
       "│ dense_3 (\u001b[38;5;33mDense\u001b[0m)                 │ ?                      │   \u001b[38;5;34m0\u001b[0m (unbuilt) │\n",
       "└─────────────────────────────────┴────────────────────────┴───────────────┘\n"
      ]
     },
     "metadata": {},
     "output_type": "display_data"
    },
    {
     "data": {
      "text/html": [
       "<pre style=\"white-space:pre;overflow-x:auto;line-height:normal;font-family:Menlo,'DejaVu Sans Mono',consolas,'Courier New',monospace\"><span style=\"font-weight: bold\"> Total params: </span><span style=\"color: #00af00; text-decoration-color: #00af00\">31,067,500</span> (118.51 MB)\n",
       "</pre>\n"
      ],
      "text/plain": [
       "\u001b[1m Total params: \u001b[0m\u001b[38;5;34m31,067,500\u001b[0m (118.51 MB)\n"
      ]
     },
     "metadata": {},
     "output_type": "display_data"
    },
    {
     "data": {
      "text/html": [
       "<pre style=\"white-space:pre;overflow-x:auto;line-height:normal;font-family:Menlo,'DejaVu Sans Mono',consolas,'Courier New',monospace\"><span style=\"font-weight: bold\"> Trainable params: </span><span style=\"color: #00af00; text-decoration-color: #00af00\">31,067,500</span> (118.51 MB)\n",
       "</pre>\n"
      ],
      "text/plain": [
       "\u001b[1m Trainable params: \u001b[0m\u001b[38;5;34m31,067,500\u001b[0m (118.51 MB)\n"
      ]
     },
     "metadata": {},
     "output_type": "display_data"
    },
    {
     "data": {
      "text/html": [
       "<pre style=\"white-space:pre;overflow-x:auto;line-height:normal;font-family:Menlo,'DejaVu Sans Mono',consolas,'Courier New',monospace\"><span style=\"font-weight: bold\"> Non-trainable params: </span><span style=\"color: #00af00; text-decoration-color: #00af00\">0</span> (0.00 B)\n",
       "</pre>\n"
      ],
      "text/plain": [
       "\u001b[1m Non-trainable params: \u001b[0m\u001b[38;5;34m0\u001b[0m (0.00 B)\n"
      ]
     },
     "metadata": {},
     "output_type": "display_data"
    },
    {
     "name": "stdout",
     "output_type": "stream",
     "text": [
      "Epoch 1/10\n",
      "\u001b[1m782/782\u001b[0m \u001b[32m━━━━━━━━━━━━━━━━━━━━\u001b[0m\u001b[37m\u001b[0m \u001b[1m48s\u001b[0m 58ms/step - accuracy: 0.4123 - loss: 1.7012 - val_accuracy: 0.5936 - val_loss: 1.1923 - combine_accuracy: 0.5935\n",
      "Epoch 2/10\n",
      "\u001b[1m782/782\u001b[0m \u001b[32m━━━━━━━━━━━━━━━━━━━━\u001b[0m\u001b[37m\u001b[0m \u001b[1m45s\u001b[0m 57ms/step - accuracy: 0.6004 - loss: 1.2016 - val_accuracy: 0.5936 - val_loss: 1.1900 - combine_accuracy: 0.5936\n",
      "Epoch 3/10\n",
      "\u001b[1m782/782\u001b[0m \u001b[32m━━━━━━━━━━━━━━━━━━━━\u001b[0m\u001b[37m\u001b[0m \u001b[1m45s\u001b[0m 57ms/step - accuracy: 0.6056 - loss: 1.1726 - val_accuracy: 0.6264 - val_loss: 0.9723 - combine_accuracy: 0.6264\n",
      "Epoch 4/10\n",
      "\u001b[1m782/782\u001b[0m \u001b[32m━━━━━━━━━━━━━━━━━━━━\u001b[0m\u001b[37m\u001b[0m \u001b[1m45s\u001b[0m 58ms/step - accuracy: 0.6265 - loss: 0.9970 - val_accuracy: 0.6368 - val_loss: 0.9259 - combine_accuracy: 0.6368\n",
      "Epoch 5/10\n",
      "\u001b[1m782/782\u001b[0m \u001b[32m━━━━━━━━━━━━━━━━━━━━\u001b[0m\u001b[37m\u001b[0m \u001b[1m45s\u001b[0m 57ms/step - accuracy: 0.6354 - loss: 0.9513 - val_accuracy: 0.6446 - val_loss: 0.9138 - combine_accuracy: 0.6446\n",
      "Epoch 6/10\n",
      "\u001b[1m782/782\u001b[0m \u001b[32m━━━━━━━━━━━━━━━━━━━━\u001b[0m\u001b[37m\u001b[0m \u001b[1m45s\u001b[0m 57ms/step - accuracy: 0.6404 - loss: 0.9259 - val_accuracy: 0.6484 - val_loss: 0.9071 - combine_accuracy: 0.6484\n",
      "Epoch 7/10\n",
      "\u001b[1m782/782\u001b[0m \u001b[32m━━━━━━━━━━━━━━━━━━━━\u001b[0m\u001b[37m\u001b[0m \u001b[1m44s\u001b[0m 56ms/step - accuracy: 0.6567 - loss: 0.9012 - val_accuracy: 0.6454 - val_loss: 0.9075 - combine_accuracy: 0.6454\n",
      "Epoch 8/10\n",
      "\u001b[1m782/782\u001b[0m \u001b[32m━━━━━━━━━━━━━━━━━━━━\u001b[0m\u001b[37m\u001b[0m \u001b[1m44s\u001b[0m 57ms/step - accuracy: 0.6591 - loss: 0.8768 - val_accuracy: 0.6536 - val_loss: 0.9010 - combine_accuracy: 0.6536\n",
      "Epoch 9/10\n",
      "\u001b[1m782/782\u001b[0m \u001b[32m━━━━━━━━━━━━━━━━━━━━\u001b[0m\u001b[37m\u001b[0m \u001b[1m44s\u001b[0m 56ms/step - accuracy: 0.6724 - loss: 0.8548 - val_accuracy: 0.6482 - val_loss: 0.9121 - combine_accuracy: 0.6482\n",
      "Epoch 10/10\n",
      "\u001b[1m782/782\u001b[0m \u001b[32m━━━━━━━━━━━━━━━━━━━━\u001b[0m\u001b[37m\u001b[0m \u001b[1m45s\u001b[0m 57ms/step - accuracy: 0.6797 - loss: 0.8368 - val_accuracy: 0.6544 - val_loss: 0.9227 - combine_accuracy: 0.6544\n",
      "\u001b[1m157/157\u001b[0m \u001b[32m━━━━━━━━━━━━━━━━━━━━\u001b[0m\u001b[37m\u001b[0m \u001b[1m3s\u001b[0m 17ms/step\n"
     ]
    },
    {
     "data": {
      "text/html": [
       "<pre style=\"white-space:pre;overflow-x:auto;line-height:normal;font-family:Menlo,'DejaVu Sans Mono',consolas,'Courier New',monospace\"><span style=\"font-weight: bold\">Model: \"sequential_2\"</span>\n",
       "</pre>\n"
      ],
      "text/plain": [
       "\u001b[1mModel: \"sequential_2\"\u001b[0m\n"
      ]
     },
     "metadata": {},
     "output_type": "display_data"
    },
    {
     "data": {
      "text/html": [
       "<pre style=\"white-space:pre;overflow-x:auto;line-height:normal;font-family:Menlo,'DejaVu Sans Mono',consolas,'Courier New',monospace\">┏━━━━━━━━━━━━━━━━━━━━━━━━━━━━━━━━━┳━━━━━━━━━━━━━━━━━━━━━━━━┳━━━━━━━━━━━━━━━┓\n",
       "┃<span style=\"font-weight: bold\"> Layer (type)                    </span>┃<span style=\"font-weight: bold\"> Output Shape           </span>┃<span style=\"font-weight: bold\">       Param # </span>┃\n",
       "┡━━━━━━━━━━━━━━━━━━━━━━━━━━━━━━━━━╇━━━━━━━━━━━━━━━━━━━━━━━━╇━━━━━━━━━━━━━━━┩\n",
       "│ embedding_2 (<span style=\"color: #0087ff; text-decoration-color: #0087ff\">Embedding</span>)         │ ?                      │    <span style=\"color: #00af00; text-decoration-color: #00af00\">31,067,500</span> │\n",
       "├─────────────────────────────────┼────────────────────────┼───────────────┤\n",
       "│ lstm_2 (<span style=\"color: #0087ff; text-decoration-color: #0087ff\">LSTM</span>)                   │ ?                      │   <span style=\"color: #00af00; text-decoration-color: #00af00\">0</span> (unbuilt) │\n",
       "├─────────────────────────────────┼────────────────────────┼───────────────┤\n",
       "│ dense_4 (<span style=\"color: #0087ff; text-decoration-color: #0087ff\">Dense</span>)                 │ ?                      │   <span style=\"color: #00af00; text-decoration-color: #00af00\">0</span> (unbuilt) │\n",
       "├─────────────────────────────────┼────────────────────────┼───────────────┤\n",
       "│ batch_normalization_2           │ ?                      │   <span style=\"color: #00af00; text-decoration-color: #00af00\">0</span> (unbuilt) │\n",
       "│ (<span style=\"color: #0087ff; text-decoration-color: #0087ff\">BatchNormalization</span>)            │                        │               │\n",
       "├─────────────────────────────────┼────────────────────────┼───────────────┤\n",
       "│ dropout_2 (<span style=\"color: #0087ff; text-decoration-color: #0087ff\">Dropout</span>)             │ ?                      │             <span style=\"color: #00af00; text-decoration-color: #00af00\">0</span> │\n",
       "├─────────────────────────────────┼────────────────────────┼───────────────┤\n",
       "│ dense_5 (<span style=\"color: #0087ff; text-decoration-color: #0087ff\">Dense</span>)                 │ ?                      │   <span style=\"color: #00af00; text-decoration-color: #00af00\">0</span> (unbuilt) │\n",
       "└─────────────────────────────────┴────────────────────────┴───────────────┘\n",
       "</pre>\n"
      ],
      "text/plain": [
       "┏━━━━━━━━━━━━━━━━━━━━━━━━━━━━━━━━━┳━━━━━━━━━━━━━━━━━━━━━━━━┳━━━━━━━━━━━━━━━┓\n",
       "┃\u001b[1m \u001b[0m\u001b[1mLayer (type)                   \u001b[0m\u001b[1m \u001b[0m┃\u001b[1m \u001b[0m\u001b[1mOutput Shape          \u001b[0m\u001b[1m \u001b[0m┃\u001b[1m \u001b[0m\u001b[1m      Param #\u001b[0m\u001b[1m \u001b[0m┃\n",
       "┡━━━━━━━━━━━━━━━━━━━━━━━━━━━━━━━━━╇━━━━━━━━━━━━━━━━━━━━━━━━╇━━━━━━━━━━━━━━━┩\n",
       "│ embedding_2 (\u001b[38;5;33mEmbedding\u001b[0m)         │ ?                      │    \u001b[38;5;34m31,067,500\u001b[0m │\n",
       "├─────────────────────────────────┼────────────────────────┼───────────────┤\n",
       "│ lstm_2 (\u001b[38;5;33mLSTM\u001b[0m)                   │ ?                      │   \u001b[38;5;34m0\u001b[0m (unbuilt) │\n",
       "├─────────────────────────────────┼────────────────────────┼───────────────┤\n",
       "│ dense_4 (\u001b[38;5;33mDense\u001b[0m)                 │ ?                      │   \u001b[38;5;34m0\u001b[0m (unbuilt) │\n",
       "├─────────────────────────────────┼────────────────────────┼───────────────┤\n",
       "│ batch_normalization_2           │ ?                      │   \u001b[38;5;34m0\u001b[0m (unbuilt) │\n",
       "│ (\u001b[38;5;33mBatchNormalization\u001b[0m)            │                        │               │\n",
       "├─────────────────────────────────┼────────────────────────┼───────────────┤\n",
       "│ dropout_2 (\u001b[38;5;33mDropout\u001b[0m)             │ ?                      │             \u001b[38;5;34m0\u001b[0m │\n",
       "├─────────────────────────────────┼────────────────────────┼───────────────┤\n",
       "│ dense_5 (\u001b[38;5;33mDense\u001b[0m)                 │ ?                      │   \u001b[38;5;34m0\u001b[0m (unbuilt) │\n",
       "└─────────────────────────────────┴────────────────────────┴───────────────┘\n"
      ]
     },
     "metadata": {},
     "output_type": "display_data"
    },
    {
     "data": {
      "text/html": [
       "<pre style=\"white-space:pre;overflow-x:auto;line-height:normal;font-family:Menlo,'DejaVu Sans Mono',consolas,'Courier New',monospace\"><span style=\"font-weight: bold\"> Total params: </span><span style=\"color: #00af00; text-decoration-color: #00af00\">31,067,500</span> (118.51 MB)\n",
       "</pre>\n"
      ],
      "text/plain": [
       "\u001b[1m Total params: \u001b[0m\u001b[38;5;34m31,067,500\u001b[0m (118.51 MB)\n"
      ]
     },
     "metadata": {},
     "output_type": "display_data"
    },
    {
     "data": {
      "text/html": [
       "<pre style=\"white-space:pre;overflow-x:auto;line-height:normal;font-family:Menlo,'DejaVu Sans Mono',consolas,'Courier New',monospace\"><span style=\"font-weight: bold\"> Trainable params: </span><span style=\"color: #00af00; text-decoration-color: #00af00\">31,067,500</span> (118.51 MB)\n",
       "</pre>\n"
      ],
      "text/plain": [
       "\u001b[1m Trainable params: \u001b[0m\u001b[38;5;34m31,067,500\u001b[0m (118.51 MB)\n"
      ]
     },
     "metadata": {},
     "output_type": "display_data"
    },
    {
     "data": {
      "text/html": [
       "<pre style=\"white-space:pre;overflow-x:auto;line-height:normal;font-family:Menlo,'DejaVu Sans Mono',consolas,'Courier New',monospace\"><span style=\"font-weight: bold\"> Non-trainable params: </span><span style=\"color: #00af00; text-decoration-color: #00af00\">0</span> (0.00 B)\n",
       "</pre>\n"
      ],
      "text/plain": [
       "\u001b[1m Non-trainable params: \u001b[0m\u001b[38;5;34m0\u001b[0m (0.00 B)\n"
      ]
     },
     "metadata": {},
     "output_type": "display_data"
    },
    {
     "name": "stdout",
     "output_type": "stream",
     "text": [
      "Epoch 1/10\n",
      "\u001b[1m782/782\u001b[0m \u001b[32m━━━━━━━━━━━━━━━━━━━━\u001b[0m\u001b[37m\u001b[0m \u001b[1m15s\u001b[0m 17ms/step - accuracy: 0.5933 - loss: 1.1840 - val_accuracy: 0.6328 - val_loss: 0.9646 - combine_accuracy: 0.6328\n",
      "Epoch 2/10\n",
      "\u001b[1m782/782\u001b[0m \u001b[32m━━━━━━━━━━━━━━━━━━━━\u001b[0m\u001b[37m\u001b[0m \u001b[1m12s\u001b[0m 16ms/step - accuracy: 0.6719 - loss: 0.8497 - val_accuracy: 0.5764 - val_loss: 1.0222 - combine_accuracy: 0.5765\n",
      "Epoch 3/10\n",
      "\u001b[1m782/782\u001b[0m \u001b[32m━━━━━━━━━━━━━━━━━━━━\u001b[0m\u001b[37m\u001b[0m \u001b[1m13s\u001b[0m 17ms/step - accuracy: 0.6954 - loss: 0.7853 - val_accuracy: 0.6452 - val_loss: 0.9613 - combine_accuracy: 0.6453\n",
      "Epoch 4/10\n",
      "\u001b[1m782/782\u001b[0m \u001b[32m━━━━━━━━━━━━━━━━━━━━\u001b[0m\u001b[37m\u001b[0m \u001b[1m13s\u001b[0m 17ms/step - accuracy: 0.7325 - loss: 0.6979 - val_accuracy: 0.6478 - val_loss: 0.9927 - combine_accuracy: 0.6479\n",
      "Epoch 5/10\n",
      "\u001b[1m782/782\u001b[0m \u001b[32m━━━━━━━━━━━━━━━━━━━━\u001b[0m\u001b[37m\u001b[0m \u001b[1m12s\u001b[0m 16ms/step - accuracy: 0.7773 - loss: 0.5934 - val_accuracy: 0.6226 - val_loss: 1.1147 - combine_accuracy: 0.6228\n",
      "Epoch 6/10\n",
      "\u001b[1m782/782\u001b[0m \u001b[32m━━━━━━━━━━━━━━━━━━━━\u001b[0m\u001b[37m\u001b[0m \u001b[1m12s\u001b[0m 16ms/step - accuracy: 0.8106 - loss: 0.5098 - val_accuracy: 0.6338 - val_loss: 1.2643 - combine_accuracy: 0.6340\n",
      "Epoch 7/10\n",
      "\u001b[1m782/782\u001b[0m \u001b[32m━━━━━━━━━━━━━━━━━━━━\u001b[0m\u001b[37m\u001b[0m \u001b[1m12s\u001b[0m 16ms/step - accuracy: 0.8349 - loss: 0.4529 - val_accuracy: 0.6124 - val_loss: 1.3852 - combine_accuracy: 0.6126\n",
      "Epoch 8/10\n",
      "\u001b[1m782/782\u001b[0m \u001b[32m━━━━━━━━━━━━━━━━━━━━\u001b[0m\u001b[37m\u001b[0m \u001b[1m12s\u001b[0m 16ms/step - accuracy: 0.8507 - loss: 0.4088 - val_accuracy: 0.5958 - val_loss: 1.5482 - combine_accuracy: 0.5961\n",
      "Epoch 9/10\n",
      "\u001b[1m782/782\u001b[0m \u001b[32m━━━━━━━━━━━━━━━━━━━━\u001b[0m\u001b[37m\u001b[0m \u001b[1m12s\u001b[0m 16ms/step - accuracy: 0.8664 - loss: 0.3669 - val_accuracy: 0.6044 - val_loss: 1.6396 - combine_accuracy: 0.6047\n",
      "Epoch 10/10\n",
      "\u001b[1m782/782\u001b[0m \u001b[32m━━━━━━━━━━━━━━━━━━━━\u001b[0m\u001b[37m\u001b[0m \u001b[1m12s\u001b[0m 16ms/step - accuracy: 0.8768 - loss: 0.3373 - val_accuracy: 0.6244 - val_loss: 1.7595 - combine_accuracy: 0.6246\n",
      "\u001b[1m157/157\u001b[0m \u001b[32m━━━━━━━━━━━━━━━━━━━━\u001b[0m\u001b[37m\u001b[0m \u001b[1m0s\u001b[0m 3ms/step\n"
     ]
    },
    {
     "data": {
      "text/html": [
       "<pre style=\"white-space:pre;overflow-x:auto;line-height:normal;font-family:Menlo,'DejaVu Sans Mono',consolas,'Courier New',monospace\"><span style=\"font-weight: bold\">Model: \"sequential_3\"</span>\n",
       "</pre>\n"
      ],
      "text/plain": [
       "\u001b[1mModel: \"sequential_3\"\u001b[0m\n"
      ]
     },
     "metadata": {},
     "output_type": "display_data"
    },
    {
     "data": {
      "text/html": [
       "<pre style=\"white-space:pre;overflow-x:auto;line-height:normal;font-family:Menlo,'DejaVu Sans Mono',consolas,'Courier New',monospace\">┏━━━━━━━━━━━━━━━━━━━━━━━━━━━━━━━━━┳━━━━━━━━━━━━━━━━━━━━━━━━┳━━━━━━━━━━━━━━━┓\n",
       "┃<span style=\"font-weight: bold\"> Layer (type)                    </span>┃<span style=\"font-weight: bold\"> Output Shape           </span>┃<span style=\"font-weight: bold\">       Param # </span>┃\n",
       "┡━━━━━━━━━━━━━━━━━━━━━━━━━━━━━━━━━╇━━━━━━━━━━━━━━━━━━━━━━━━╇━━━━━━━━━━━━━━━┩\n",
       "│ embedding_3 (<span style=\"color: #0087ff; text-decoration-color: #0087ff\">Embedding</span>)         │ ?                      │    <span style=\"color: #00af00; text-decoration-color: #00af00\">31,067,500</span> │\n",
       "├─────────────────────────────────┼────────────────────────┼───────────────┤\n",
       "│ lstm_3 (<span style=\"color: #0087ff; text-decoration-color: #0087ff\">LSTM</span>)                   │ ?                      │   <span style=\"color: #00af00; text-decoration-color: #00af00\">0</span> (unbuilt) │\n",
       "├─────────────────────────────────┼────────────────────────┼───────────────┤\n",
       "│ dense_6 (<span style=\"color: #0087ff; text-decoration-color: #0087ff\">Dense</span>)                 │ ?                      │   <span style=\"color: #00af00; text-decoration-color: #00af00\">0</span> (unbuilt) │\n",
       "├─────────────────────────────────┼────────────────────────┼───────────────┤\n",
       "│ batch_normalization_3           │ ?                      │   <span style=\"color: #00af00; text-decoration-color: #00af00\">0</span> (unbuilt) │\n",
       "│ (<span style=\"color: #0087ff; text-decoration-color: #0087ff\">BatchNormalization</span>)            │                        │               │\n",
       "├─────────────────────────────────┼────────────────────────┼───────────────┤\n",
       "│ dropout_3 (<span style=\"color: #0087ff; text-decoration-color: #0087ff\">Dropout</span>)             │ ?                      │             <span style=\"color: #00af00; text-decoration-color: #00af00\">0</span> │\n",
       "├─────────────────────────────────┼────────────────────────┼───────────────┤\n",
       "│ dense_7 (<span style=\"color: #0087ff; text-decoration-color: #0087ff\">Dense</span>)                 │ ?                      │   <span style=\"color: #00af00; text-decoration-color: #00af00\">0</span> (unbuilt) │\n",
       "└─────────────────────────────────┴────────────────────────┴───────────────┘\n",
       "</pre>\n"
      ],
      "text/plain": [
       "┏━━━━━━━━━━━━━━━━━━━━━━━━━━━━━━━━━┳━━━━━━━━━━━━━━━━━━━━━━━━┳━━━━━━━━━━━━━━━┓\n",
       "┃\u001b[1m \u001b[0m\u001b[1mLayer (type)                   \u001b[0m\u001b[1m \u001b[0m┃\u001b[1m \u001b[0m\u001b[1mOutput Shape          \u001b[0m\u001b[1m \u001b[0m┃\u001b[1m \u001b[0m\u001b[1m      Param #\u001b[0m\u001b[1m \u001b[0m┃\n",
       "┡━━━━━━━━━━━━━━━━━━━━━━━━━━━━━━━━━╇━━━━━━━━━━━━━━━━━━━━━━━━╇━━━━━━━━━━━━━━━┩\n",
       "│ embedding_3 (\u001b[38;5;33mEmbedding\u001b[0m)         │ ?                      │    \u001b[38;5;34m31,067,500\u001b[0m │\n",
       "├─────────────────────────────────┼────────────────────────┼───────────────┤\n",
       "│ lstm_3 (\u001b[38;5;33mLSTM\u001b[0m)                   │ ?                      │   \u001b[38;5;34m0\u001b[0m (unbuilt) │\n",
       "├─────────────────────────────────┼────────────────────────┼───────────────┤\n",
       "│ dense_6 (\u001b[38;5;33mDense\u001b[0m)                 │ ?                      │   \u001b[38;5;34m0\u001b[0m (unbuilt) │\n",
       "├─────────────────────────────────┼────────────────────────┼───────────────┤\n",
       "│ batch_normalization_3           │ ?                      │   \u001b[38;5;34m0\u001b[0m (unbuilt) │\n",
       "│ (\u001b[38;5;33mBatchNormalization\u001b[0m)            │                        │               │\n",
       "├─────────────────────────────────┼────────────────────────┼───────────────┤\n",
       "│ dropout_3 (\u001b[38;5;33mDropout\u001b[0m)             │ ?                      │             \u001b[38;5;34m0\u001b[0m │\n",
       "├─────────────────────────────────┼────────────────────────┼───────────────┤\n",
       "│ dense_7 (\u001b[38;5;33mDense\u001b[0m)                 │ ?                      │   \u001b[38;5;34m0\u001b[0m (unbuilt) │\n",
       "└─────────────────────────────────┴────────────────────────┴───────────────┘\n"
      ]
     },
     "metadata": {},
     "output_type": "display_data"
    },
    {
     "data": {
      "text/html": [
       "<pre style=\"white-space:pre;overflow-x:auto;line-height:normal;font-family:Menlo,'DejaVu Sans Mono',consolas,'Courier New',monospace\"><span style=\"font-weight: bold\"> Total params: </span><span style=\"color: #00af00; text-decoration-color: #00af00\">31,067,500</span> (118.51 MB)\n",
       "</pre>\n"
      ],
      "text/plain": [
       "\u001b[1m Total params: \u001b[0m\u001b[38;5;34m31,067,500\u001b[0m (118.51 MB)\n"
      ]
     },
     "metadata": {},
     "output_type": "display_data"
    },
    {
     "data": {
      "text/html": [
       "<pre style=\"white-space:pre;overflow-x:auto;line-height:normal;font-family:Menlo,'DejaVu Sans Mono',consolas,'Courier New',monospace\"><span style=\"font-weight: bold\"> Trainable params: </span><span style=\"color: #00af00; text-decoration-color: #00af00\">31,067,500</span> (118.51 MB)\n",
       "</pre>\n"
      ],
      "text/plain": [
       "\u001b[1m Trainable params: \u001b[0m\u001b[38;5;34m31,067,500\u001b[0m (118.51 MB)\n"
      ]
     },
     "metadata": {},
     "output_type": "display_data"
    },
    {
     "data": {
      "text/html": [
       "<pre style=\"white-space:pre;overflow-x:auto;line-height:normal;font-family:Menlo,'DejaVu Sans Mono',consolas,'Courier New',monospace\"><span style=\"font-weight: bold\"> Non-trainable params: </span><span style=\"color: #00af00; text-decoration-color: #00af00\">0</span> (0.00 B)\n",
       "</pre>\n"
      ],
      "text/plain": [
       "\u001b[1m Non-trainable params: \u001b[0m\u001b[38;5;34m0\u001b[0m (0.00 B)\n"
      ]
     },
     "metadata": {},
     "output_type": "display_data"
    },
    {
     "name": "stdout",
     "output_type": "stream",
     "text": [
      "Epoch 1/10\n",
      "\u001b[1m782/782\u001b[0m \u001b[32m━━━━━━━━━━━━━━━━━━━━\u001b[0m\u001b[37m\u001b[0m \u001b[1m42s\u001b[0m 50ms/step - accuracy: 0.4274 - loss: 1.6946 - val_accuracy: 0.5934 - val_loss: 1.1930 - combine_accuracy: 0.5933\n",
      "Epoch 2/10\n",
      "\u001b[1m782/782\u001b[0m \u001b[32m━━━━━━━━━━━━━━━━━━━━\u001b[0m\u001b[37m\u001b[0m \u001b[1m39s\u001b[0m 50ms/step - accuracy: 0.5996 - loss: 1.1896 - val_accuracy: 0.6270 - val_loss: 0.9811 - combine_accuracy: 0.6270\n",
      "Epoch 3/10\n",
      "\u001b[1m782/782\u001b[0m \u001b[32m━━━━━━━━━━━━━━━━━━━━\u001b[0m\u001b[37m\u001b[0m \u001b[1m39s\u001b[0m 50ms/step - accuracy: 0.6207 - loss: 1.0159 - val_accuracy: 0.6336 - val_loss: 0.9440 - combine_accuracy: 0.6336\n",
      "Epoch 4/10\n",
      "\u001b[1m782/782\u001b[0m \u001b[32m━━━━━━━━━━━━━━━━━━━━\u001b[0m\u001b[37m\u001b[0m \u001b[1m39s\u001b[0m 50ms/step - accuracy: 0.6362 - loss: 0.9600 - val_accuracy: 0.6466 - val_loss: 0.9097 - combine_accuracy: 0.6466\n",
      "Epoch 5/10\n",
      "\u001b[1m782/782\u001b[0m \u001b[32m━━━━━━━━━━━━━━━━━━━━\u001b[0m\u001b[37m\u001b[0m \u001b[1m38s\u001b[0m 49ms/step - accuracy: 0.6471 - loss: 0.9256 - val_accuracy: 0.6464 - val_loss: 0.8974 - combine_accuracy: 0.6464\n",
      "Epoch 6/10\n",
      "\u001b[1m782/782\u001b[0m \u001b[32m━━━━━━━━━━━━━━━━━━━━\u001b[0m\u001b[37m\u001b[0m \u001b[1m40s\u001b[0m 51ms/step - accuracy: 0.6549 - loss: 0.8966 - val_accuracy: 0.6520 - val_loss: 0.8898 - combine_accuracy: 0.6520\n",
      "Epoch 7/10\n",
      "\u001b[1m782/782\u001b[0m \u001b[32m━━━━━━━━━━━━━━━━━━━━\u001b[0m\u001b[37m\u001b[0m \u001b[1m39s\u001b[0m 49ms/step - accuracy: 0.6642 - loss: 0.8770 - val_accuracy: 0.6108 - val_loss: 0.9702 - combine_accuracy: 0.6109\n",
      "Epoch 8/10\n",
      "\u001b[1m782/782\u001b[0m \u001b[32m━━━━━━━━━━━━━━━━━━━━\u001b[0m\u001b[37m\u001b[0m \u001b[1m39s\u001b[0m 49ms/step - accuracy: 0.6754 - loss: 0.8504 - val_accuracy: 0.6496 - val_loss: 0.8950 - combine_accuracy: 0.6496\n",
      "Epoch 9/10\n",
      "\u001b[1m782/782\u001b[0m \u001b[32m━━━━━━━━━━━━━━━━━━━━\u001b[0m\u001b[37m\u001b[0m \u001b[1m39s\u001b[0m 49ms/step - accuracy: 0.6795 - loss: 0.8274 - val_accuracy: 0.6442 - val_loss: 0.9071 - combine_accuracy: 0.6442\n",
      "Epoch 10/10\n",
      "\u001b[1m782/782\u001b[0m \u001b[32m━━━━━━━━━━━━━━━━━━━━\u001b[0m\u001b[37m\u001b[0m \u001b[1m39s\u001b[0m 49ms/step - accuracy: 0.6989 - loss: 0.7956 - val_accuracy: 0.6516 - val_loss: 0.9179 - combine_accuracy: 0.6516\n",
      "\u001b[1m157/157\u001b[0m \u001b[32m━━━━━━━━━━━━━━━━━━━━\u001b[0m\u001b[37m\u001b[0m \u001b[1m3s\u001b[0m 18ms/step\n"
     ]
    }
   ],
   "source": [
    "histories, proxperfs = tune_model(X_train, X_val, Y_train, Y_val, ntoks,\n",
    "               inputsz, w2vsz, embed_model)"
   ]
  },
  {
   "cell_type": "code",
   "execution_count": 48,
   "id": "79657615-4751-4ca0-bbe4-bbb23155c0a7",
   "metadata": {
    "tags": []
   },
   "outputs": [
    {
     "name": "stdout",
     "output_type": "stream",
     "text": [
      "units=64, do=0.0, proximalperf=4385.400000000001\n",
      "units=64, do=0.5, proximalperf=4440.999999999999\n",
      "units=128, do=0.0, proximalperf=4445.0\n",
      "units=128, do=0.5, proximalperf=4445.799999999999\n"
     ]
    },
    {
     "data": {
      "image/png": "[encoded data removed]",
      "text/plain": [
       "<Figure size 1200x1200 with 4 Axes>"
      ]
     },
     "metadata": {},
     "output_type": "display_data"
    }
   ],
   "source": [
    "def plot_tuning(histories, proxperfs):\n",
    "    nrow = 2\n",
    "    ncol = 2\n",
    "    titles = ['units=64, do=0.0', 'units=64, do=0.5', 'units=128, do=0.0', 'units=128, do=0.5']\n",
    "    fig, ax = plt.subplots(nrow, ncol, figsize=(12, 12))\n",
    "    ctr = 0\n",
    "    for ir in range(0, nrow):\n",
    "        for ic in range(0, ncol):\n",
    "            print('{}, proximalperf={}'.format(titles[ctr], proxperfs[ctr]))\n",
    "            ax[ir, ic].plot(histories[ctr].history['accuracy'])\n",
    "            ax[ir, ic].plot(histories[ctr].history['val_accuracy'])\n",
    "            ax[ir, ic].set_title(titles[ctr])\n",
    "            ax[ir, ic].set_ylabel('accuracy')\n",
    "            ax[ir, ic].set_xlabel('epoch')\n",
    "            ax[ir, ic].legend(['train', 'val'], loc='upper left')\n",
    "                                        \n",
    "            ctr += 1\n",
    "    plt.show()\n",
    "            \n",
    "plot_tuning(histories, proxperfs)"
   ]
  },
  {
   "cell_type": "markdown",
   "id": "983b3ae8-749e-42f8-84df-224a63826c89",
   "metadata": {
    "tags": []
   },
   "source": [
    "**As expected the models without dropout demonstrated overfitting in the plots.**\n",
    "\n",
    "**Between the *dropout=0.5* models in the *proximalperf* output, the 128 neuron model showed the best performance.  This means that while accuracy was comparable with the 64 neuron model, the 128 neuron model was less erroneous in the magnitude of difference in star predictions (i.e. being only 1 star off, rather than 2 stars off).**\n",
    "\n",
    "**Hence we will select *dropout=0.5* and 128 neurons for the final model.**"
   ]
  },
  {
   "cell_type": "code",
   "execution_count": 34,
   "id": "c4e2b990-294c-4fb6-bac9-b0630f09c0ca",
   "metadata": {},
   "outputs": [],
   "source": [
    "def finalize_model(X_train, X_test, Y_train, Y_test, ntoks,\n",
    "               inputsz, w2vsz, embed_model):\n",
    "    X_train = X_train\n",
    "    Y_train = Y_train\n",
    "    X_vt = X_test\n",
    "    Y_vt = Y_test\n",
    "\n",
    "    epochs = 30\n",
    "    batch_size = 64\n",
    "    embed_mat = embed_model.wv.vectors\n",
    "    lstmunits = 128\n",
    "    lstmdo = 0.5\n",
    "    rdo = 0.5\n",
    "    fcunits = 128\n",
    "    fcd = 0.5\n",
    "\n",
    "    history, y_preds = train_eval_mod(X_train, X_vt, Y_train, Y_vt, epochs,\n",
    "            batch_size, ntoks, w2vsz, embed_mat, lstmunits, lstmdo,\n",
    "            rdo, fcunits, fcd)\n",
    "    proxperf = get_proximalperf(Y_vt, y_preds)\n",
    "    \n",
    "    return history, proxperf\n",
    "    "
   ]
  },
  {
   "cell_type": "code",
   "execution_count": 35,
   "id": "6bee3bb0-ad09-4505-85d0-a00296300adb",
   "metadata": {
    "tags": []
   },
   "outputs": [
    {
     "data": {
      "text/html": [
       "<pre style=\"white-space:pre;overflow-x:auto;line-height:normal;font-family:Menlo,'DejaVu Sans Mono',consolas,'Courier New',monospace\"><span style=\"font-weight: bold\">Model: \"sequential_4\"</span>\n",
       "</pre>\n"
      ],
      "text/plain": [
       "\u001b[1mModel: \"sequential_4\"\u001b[0m\n"
      ]
     },
     "metadata": {},
     "output_type": "display_data"
    },
    {
     "data": {
      "text/html": [
       "<pre style=\"white-space:pre;overflow-x:auto;line-height:normal;font-family:Menlo,'DejaVu Sans Mono',consolas,'Courier New',monospace\">┏━━━━━━━━━━━━━━━━━━━━━━━━━━━━━━━━━┳━━━━━━━━━━━━━━━━━━━━━━━━┳━━━━━━━━━━━━━━━┓\n",
       "┃<span style=\"font-weight: bold\"> Layer (type)                    </span>┃<span style=\"font-weight: bold\"> Output Shape           </span>┃<span style=\"font-weight: bold\">       Param # </span>┃\n",
       "┡━━━━━━━━━━━━━━━━━━━━━━━━━━━━━━━━━╇━━━━━━━━━━━━━━━━━━━━━━━━╇━━━━━━━━━━━━━━━┩\n",
       "│ embedding_4 (<span style=\"color: #0087ff; text-decoration-color: #0087ff\">Embedding</span>)         │ ?                      │    <span style=\"color: #00af00; text-decoration-color: #00af00\">31,067,500</span> │\n",
       "├─────────────────────────────────┼────────────────────────┼───────────────┤\n",
       "│ lstm_4 (<span style=\"color: #0087ff; text-decoration-color: #0087ff\">LSTM</span>)                   │ ?                      │   <span style=\"color: #00af00; text-decoration-color: #00af00\">0</span> (unbuilt) │\n",
       "├─────────────────────────────────┼────────────────────────┼───────────────┤\n",
       "│ dense_8 (<span style=\"color: #0087ff; text-decoration-color: #0087ff\">Dense</span>)                 │ ?                      │   <span style=\"color: #00af00; text-decoration-color: #00af00\">0</span> (unbuilt) │\n",
       "├─────────────────────────────────┼────────────────────────┼───────────────┤\n",
       "│ batch_normalization_4           │ ?                      │   <span style=\"color: #00af00; text-decoration-color: #00af00\">0</span> (unbuilt) │\n",
       "│ (<span style=\"color: #0087ff; text-decoration-color: #0087ff\">BatchNormalization</span>)            │                        │               │\n",
       "├─────────────────────────────────┼────────────────────────┼───────────────┤\n",
       "│ dropout_4 (<span style=\"color: #0087ff; text-decoration-color: #0087ff\">Dropout</span>)             │ ?                      │             <span style=\"color: #00af00; text-decoration-color: #00af00\">0</span> │\n",
       "├─────────────────────────────────┼────────────────────────┼───────────────┤\n",
       "│ dense_9 (<span style=\"color: #0087ff; text-decoration-color: #0087ff\">Dense</span>)                 │ ?                      │   <span style=\"color: #00af00; text-decoration-color: #00af00\">0</span> (unbuilt) │\n",
       "└─────────────────────────────────┴────────────────────────┴───────────────┘\n",
       "</pre>\n"
      ],
      "text/plain": [
       "┏━━━━━━━━━━━━━━━━━━━━━━━━━━━━━━━━━┳━━━━━━━━━━━━━━━━━━━━━━━━┳━━━━━━━━━━━━━━━┓\n",
       "┃\u001b[1m \u001b[0m\u001b[1mLayer (type)                   \u001b[0m\u001b[1m \u001b[0m┃\u001b[1m \u001b[0m\u001b[1mOutput Shape          \u001b[0m\u001b[1m \u001b[0m┃\u001b[1m \u001b[0m\u001b[1m      Param #\u001b[0m\u001b[1m \u001b[0m┃\n",
       "┡━━━━━━━━━━━━━━━━━━━━━━━━━━━━━━━━━╇━━━━━━━━━━━━━━━━━━━━━━━━╇━━━━━━━━━━━━━━━┩\n",
       "│ embedding_4 (\u001b[38;5;33mEmbedding\u001b[0m)         │ ?                      │    \u001b[38;5;34m31,067,500\u001b[0m │\n",
       "├─────────────────────────────────┼────────────────────────┼───────────────┤\n",
       "│ lstm_4 (\u001b[38;5;33mLSTM\u001b[0m)                   │ ?                      │   \u001b[38;5;34m0\u001b[0m (unbuilt) │\n",
       "├─────────────────────────────────┼────────────────────────┼───────────────┤\n",
       "│ dense_8 (\u001b[38;5;33mDense\u001b[0m)                 │ ?                      │   \u001b[38;5;34m0\u001b[0m (unbuilt) │\n",
       "├─────────────────────────────────┼────────────────────────┼───────────────┤\n",
       "│ batch_normalization_4           │ ?                      │   \u001b[38;5;34m0\u001b[0m (unbuilt) │\n",
       "│ (\u001b[38;5;33mBatchNormalization\u001b[0m)            │                        │               │\n",
       "├─────────────────────────────────┼────────────────────────┼───────────────┤\n",
       "│ dropout_4 (\u001b[38;5;33mDropout\u001b[0m)             │ ?                      │             \u001b[38;5;34m0\u001b[0m │\n",
       "├─────────────────────────────────┼────────────────────────┼───────────────┤\n",
       "│ dense_9 (\u001b[38;5;33mDense\u001b[0m)                 │ ?                      │   \u001b[38;5;34m0\u001b[0m (unbuilt) │\n",
       "└─────────────────────────────────┴────────────────────────┴───────────────┘\n"
      ]
     },
     "metadata": {},
     "output_type": "display_data"
    },
    {
     "data": {
      "text/html": [
       "<pre style=\"white-space:pre;overflow-x:auto;line-height:normal;font-family:Menlo,'DejaVu Sans Mono',consolas,'Courier New',monospace\"><span style=\"font-weight: bold\"> Total params: </span><span style=\"color: #00af00; text-decoration-color: #00af00\">31,067,500</span> (118.51 MB)\n",
       "</pre>\n"
      ],
      "text/plain": [
       "\u001b[1m Total params: \u001b[0m\u001b[38;5;34m31,067,500\u001b[0m (118.51 MB)\n"
      ]
     },
     "metadata": {},
     "output_type": "display_data"
    },
    {
     "data": {
      "text/html": [
       "<pre style=\"white-space:pre;overflow-x:auto;line-height:normal;font-family:Menlo,'DejaVu Sans Mono',consolas,'Courier New',monospace\"><span style=\"font-weight: bold\"> Trainable params: </span><span style=\"color: #00af00; text-decoration-color: #00af00\">31,067,500</span> (118.51 MB)\n",
       "</pre>\n"
      ],
      "text/plain": [
       "\u001b[1m Trainable params: \u001b[0m\u001b[38;5;34m31,067,500\u001b[0m (118.51 MB)\n"
      ]
     },
     "metadata": {},
     "output_type": "display_data"
    },
    {
     "data": {
      "text/html": [
       "<pre style=\"white-space:pre;overflow-x:auto;line-height:normal;font-family:Menlo,'DejaVu Sans Mono',consolas,'Courier New',monospace\"><span style=\"font-weight: bold\"> Non-trainable params: </span><span style=\"color: #00af00; text-decoration-color: #00af00\">0</span> (0.00 B)\n",
       "</pre>\n"
      ],
      "text/plain": [
       "\u001b[1m Non-trainable params: \u001b[0m\u001b[38;5;34m0\u001b[0m (0.00 B)\n"
      ]
     },
     "metadata": {},
     "output_type": "display_data"
    },
    {
     "name": "stdout",
     "output_type": "stream",
     "text": [
      "Epoch 1/30\n",
      "\u001b[1m10359/10359\u001b[0m \u001b[32m━━━━━━━━━━━━━━━━━━━━\u001b[0m\u001b[37m\u001b[0m \u001b[1m512s\u001b[0m 49ms/step - accuracy: 0.6024 - loss: 1.0962 - val_accuracy: 0.6760 - val_loss: 0.8316 - combine_accuracy: 0.6759\n",
      "Epoch 2/30\n",
      "\u001b[1m10359/10359\u001b[0m \u001b[32m━━━━━━━━━━━━━━━━━━━━\u001b[0m\u001b[37m\u001b[0m \u001b[1m507s\u001b[0m 49ms/step - accuracy: 0.6659 - loss: 0.8691 - val_accuracy: 0.6799 - val_loss: 0.8186 - combine_accuracy: 0.6799\n",
      "Epoch 3/30\n",
      "\u001b[1m10359/10359\u001b[0m \u001b[32m━━━━━━━━━━━━━━━━━━━━\u001b[0m\u001b[37m\u001b[0m \u001b[1m506s\u001b[0m 49ms/step - accuracy: 0.6747 - loss: 0.8403 - val_accuracy: 0.6803 - val_loss: 0.8215 - combine_accuracy: 0.6803\n",
      "Epoch 4/30\n",
      "\u001b[1m10359/10359\u001b[0m \u001b[32m━━━━━━━━━━━━━━━━━━━━\u001b[0m\u001b[37m\u001b[0m \u001b[1m506s\u001b[0m 49ms/step - accuracy: 0.6860 - loss: 0.8126 - val_accuracy: 0.6790 - val_loss: 0.8243 - combine_accuracy: 0.6790\n",
      "Epoch 5/30\n",
      "\u001b[1m10359/10359\u001b[0m \u001b[32m━━━━━━━━━━━━━━━━━━━━\u001b[0m\u001b[37m\u001b[0m \u001b[1m505s\u001b[0m 49ms/step - accuracy: 0.6977 - loss: 0.7883 - val_accuracy: 0.6761 - val_loss: 0.8371 - combine_accuracy: 0.6762\n",
      "Epoch 6/30\n",
      "\u001b[1m10359/10359\u001b[0m \u001b[32m━━━━━━━━━━━━━━━━━━━━\u001b[0m\u001b[37m\u001b[0m \u001b[1m505s\u001b[0m 49ms/step - accuracy: 0.7080 - loss: 0.7666 - val_accuracy: 0.6729 - val_loss: 0.8496 - combine_accuracy: 0.6730\n",
      "Epoch 7/30\n",
      "\u001b[1m10359/10359\u001b[0m \u001b[32m━━━━━━━━━━━━━━━━━━━━\u001b[0m\u001b[37m\u001b[0m \u001b[1m504s\u001b[0m 49ms/step - accuracy: 0.7176 - loss: 0.7469 - val_accuracy: 0.6705 - val_loss: 0.8662 - combine_accuracy: 0.6705\n",
      "Epoch 8/30\n",
      "\u001b[1m10359/10359\u001b[0m \u001b[32m━━━━━━━━━━━━━━━━━━━━\u001b[0m\u001b[37m\u001b[0m \u001b[1m507s\u001b[0m 49ms/step - accuracy: 0.7249 - loss: 0.7304 - val_accuracy: 0.6690 - val_loss: 0.8756 - combine_accuracy: 0.6691\n",
      "Epoch 9/30\n",
      "\u001b[1m10359/10359\u001b[0m \u001b[32m━━━━━━━━━━━━━━━━━━━━\u001b[0m\u001b[37m\u001b[0m \u001b[1m510s\u001b[0m 49ms/step - accuracy: 0.7299 - loss: 0.7170 - val_accuracy: 0.6695 - val_loss: 0.8876 - combine_accuracy: 0.6696\n",
      "Epoch 10/30\n",
      "\u001b[1m10359/10359\u001b[0m \u001b[32m━━━━━━━━━━━━━━━━━━━━\u001b[0m\u001b[37m\u001b[0m \u001b[1m510s\u001b[0m 49ms/step - accuracy: 0.7345 - loss: 0.7067 - val_accuracy: 0.6666 - val_loss: 0.8917 - combine_accuracy: 0.6667\n",
      "Epoch 11/30\n",
      "\u001b[1m10359/10359\u001b[0m \u001b[32m━━━━━━━━━━━━━━━━━━━━\u001b[0m\u001b[37m\u001b[0m \u001b[1m518s\u001b[0m 50ms/step - accuracy: 0.7373 - loss: 0.6990 - val_accuracy: 0.6657 - val_loss: 0.9040 - combine_accuracy: 0.6657\n",
      "Epoch 12/30\n",
      "\u001b[1m10359/10359\u001b[0m \u001b[32m━━━━━━━━━━━━━━━━━━━━\u001b[0m\u001b[37m\u001b[0m \u001b[1m521s\u001b[0m 50ms/step - accuracy: 0.7388 - loss: 0.6917 - val_accuracy: 0.6664 - val_loss: 0.9175 - combine_accuracy: 0.6665\n",
      "Epoch 13/30\n",
      "\u001b[1m10359/10359\u001b[0m \u001b[32m━━━━━━━━━━━━━━━━━━━━\u001b[0m\u001b[37m\u001b[0m \u001b[1m524s\u001b[0m 51ms/step - accuracy: 0.7424 - loss: 0.6854 - val_accuracy: 0.6669 - val_loss: 0.9066 - combine_accuracy: 0.6670\n",
      "Epoch 14/30\n",
      "\u001b[1m10359/10359\u001b[0m \u001b[32m━━━━━━━━━━━━━━━━━━━━\u001b[0m\u001b[37m\u001b[0m \u001b[1m530s\u001b[0m 51ms/step - accuracy: 0.7428 - loss: 0.6822 - val_accuracy: 0.6666 - val_loss: 0.9277 - combine_accuracy: 0.6667\n",
      "Epoch 15/30\n",
      "\u001b[1m10359/10359\u001b[0m \u001b[32m━━━━━━━━━━━━━━━━━━━━\u001b[0m\u001b[37m\u001b[0m \u001b[1m535s\u001b[0m 52ms/step - accuracy: 0.7462 - loss: 0.6758 - val_accuracy: 0.6652 - val_loss: 0.9334 - combine_accuracy: 0.6653\n",
      "Epoch 16/30\n",
      "\u001b[1m10359/10359\u001b[0m \u001b[32m━━━━━━━━━━━━━━━━━━━━\u001b[0m\u001b[37m\u001b[0m \u001b[1m539s\u001b[0m 52ms/step - accuracy: 0.7471 - loss: 0.6710 - val_accuracy: 0.6642 - val_loss: 0.9397 - combine_accuracy: 0.6643\n",
      "Epoch 17/30\n",
      "\u001b[1m10359/10359\u001b[0m \u001b[32m━━━━━━━━━━━━━━━━━━━━\u001b[0m\u001b[37m\u001b[0m \u001b[1m545s\u001b[0m 53ms/step - accuracy: 0.7483 - loss: 0.6685 - val_accuracy: 0.6631 - val_loss: 0.9412 - combine_accuracy: 0.6632\n",
      "Epoch 18/30\n",
      "\u001b[1m10359/10359\u001b[0m \u001b[32m━━━━━━━━━━━━━━━━━━━━\u001b[0m\u001b[37m\u001b[0m \u001b[1m549s\u001b[0m 53ms/step - accuracy: 0.7488 - loss: 0.6659 - val_accuracy: 0.6647 - val_loss: 0.9317 - combine_accuracy: 0.6648\n",
      "Epoch 19/30\n",
      "\u001b[1m10359/10359\u001b[0m \u001b[32m━━━━━━━━━━━━━━━━━━━━\u001b[0m\u001b[37m\u001b[0m \u001b[1m548s\u001b[0m 53ms/step - accuracy: 0.7509 - loss: 0.6617 - val_accuracy: 0.6624 - val_loss: 0.9414 - combine_accuracy: 0.6625\n",
      "Epoch 20/30\n",
      "\u001b[1m10359/10359\u001b[0m \u001b[32m━━━━━━━━━━━━━━━━━━━━\u001b[0m\u001b[37m\u001b[0m \u001b[1m550s\u001b[0m 53ms/step - accuracy: 0.7517 - loss: 0.6599 - val_accuracy: 0.6647 - val_loss: 0.9464 - combine_accuracy: 0.6648\n",
      "Epoch 21/30\n",
      "\u001b[1m10359/10359\u001b[0m \u001b[32m━━━━━━━━━━━━━━━━━━━━\u001b[0m\u001b[37m\u001b[0m \u001b[1m552s\u001b[0m 53ms/step - accuracy: 0.7531 - loss: 0.6557 - val_accuracy: 0.6636 - val_loss: 0.9441 - combine_accuracy: 0.6637\n",
      "Epoch 22/30\n",
      "\u001b[1m10359/10359\u001b[0m \u001b[32m━━━━━━━━━━━━━━━━━━━━\u001b[0m\u001b[37m\u001b[0m \u001b[1m553s\u001b[0m 53ms/step - accuracy: 0.7535 - loss: 0.6547 - val_accuracy: 0.6601 - val_loss: 0.9702 - combine_accuracy: 0.6602\n",
      "Epoch 23/30\n",
      "\u001b[1m10359/10359\u001b[0m \u001b[32m━━━━━━━━━━━━━━━━━━━━\u001b[0m\u001b[37m\u001b[0m \u001b[1m553s\u001b[0m 53ms/step - accuracy: 0.7546 - loss: 0.6529 - val_accuracy: 0.6608 - val_loss: 0.9560 - combine_accuracy: 0.6609\n",
      "Epoch 24/30\n",
      "\u001b[1m10359/10359\u001b[0m \u001b[32m━━━━━━━━━━━━━━━━━━━━\u001b[0m\u001b[37m\u001b[0m \u001b[1m554s\u001b[0m 53ms/step - accuracy: 0.7547 - loss: 0.6519 - val_accuracy: 0.6573 - val_loss: 0.9653 - combine_accuracy: 0.6574\n",
      "Epoch 25/30\n",
      "\u001b[1m10359/10359\u001b[0m \u001b[32m━━━━━━━━━━━━━━━━━━━━\u001b[0m\u001b[37m\u001b[0m \u001b[1m556s\u001b[0m 54ms/step - accuracy: 0.7567 - loss: 0.6466 - val_accuracy: 0.6613 - val_loss: 0.9542 - combine_accuracy: 0.6614\n",
      "Epoch 26/30\n",
      "\u001b[1m10359/10359\u001b[0m \u001b[32m━━━━━━━━━━━━━━━━━━━━\u001b[0m\u001b[37m\u001b[0m \u001b[1m559s\u001b[0m 54ms/step - accuracy: 0.7582 - loss: 0.6426 - val_accuracy: 0.6594 - val_loss: 0.9774 - combine_accuracy: 0.6595\n",
      "Epoch 27/30\n",
      "\u001b[1m10359/10359\u001b[0m \u001b[32m━━━━━━━━━━━━━━━━━━━━\u001b[0m\u001b[37m\u001b[0m \u001b[1m559s\u001b[0m 54ms/step - accuracy: 0.7594 - loss: 0.6429 - val_accuracy: 0.6581 - val_loss: 0.9738 - combine_accuracy: 0.6582\n",
      "Epoch 28/30\n",
      "\u001b[1m10359/10359\u001b[0m \u001b[32m━━━━━━━━━━━━━━━━━━━━\u001b[0m\u001b[37m\u001b[0m \u001b[1m562s\u001b[0m 54ms/step - accuracy: 0.7599 - loss: 0.6404 - val_accuracy: 0.6562 - val_loss: 0.9800 - combine_accuracy: 0.6563\n",
      "Epoch 29/30\n",
      "\u001b[1m10359/10359\u001b[0m \u001b[32m━━━━━━━━━━━━━━━━━━━━\u001b[0m\u001b[37m\u001b[0m \u001b[1m564s\u001b[0m 54ms/step - accuracy: 0.7589 - loss: 0.6411 - val_accuracy: 0.6575 - val_loss: 0.9928 - combine_accuracy: 0.6576\n",
      "Epoch 30/30\n",
      "\u001b[1m10359/10359\u001b[0m \u001b[32m━━━━━━━━━━━━━━━━━━━━\u001b[0m\u001b[37m\u001b[0m \u001b[1m567s\u001b[0m 55ms/step - accuracy: 0.7602 - loss: 0.6367 - val_accuracy: 0.6595 - val_loss: 0.9735 - combine_accuracy: 0.6596\n",
      "\u001b[1m2590/2590\u001b[0m \u001b[32m━━━━━━━━━━━━━━━━━━━━\u001b[0m\u001b[37m\u001b[0m \u001b[1m46s\u001b[0m 18ms/step\n"
     ]
    }
   ],
   "source": [
    "history, proxperf = finalize_model(X_train, X_test, Y_train, Y_test, ntoks,\n",
    "               inputsz, w2vsz, embed_model)"
   ]
  },
  {
   "cell_type": "code",
   "execution_count": 52,
   "id": "e30aab5f-5709-4840-9bfd-9303d48946b9",
   "metadata": {
    "tags": []
   },
   "outputs": [
    {
     "name": "stdout",
     "output_type": "stream",
     "text": [
      "74672.6\n"
     ]
    },
    {
     "data": {
      "image/png": "[encoded data removed]",
      "text/plain": [
       "<Figure size 640x480 with 1 Axes>"
      ]
     },
     "metadata": {},
     "output_type": "display_data"
    }
   ],
   "source": [
    "print(proxperf)\n",
    "plt.plot(history.history['accuracy'])\n",
    "plt.plot(history.history['val_accuracy'])\n",
    "plt.title('Final Model, 128 neurons, do=0.5')\n",
    "plt.ylabel('accuracy')\n",
    "plt.xlabel('epoch')\n",
    "plt.legend(['train', 'val'], loc='upper left')\n",
    "plt.show()\n"
   ]
  },
  {
   "cell_type": "markdown",
   "id": "13a69067-201a-42c2-be0a-60ff47f63cbf",
   "metadata": {},
   "source": [
    "**Curiously, there seems to be some overfitting in spite of dropout=0.5 in place at the LSTM input, LSTM recurrent state, and the dense layer.  Nonetheless, the validation accuracy remains in range with the hyperparameter tuning results (approx %66) and exceeds the trivial result (%60.3).  Additionally, the *proximalperf* result is the highest, which is what we expected after using a much larger training set and more epochs.**"
   ]
  },
  {
   "cell_type": "code",
   "execution_count": null,
   "id": "52ef5bfe-1fe4-4dea-87f5-e8b0b01fc189",
   "metadata": {},
   "outputs": [],
   "source": []
  }
 ],
 "metadata": {
  "kernelspec": {
   "display_name": "Python 3 (ipykernel)",
   "language": "python",
   "name": "python3"
  },
  "language_info": {
   "codemirror_mode": {
    "name": "ipython",
    "version": 3
   },
   "file_extension": ".py",
   "mimetype": "text/x-python",
   "name": "python",
   "nbconvert_exporter": "python",
   "pygments_lexer": "ipython3",
   "version": "3.11.5"
  }
 },
 "nbformat": 4,
 "nbformat_minor": 5
}
