{
 "cells": [
  {
   "cell_type": "markdown",
   "id": "55d0bdba",
   "metadata": {},
   "source": [
    "### A scratch pad for testing the web service"
   ]
  },
  {
   "cell_type": "code",
   "execution_count": 2,
   "id": "604f6bb0",
   "metadata": {},
   "outputs": [
    {
     "name": "stdout",
     "output_type": "stream",
     "text": [
      "Collecting flask\n",
      "  Downloading flask-3.0.2-py3-none-any.whl (101 kB)\n",
      "\u001b[2K     \u001b[90m━━━━━━━━━━━━━━━━━━━━━━━━━━━━━━━━━━━━━━━\u001b[0m \u001b[32m101.3/101.3 kB\u001b[0m \u001b[31m1.2 MB/s\u001b[0m eta \u001b[36m0:00:00\u001b[0ma \u001b[36m0:00:01\u001b[0m\n",
      "\u001b[?25hCollecting Werkzeug>=3.0.0 (from flask)\n",
      "  Downloading werkzeug-3.0.1-py3-none-any.whl (226 kB)\n",
      "\u001b[2K     \u001b[90m━━━━━━━━━━━━━━━━━━━━━━━━━━━━━━━━━━━━━━━\u001b[0m \u001b[32m226.7/226.7 kB\u001b[0m \u001b[31m3.9 MB/s\u001b[0m eta \u001b[36m0:00:00\u001b[0ma \u001b[36m0:00:01\u001b[0m\n",
      "\u001b[?25hRequirement already satisfied: Jinja2>=3.1.2 in /usr/local/lib/python3.10/dist-packages (from flask) (3.1.2)\n",
      "Collecting itsdangerous>=2.1.2 (from flask)\n",
      "  Downloading itsdangerous-2.1.2-py3-none-any.whl (15 kB)\n",
      "Requirement already satisfied: click>=8.1.3 in /usr/local/lib/python3.10/dist-packages (from flask) (8.1.3)\n",
      "Collecting blinker>=1.6.2 (from flask)\n",
      "  Downloading blinker-1.7.0-py3-none-any.whl (13 kB)\n",
      "Requirement already satisfied: MarkupSafe>=2.0 in /usr/local/lib/python3.10/dist-packages (from Jinja2>=3.1.2->flask) (2.1.3)\n",
      "Installing collected packages: Werkzeug, itsdangerous, blinker, flask\n",
      "  Attempting uninstall: Werkzeug\n",
      "    Found existing installation: Werkzeug 2.3.6\n",
      "    Uninstalling Werkzeug-2.3.6:\n",
      "      Successfully uninstalled Werkzeug-2.3.6\n",
      "Successfully installed Werkzeug-3.0.1 blinker-1.7.0 flask-3.0.2 itsdangerous-2.1.2\n",
      "\u001b[33mWARNING: Running pip as the 'root' user can result in broken permissions and conflicting behaviour with the system package manager. It is recommended to use a virtual environment instead: https://pip.pypa.io/warnings/venv\u001b[0m\u001b[33m\n",
      "\u001b[0m"
     ]
    }
   ],
   "source": [
    "!pip install flask ffmpeg-python xmltodict pytesseract opencv-python matplotlib imutils scikit-image"
   ]
  },
  {
   "cell_type": "markdown",
   "id": "ae3cc9fd",
   "metadata": {},
   "source": [
    "**The following cell will launch the web service**\n",
    "\n",
    "**After the video stream has been ingestd, transformed, and saved/loaded, the following urls become available for GET requests:**\n",
    "\n",
    "* ***http://localhost:8785/performance* for testing the model on the provided vehicle photos.**\n",
    "* ***http://localhost:8785/predictvid* for making predictions on the ingested video.**\n",
    "\n",
    "**The video stream must be launched from a separate terminal using *ffmpeg -i LicensePlateReaderSample_4K-1.mov -vcodec mpeg4 -f mpegts udp://127.0.0.1:23000* from the video directory**"
   ]
  },
  {
   "cell_type": "code",
   "execution_count": 1,
   "id": "675fbcbf",
   "metadata": {},
   "outputs": [
    {
     "name": "stdout",
     "output_type": "stream",
     "text": [
      "Waiting for UDP video stream...\n",
      "UDP stream detected, reading 60s of video...\n",
      "video of dimension (433, 2160, 3840, 3) received\n",
      "reducing fps and slicing frames...\n",
      "fps reduction and slicing complete...\n",
      "transformed video saved, dimensions: (120, 1280, 2560, 3)\n",
      "starting server...\n",
      " * Serving Flask app 'service'\n",
      " * Debug mode: off\n",
      "\u001b[31m\u001b[1mWARNING: This is a development server. Do not use it in a production deployment. Use a production WSGI server instead.\u001b[0m\n",
      " * Running on all addresses (0.0.0.0)\n",
      " * Running on http://127.0.0.1:8785\n",
      " * Running on http://192.168.1.65:8785\n",
      "\u001b[33mPress CTRL+C to quit\u001b[0m\n",
      "Evaluating Yolo bboxes...\n",
      "Evaluating Tesseract-OCR...\n",
      "Generating performance report...\n",
      "Finished.  Check /results/ folder.\n",
      "127.0.0.1 - - [17/Mar/2024 22:16:34] \"GET /performance HTTP/1.1\" 200 -\n",
      "Processing ingested video stream...\n",
      "106 nonblank plates detected.  Check /results/ folder for details.\n",
      "127.0.0.1 - - [17/Mar/2024 22:19:49] \"GET /predictvid HTTP/1.1\" 200 -\n",
      "^C\n"
     ]
    }
   ],
   "source": [
    "!python service.py"
   ]
  },
  {
   "cell_type": "markdown",
   "id": "d367865c",
   "metadata": {},
   "source": []
  },
  {
   "cell_type": "code",
   "execution_count": null,
   "id": "35642138",
   "metadata": {},
   "outputs": [],
   "source": []
  }
 ],
 "metadata": {
  "kernelspec": {
   "display_name": "Python 3 (ipykernel)",
   "language": "python",
   "name": "python3"
  },
  "language_info": {
   "codemirror_mode": {
    "name": "ipython",
    "version": 3
   },
   "file_extension": ".py",
   "mimetype": "text/x-python",
   "name": "python",
   "nbconvert_exporter": "python",
   "pygments_lexer": "ipython3",
   "version": "3.10.6"
  }
 },
 "nbformat": 4,
 "nbformat_minor": 5
}
