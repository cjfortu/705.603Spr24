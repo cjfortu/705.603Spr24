{
 "cells": [
  {
   "cell_type": "markdown",
   "id": "0c94224c-4ece-40d0-9693-81b30e7f1ee3",
   "metadata": {},
   "source": [
    "# Model Analysis\n",
    "\n",
    "**We will use an LSTM-based RNN for multiclass classification.**\n",
    "\n",
    "**The labels will be the star ratings.**\n",
    "\n",
    "**We select a neural network because we want to capture the relationship between reviews and star ratings, we are not primarily concerned with understanding the nature of this relationship, and we have a very large amount of data.**\n",
    "\n",
    "**We select an RNN because the data can be understood as time series.**\n",
    "\n",
    "**We select an LSTM due to their ability to capture both long and short term temporal relationships, including non-sequential or disjoined relationships, which are common in human language.**"
   ]
  },
  {
   "cell_type": "code",
   "execution_count": 1,
   "id": "e98b6461-e7f4-4904-8ed3-cb6f000ce5b5",
   "metadata": {
    "tags": []
   },
   "outputs": [
    {
     "name": "stderr",
     "output_type": "stream",
     "text": [
      "2024-04-21 11:25:42.856152: I tensorflow/core/platform/cpu_feature_guard.cc:210] This TensorFlow binary is optimized to use available CPU instructions in performance-critical operations.\n",
      "To enable the following instructions: AVX2 FMA, in other operations, rebuild TensorFlow with the appropriate compiler flags.\n",
      "2024-04-21 11:25:43.669131: W tensorflow/compiler/tf2tensorrt/utils/py_utils.cc:38] TF-TRT Warning: Could not find TensorRT\n"
     ]
    }
   ],
   "source": [
    "import os\n",
    "os.chdir('/home/clementejasonfortuna/workspace/705.603Portfolio/Multimodal-Analysis/analysis')\n",
    "os.environ['TF_USE_LEGACY_KERAS'] = '1'\n",
    "\n",
    "from collections import deque\n",
    "import pandas as pd\n",
    "import numpy as np\n",
    "import matplotlib.pyplot as plt\n",
    "from pathlib import Path\n",
    "from multiprocessing import Pool\n",
    "from itertools import repeat\n",
    "import time\n",
    "import pickle\n",
    "\n",
    "from Helpers import preprocess, tokentext2seqs\n",
    "\n",
    "from sklearn.feature_extraction.text import CountVectorizer\n",
    "from sklearn.feature_extraction.text import TfidfVectorizer\n",
    "from sklearn.model_selection import train_test_split\n",
    "\n",
    "from gensim.models import Word2Vec\n",
    "from nltk.tokenize import word_tokenize\n",
    "import nltk\n",
    "import contractions\n",
    "import string\n",
    "\n",
    "import tensorrt\n",
    "from tensorflow.keras.utils import pad_sequences\n",
    "import tensorflow.keras.layers as tfkl\n",
    "import tensorflow.keras as tfk\n",
    "from tensorflow.keras.callbacks import ModelCheckpoint\n",
    "from tensorflow.keras import backend as K\n",
    "\n"
   ]
  },
  {
   "cell_type": "code",
   "execution_count": 2,
   "id": "17cafe2e-6f87-4a63-b225-4a0bcd41c525",
   "metadata": {
    "tags": []
   },
   "outputs": [],
   "source": [
    "pd.set_option('display.max_columns', None)  # None or 1000\n",
    "pd.set_option('display.max_rows', 10)  # or 1000\n",
    "pd.set_option('display.max_colwidth', None)  # or 199"
   ]
  },
  {
   "cell_type": "markdown",
   "id": "436036dc-c444-4c5e-95d5-20371f606523",
   "metadata": {},
   "source": [
    "**Ingest the data**"
   ]
  },
  {
   "cell_type": "code",
   "execution_count": 3,
   "id": "6f1dee95-73b3-436b-bd45-f0db0e4cd7aa",
   "metadata": {
    "tags": []
   },
   "outputs": [
    {
     "name": "stderr",
     "output_type": "stream",
     "text": [
      "/tmp/ipykernel_167559/1706385969.py:1: DtypeWarning: Columns (18,25) have mixed types. Specify dtype option on import or set low_memory=False.\n",
      "  df = pd.read_csv('../data/amazon_movie_reviews.csv')\n"
     ]
    }
   ],
   "source": [
    "df = pd.read_csv('../data/amazon_movie_reviews.csv')"
   ]
  },
  {
   "cell_type": "markdown",
   "id": "0511e9b0-69fb-4554-9963-6d10c9bf1e3b",
   "metadata": {},
   "source": [
    "## First data preprocessing\n",
    "\n",
    "**The helper for normalizing/stemming/tokenizing:**"
   ]
  },
  {
   "cell_type": "code",
   "execution_count": 4,
   "id": "02db81cf-1b9d-4f40-beed-380c401891aa",
   "metadata": {
    "tags": []
   },
   "outputs": [],
   "source": [
    "def get_proccorpus(dfproc):\n",
    "    \"\"\"\n",
    "    Get a normalized, stemmed, tokenized form of a corpus of text.\n",
    "    \n",
    "    parameters:\n",
    "    corpus (list of str): The text corpus\n",
    "    \n",
    "    returns:\n",
    "    tokentext (list of [str]): The tokenized corpus\n",
    "    proctext (list of str): The tokenized corpus with word re-joined\n",
    "    ratings (list of float): The star ratings\n",
    "    \"\"\"\n",
    "    corpus = dfproc['text'].to_list()\n",
    "    ratings = dfproc['rating'].to_list()\n",
    "    # corpus = corpus.to_list()\n",
    "    with Pool(14) as pool:  # see helper\n",
    "        result = pool.starmap(preprocess, zip(corpus, ratings))\n",
    "    \n",
    "    df = pd.DataFrame(result, columns = ['tokentext', 'proctext', 'rating'])\n",
    "    tokentext = df['tokentext'].to_list()\n",
    "    proctext = df['proctext'].to_list()\n",
    "    ratings = df['rating'].to_list()\n",
    "    \n",
    "    return (tokentext, proctext, ratings)\n",
    "        "
   ]
  },
  {
   "cell_type": "markdown",
   "id": "755a5be0-9077-45f3-b779-77bc6d909a51",
   "metadata": {},
   "source": [
    "**The helper word2vec model training/encoding:**"
   ]
  },
  {
   "cell_type": "code",
   "execution_count": 5,
   "id": "c394129a-3d56-473e-bf5b-8ea107459507",
   "metadata": {
    "tags": []
   },
   "outputs": [],
   "source": [
    "def encode(tokenproctext, w2vsz):\n",
    "    \"\"\"\n",
    "    Encode a tokenized corpus according to the Word2Vec method.\n",
    "    \n",
    "    parameters:\n",
    "    tokenproctext (tuple of list): The tokenized corpus both in original and\n",
    "            word-rejoined form\n",
    "    w2vsz (int): The embedding feature space size\n",
    "    \"\"\"\n",
    "    proccorpus = tokenproctext[0]  # needs processed tokens\n",
    "    word2vec_model = Word2Vec(proccorpus, vector_size=w2vsz, min_count=1,\n",
    "                              workers=14)\n",
    "\n",
    "    return word2vec_model"
   ]
  },
  {
   "cell_type": "markdown",
   "id": "16a4cfaf-b9bb-4dc8-a6b5-9654d062df8b",
   "metadata": {},
   "source": [
    "**The helper for token to index conversion:**"
   ]
  },
  {
   "cell_type": "code",
   "execution_count": 6,
   "id": "16330584-565f-488c-a427-7b17e94595aa",
   "metadata": {},
   "outputs": [],
   "source": [
    "def get_ttxts2seqs(ttxt, tokshash, inputsz):\n",
    "    \"\"\"\n",
    "    Convert tokens to their indices in the word2vec model.\n",
    "    \n",
    "    parameters:\n",
    "    ttxt (list of [str]): The tokens\n",
    "    tokshash (dict of int): The word2vec indices of each token\n",
    "    inputsz (int): The size limit of the input vectors\n",
    "    \n",
    "    returns:\n",
    "    result (iterable of [int]): The indices of the tokens\n",
    "    \"\"\"\n",
    "    with Pool(14) as pool:  # see helper\n",
    "        result = pool.starmap(tokentext2seqs, zip(ttxt, repeat(tokshash), repeat(inputsz)))\n",
    "    \n",
    "    return result"
   ]
  },
  {
   "cell_type": "markdown",
   "id": "f26ecf48-7729-4831-aae0-7632dadf386e",
   "metadata": {},
   "source": [
    "**The data preprocessing pipeline:**"
   ]
  },
  {
   "cell_type": "code",
   "execution_count": 7,
   "id": "7d8ab582-d667-467b-b20d-c36f2370dabe",
   "metadata": {
    "tags": []
   },
   "outputs": [],
   "source": [
    "def get_data(df, inputsz, w2vsz):\n",
    "    \"\"\"\n",
    "    Prepare the dataframe and embedding weights for machine learning.\n",
    "    \n",
    "    parameters:\n",
    "    df (dataframe): The ingested dataframe\n",
    "    inputsz (int): The size limit of the input vectors\n",
    "    w2vsz (int): The embedding feature space size\n",
    "    \n",
    "    returns:\n",
    "    embed_model (Word2Vec model): The trained word2vec model\n",
    "    dfproc (dataframe): The processed dataframe\n",
    "    ntoks (int): The total number of unique tokens\n",
    "    tokshash (dict): The mapping from tokens to their word2vec indices\n",
    "    \"\"\"\n",
    "    df2 = df.drop_duplicates(subset=['text'])\n",
    "    dffil = df2.loc[df2['text'].notna(), ['rating', 'text']]\n",
    "    \n",
    "    stime = time.time()\n",
    "    tokenproctext = get_proccorpus(dffil[:])\n",
    "    print('tokenization done: {}'.format(time.time() - stime))\n",
    "    \n",
    "    stime = time.time()\n",
    "    embed_model = encode(tokenproctext, w2vsz)\n",
    "    print('embedding model done: {}'.format(time.time() - stime))\n",
    "    \n",
    "    ttxt = tokenproctext[0]\n",
    "    ratings = tokenproctext[2]\n",
    "    alltoks = list(embed_model.wv.key_to_index.keys())\n",
    "    # O(N) lookup time for dict.  Critical to speeding up get_ttxts2seqs()\n",
    "    tokshash = dict(zip(alltoks, range(0, len(alltoks))))\n",
    "    \n",
    "    stime = time.time()\n",
    "    seqs = get_ttxts2seqs(ttxt[:], tokshash, inputsz)\n",
    "    print('sequences done: {}'.format(time.time() - stime))\n",
    "    \n",
    "    dfproc = pd.DataFrame({'seqs': seqs, 'ratings': ratings})\n",
    "    \n",
    "    dfproc = pd.get_dummies(data=dfproc, columns=['ratings'])\n",
    "    ratcols = [col for col in dfproc.columns if 'ratings' in col]   \n",
    "    dfproc[ratcols] = dfproc[ratcols].replace({True: 1, False: 0})\n",
    "    dfproc['ratings'] = dfproc[ratcols].values.tolist()\n",
    "    dfproc['ratings'] = dfproc['ratings'].to_numpy()\n",
    "    dfproc = dfproc.drop(ratcols, axis=1)\n",
    "    \n",
    "    ntoks = len(alltoks)\n",
    "\n",
    "    return embed_model, dfproc, ntoks, tokshash"
   ]
  },
  {
   "cell_type": "code",
   "execution_count": 8,
   "id": "1a9b1f10-d2ed-4c18-8bc1-a1ae9a48380d",
   "metadata": {
    "tags": []
   },
   "outputs": [
    {
     "name": "stdout",
     "output_type": "stream",
     "text": [
      "tokenization done: 73.94380187988281\n",
      "embedding model done: 44.34585762023926\n",
      "sequences done: 28.304012298583984\n"
     ]
    }
   ],
   "source": [
    "inputsz = 100\n",
    "w2vsz = 100\n",
    "embed_model, dfproc, ntoks, tokshash = get_data(df, inputsz, w2vsz)"
   ]
  },
  {
   "cell_type": "code",
   "execution_count": 9,
   "id": "3fc7c458-682c-4fe6-babc-3149a67a2fe6",
   "metadata": {
    "tags": []
   },
   "outputs": [],
   "source": [
    "with open('../models/tokshash.bin', mode='wb') as f:\n",
    "    pickle.dump(tokshash, f)\n",
    "    \n",
    "with open('../models/dfproc.bin', mode='wb') as f:\n",
    "    pickle.dump(dfproc, f)"
   ]
  },
  {
   "cell_type": "code",
   "execution_count": 10,
   "id": "b1c2893a-fe95-46e1-91ea-12a5a71ef4d6",
   "metadata": {
    "tags": []
   },
   "outputs": [
    {
     "data": {
      "text/html": [
       "<div>\n",
       "<style scoped>\n",
       "    .dataframe tbody tr th:only-of-type {\n",
       "        vertical-align: middle;\n",
       "    }\n",
       "\n",
       "    .dataframe tbody tr th {\n",
       "        vertical-align: top;\n",
       "    }\n",
       "\n",
       "    .dataframe thead th {\n",
       "        text-align: right;\n",
       "    }\n",
       "</style>\n",
       "<table border=\"1\" class=\"dataframe\">\n",
       "  <thead>\n",
       "    <tr style=\"text-align: right;\">\n",
       "      <th></th>\n",
       "      <th>seqs</th>\n",
       "      <th>ratings</th>\n",
       "    </tr>\n",
       "  </thead>\n",
       "  <tbody>\n",
       "    <tr>\n",
       "      <th>0</th>\n",
       "      <td>[150, 378, 140, 10, 616, 0, 0, 0, 0, 0, 0, 0, 0, 0, 0, 0, 0, 0, 0, 0, 0, 0, 0, 0, 0, 0, 0, 0, 0, 0, 0, 0, 0, 0, 0, 0, 0, 0, 0, 0, 0, 0, 0, 0, 0, 0, 0, 0, 0, 0, 0, 0, 0, 0, 0, 0, 0, 0, 0, 0, 0, 0, 0, 0, 0, 0, 0, 0, 0, 0, 0, 0, 0, 0, 0, 0, 0, 0, 0, 0, 0, 0, 0, 0, 0, 0, 0, 0, 0, 0, 0, 0, 0, 0, 0, 0, 0, 0, 0, 0]</td>\n",
       "      <td>[0, 0, 0, 0, 1]</td>\n",
       "    </tr>\n",
       "    <tr>\n",
       "      <th>1</th>\n",
       "      <td>[4441, 3, 10, 0, 0, 0, 0, 0, 0, 0, 0, 0, 0, 0, 0, 0, 0, 0, 0, 0, 0, 0, 0, 0, 0, 0, 0, 0, 0, 0, 0, 0, 0, 0, 0, 0, 0, 0, 0, 0, 0, 0, 0, 0, 0, 0, 0, 0, 0, 0, 0, 0, 0, 0, 0, 0, 0, 0, 0, 0, 0, 0, 0, 0, 0, 0, 0, 0, 0, 0, 0, 0, 0, 0, 0, 0, 0, 0, 0, 0, 0, 0, 0, 0, 0, 0, 0, 0, 0, 0, 0, 0, 0, 0, 0, 0, 0, 0, 0, 0]</td>\n",
       "      <td>[0, 0, 0, 0, 1]</td>\n",
       "    </tr>\n",
       "    <tr>\n",
       "      <th>2</th>\n",
       "      <td>[15135, 18487, 15, 1037, 312, 1057, 1460, 810, 3995, 919, 1042, 22, 2090, 2233, 1533, 251, 668, 345, 316, 1846, 312, 3009, 218, 3, 24, 14, 24, 100, 75, 7, 2003, 125, 3636, 451, 0, 547, 346, 129, 7, 56046, 5370, 76, 251, 145353, 75, 33, 592, 1426, 0, 0, 0, 0, 0, 0, 0, 0, 0, 0, 0, 0, 0, 0, 0, 0, 0, 0, 0, 0, 0, 0, 0, 0, 0, 0, 0, 0, 0, 0, 0, 0, 0, 0, 0, 0, 0, 0, 0, 0, 0, 0, 0, 0, 0, 0, 0, 0, 0, 0, 0, 0]</td>\n",
       "      <td>[0, 0, 1, 0, 0]</td>\n",
       "    </tr>\n",
       "    <tr>\n",
       "      <th>3</th>\n",
       "      <td>[1316, 15, 35224, 3771, 593, 3894, 2958, 33, 368, 247, 2484, 907, 3, 305, 40, 1225, 1439, 120, 232, 827, 678, 353, 345, 4020, 10, 158, 1454, 892, 115, 521, 20, 261, 1966, 889, 15, 4020, 0, 0, 0, 0, 0, 0, 0, 0, 0, 0, 0, 0, 0, 0, 0, 0, 0, 0, 0, 0, 0, 0, 0, 0, 0, 0, 0, 0, 0, 0, 0, 0, 0, 0, 0, 0, 0, 0, 0, 0, 0, 0, 0, 0, 0, 0, 0, 0, 0, 0, 0, 0, 0, 0, 0, 0, 0, 0, 0, 0, 0, 0, 0, 0]</td>\n",
       "      <td>[0, 0, 0, 1, 0]</td>\n",
       "    </tr>\n",
       "    <tr>\n",
       "      <th>4</th>\n",
       "      <td>[95, 116, 41, 0, 705, 678, 739, 1286, 228, 332, 836, 34, 138, 1596, 340, 61, 218, 1202, 2796, 96, 690, 3814, 1584, 21, 148, 1210, 296, 4, 158, 88, 11, 0, 0, 0, 0, 0, 0, 0, 0, 0, 0, 0, 0, 0, 0, 0, 0, 0, 0, 0, 0, 0, 0, 0, 0, 0, 0, 0, 0, 0, 0, 0, 0, 0, 0, 0, 0, 0, 0, 0, 0, 0, 0, 0, 0, 0, 0, 0, 0, 0, 0, 0, 0, 0, 0, 0, 0, 0, 0, 0, 0, 0, 0, 0, 0, 0, 0, 0, 0, 0]</td>\n",
       "      <td>[0, 0, 0, 0, 1]</td>\n",
       "    </tr>\n",
       "    <tr>\n",
       "      <th>...</th>\n",
       "      <td>...</td>\n",
       "      <td>...</td>\n",
       "    </tr>\n",
       "    <tr>\n",
       "      <th>828691</th>\n",
       "      <td>[82, 118, 10, 0, 0, 0, 0, 0, 0, 0, 0, 0, 0, 0, 0, 0, 0, 0, 0, 0, 0, 0, 0, 0, 0, 0, 0, 0, 0, 0, 0, 0, 0, 0, 0, 0, 0, 0, 0, 0, 0, 0, 0, 0, 0, 0, 0, 0, 0, 0, 0, 0, 0, 0, 0, 0, 0, 0, 0, 0, 0, 0, 0, 0, 0, 0, 0, 0, 0, 0, 0, 0, 0, 0, 0, 0, 0, 0, 0, 0, 0, 0, 0, 0, 0, 0, 0, 0, 0, 0, 0, 0, 0, 0, 0, 0, 0, 0, 0, 0]</td>\n",
       "      <td>[0, 0, 0, 0, 1]</td>\n",
       "    </tr>\n",
       "    <tr>\n",
       "      <th>828692</th>\n",
       "      <td>[27, 350, 1051, 0, 0, 0, 0, 0, 0, 0, 0, 0, 0, 0, 0, 0, 0, 0, 0, 0, 0, 0, 0, 0, 0, 0, 0, 0, 0, 0, 0, 0, 0, 0, 0, 0, 0, 0, 0, 0, 0, 0, 0, 0, 0, 0, 0, 0, 0, 0, 0, 0, 0, 0, 0, 0, 0, 0, 0, 0, 0, 0, 0, 0, 0, 0, 0, 0, 0, 0, 0, 0, 0, 0, 0, 0, 0, 0, 0, 0, 0, 0, 0, 0, 0, 0, 0, 0, 0, 0, 0, 0, 0, 0, 0, 0, 0, 0, 0, 0]</td>\n",
       "      <td>[0, 0, 0, 0, 1]</td>\n",
       "    </tr>\n",
       "    <tr>\n",
       "      <th>828693</th>\n",
       "      <td>[6, 442, 76, 6, 15, 66, 96, 1677, 151, 257, 72, 476, 8011, 247, 1980, 0, 0, 0, 0, 0, 0, 0, 0, 0, 0, 0, 0, 0, 0, 0, 0, 0, 0, 0, 0, 0, 0, 0, 0, 0, 0, 0, 0, 0, 0, 0, 0, 0, 0, 0, 0, 0, 0, 0, 0, 0, 0, 0, 0, 0, 0, 0, 0, 0, 0, 0, 0, 0, 0, 0, 0, 0, 0, 0, 0, 0, 0, 0, 0, 0, 0, 0, 0, 0, 0, 0, 0, 0, 0, 0, 0, 0, 0, 0, 0, 0, 0, 0, 0, 0]</td>\n",
       "      <td>[0, 0, 0, 1, 0]</td>\n",
       "    </tr>\n",
       "    <tr>\n",
       "      <th>828694</th>\n",
       "      <td>[2, 551, 153, 46, 4, 10192, 105, 112, 451, 2318, 9, 106, 38, 410, 451, 66, 1225, 221, 2318, 507, 78, 1282, 0, 0, 0, 0, 0, 0, 0, 0, 0, 0, 0, 0, 0, 0, 0, 0, 0, 0, 0, 0, 0, 0, 0, 0, 0, 0, 0, 0, 0, 0, 0, 0, 0, 0, 0, 0, 0, 0, 0, 0, 0, 0, 0, 0, 0, 0, 0, 0, 0, 0, 0, 0, 0, 0, 0, 0, 0, 0, 0, 0, 0, 0, 0, 0, 0, 0, 0, 0, 0, 0, 0, 0, 0, 0, 0, 0, 0, 0]</td>\n",
       "      <td>[0, 0, 0, 1, 0]</td>\n",
       "    </tr>\n",
       "    <tr>\n",
       "      <th>828695</th>\n",
       "      <td>[89, 592, 38, 3077, 40, 7011, 9617, 37, 221, 15, 3483, 4020, 346, 131, 51, 907, 4464, 17, 12808, 836, 3679, 7283, 94, 146, 1101, 821, 280, 146, 1801, 907, 276126, 29, 1404, 3441, 5955, 37910, 12, 1077, 172605, 403, 32, 40, 46, 4746, 0, 0, 0, 0, 0, 0, 0, 0, 0, 0, 0, 0, 0, 0, 0, 0, 0, 0, 0, 0, 0, 0, 0, 0, 0, 0, 0, 0, 0, 0, 0, 0, 0, 0, 0, 0, 0, 0, 0, 0, 0, 0, 0, 0, 0, 0, 0, 0, 0, 0, 0, 0, 0, 0, 0, 0]</td>\n",
       "      <td>[1, 0, 0, 0, 0]</td>\n",
       "    </tr>\n",
       "  </tbody>\n",
       "</table>\n",
       "<p>828696 rows × 2 columns</p>\n",
       "</div>"
      ],
      "text/plain": [
       "                                                                                                                                                                                                                                                                                                                                                                                                                      seqs  \\\n",
       "0                                                                                                    [150, 378, 140, 10, 616, 0, 0, 0, 0, 0, 0, 0, 0, 0, 0, 0, 0, 0, 0, 0, 0, 0, 0, 0, 0, 0, 0, 0, 0, 0, 0, 0, 0, 0, 0, 0, 0, 0, 0, 0, 0, 0, 0, 0, 0, 0, 0, 0, 0, 0, 0, 0, 0, 0, 0, 0, 0, 0, 0, 0, 0, 0, 0, 0, 0, 0, 0, 0, 0, 0, 0, 0, 0, 0, 0, 0, 0, 0, 0, 0, 0, 0, 0, 0, 0, 0, 0, 0, 0, 0, 0, 0, 0, 0, 0, 0, 0, 0, 0, 0]   \n",
       "1                                                                                                         [4441, 3, 10, 0, 0, 0, 0, 0, 0, 0, 0, 0, 0, 0, 0, 0, 0, 0, 0, 0, 0, 0, 0, 0, 0, 0, 0, 0, 0, 0, 0, 0, 0, 0, 0, 0, 0, 0, 0, 0, 0, 0, 0, 0, 0, 0, 0, 0, 0, 0, 0, 0, 0, 0, 0, 0, 0, 0, 0, 0, 0, 0, 0, 0, 0, 0, 0, 0, 0, 0, 0, 0, 0, 0, 0, 0, 0, 0, 0, 0, 0, 0, 0, 0, 0, 0, 0, 0, 0, 0, 0, 0, 0, 0, 0, 0, 0, 0, 0, 0]   \n",
       "2       [15135, 18487, 15, 1037, 312, 1057, 1460, 810, 3995, 919, 1042, 22, 2090, 2233, 1533, 251, 668, 345, 316, 1846, 312, 3009, 218, 3, 24, 14, 24, 100, 75, 7, 2003, 125, 3636, 451, 0, 547, 346, 129, 7, 56046, 5370, 76, 251, 145353, 75, 33, 592, 1426, 0, 0, 0, 0, 0, 0, 0, 0, 0, 0, 0, 0, 0, 0, 0, 0, 0, 0, 0, 0, 0, 0, 0, 0, 0, 0, 0, 0, 0, 0, 0, 0, 0, 0, 0, 0, 0, 0, 0, 0, 0, 0, 0, 0, 0, 0, 0, 0, 0, 0, 0, 0]   \n",
       "3                                [1316, 15, 35224, 3771, 593, 3894, 2958, 33, 368, 247, 2484, 907, 3, 305, 40, 1225, 1439, 120, 232, 827, 678, 353, 345, 4020, 10, 158, 1454, 892, 115, 521, 20, 261, 1966, 889, 15, 4020, 0, 0, 0, 0, 0, 0, 0, 0, 0, 0, 0, 0, 0, 0, 0, 0, 0, 0, 0, 0, 0, 0, 0, 0, 0, 0, 0, 0, 0, 0, 0, 0, 0, 0, 0, 0, 0, 0, 0, 0, 0, 0, 0, 0, 0, 0, 0, 0, 0, 0, 0, 0, 0, 0, 0, 0, 0, 0, 0, 0, 0, 0, 0, 0]   \n",
       "4                                                    [95, 116, 41, 0, 705, 678, 739, 1286, 228, 332, 836, 34, 138, 1596, 340, 61, 218, 1202, 2796, 96, 690, 3814, 1584, 21, 148, 1210, 296, 4, 158, 88, 11, 0, 0, 0, 0, 0, 0, 0, 0, 0, 0, 0, 0, 0, 0, 0, 0, 0, 0, 0, 0, 0, 0, 0, 0, 0, 0, 0, 0, 0, 0, 0, 0, 0, 0, 0, 0, 0, 0, 0, 0, 0, 0, 0, 0, 0, 0, 0, 0, 0, 0, 0, 0, 0, 0, 0, 0, 0, 0, 0, 0, 0, 0, 0, 0, 0, 0, 0, 0, 0]   \n",
       "...                                                                                                                                                                                                                                                                                                                                                                                                                    ...   \n",
       "828691                                                                                                    [82, 118, 10, 0, 0, 0, 0, 0, 0, 0, 0, 0, 0, 0, 0, 0, 0, 0, 0, 0, 0, 0, 0, 0, 0, 0, 0, 0, 0, 0, 0, 0, 0, 0, 0, 0, 0, 0, 0, 0, 0, 0, 0, 0, 0, 0, 0, 0, 0, 0, 0, 0, 0, 0, 0, 0, 0, 0, 0, 0, 0, 0, 0, 0, 0, 0, 0, 0, 0, 0, 0, 0, 0, 0, 0, 0, 0, 0, 0, 0, 0, 0, 0, 0, 0, 0, 0, 0, 0, 0, 0, 0, 0, 0, 0, 0, 0, 0, 0, 0]   \n",
       "828692                                                                                                  [27, 350, 1051, 0, 0, 0, 0, 0, 0, 0, 0, 0, 0, 0, 0, 0, 0, 0, 0, 0, 0, 0, 0, 0, 0, 0, 0, 0, 0, 0, 0, 0, 0, 0, 0, 0, 0, 0, 0, 0, 0, 0, 0, 0, 0, 0, 0, 0, 0, 0, 0, 0, 0, 0, 0, 0, 0, 0, 0, 0, 0, 0, 0, 0, 0, 0, 0, 0, 0, 0, 0, 0, 0, 0, 0, 0, 0, 0, 0, 0, 0, 0, 0, 0, 0, 0, 0, 0, 0, 0, 0, 0, 0, 0, 0, 0, 0, 0, 0, 0]   \n",
       "828693                                                                                [6, 442, 76, 6, 15, 66, 96, 1677, 151, 257, 72, 476, 8011, 247, 1980, 0, 0, 0, 0, 0, 0, 0, 0, 0, 0, 0, 0, 0, 0, 0, 0, 0, 0, 0, 0, 0, 0, 0, 0, 0, 0, 0, 0, 0, 0, 0, 0, 0, 0, 0, 0, 0, 0, 0, 0, 0, 0, 0, 0, 0, 0, 0, 0, 0, 0, 0, 0, 0, 0, 0, 0, 0, 0, 0, 0, 0, 0, 0, 0, 0, 0, 0, 0, 0, 0, 0, 0, 0, 0, 0, 0, 0, 0, 0, 0, 0, 0, 0, 0, 0]   \n",
       "828694                                                                [2, 551, 153, 46, 4, 10192, 105, 112, 451, 2318, 9, 106, 38, 410, 451, 66, 1225, 221, 2318, 507, 78, 1282, 0, 0, 0, 0, 0, 0, 0, 0, 0, 0, 0, 0, 0, 0, 0, 0, 0, 0, 0, 0, 0, 0, 0, 0, 0, 0, 0, 0, 0, 0, 0, 0, 0, 0, 0, 0, 0, 0, 0, 0, 0, 0, 0, 0, 0, 0, 0, 0, 0, 0, 0, 0, 0, 0, 0, 0, 0, 0, 0, 0, 0, 0, 0, 0, 0, 0, 0, 0, 0, 0, 0, 0, 0, 0, 0, 0, 0, 0]   \n",
       "828695    [89, 592, 38, 3077, 40, 7011, 9617, 37, 221, 15, 3483, 4020, 346, 131, 51, 907, 4464, 17, 12808, 836, 3679, 7283, 94, 146, 1101, 821, 280, 146, 1801, 907, 276126, 29, 1404, 3441, 5955, 37910, 12, 1077, 172605, 403, 32, 40, 46, 4746, 0, 0, 0, 0, 0, 0, 0, 0, 0, 0, 0, 0, 0, 0, 0, 0, 0, 0, 0, 0, 0, 0, 0, 0, 0, 0, 0, 0, 0, 0, 0, 0, 0, 0, 0, 0, 0, 0, 0, 0, 0, 0, 0, 0, 0, 0, 0, 0, 0, 0, 0, 0, 0, 0, 0, 0]   \n",
       "\n",
       "                ratings  \n",
       "0       [0, 0, 0, 0, 1]  \n",
       "1       [0, 0, 0, 0, 1]  \n",
       "2       [0, 0, 1, 0, 0]  \n",
       "3       [0, 0, 0, 1, 0]  \n",
       "4       [0, 0, 0, 0, 1]  \n",
       "...                 ...  \n",
       "828691  [0, 0, 0, 0, 1]  \n",
       "828692  [0, 0, 0, 0, 1]  \n",
       "828693  [0, 0, 0, 1, 0]  \n",
       "828694  [0, 0, 0, 1, 0]  \n",
       "828695  [1, 0, 0, 0, 0]  \n",
       "\n",
       "[828696 rows x 2 columns]"
      ]
     },
     "execution_count": 10,
     "metadata": {},
     "output_type": "execute_result"
    }
   ],
   "source": [
    "dfproc"
   ]
  },
  {
   "cell_type": "markdown",
   "id": "e7f31cd8-231d-4579-a1b0-39284cbae77f",
   "metadata": {},
   "source": [
    "**Now create the train/val/test split:**"
   ]
  },
  {
   "cell_type": "code",
   "execution_count": 11,
   "id": "704504be-a8b1-494c-be0f-b3f08f1dff83",
   "metadata": {
    "tags": []
   },
   "outputs": [],
   "source": [
    "X = np.stack(np.array(dfproc['seqs']))\n",
    "Y = np.stack(np.array(dfproc['ratings']))\n",
    "X_train, X_test, Y_train, Y_test = train_test_split(X, Y,\n",
    "                                    test_size=0.1, stratify=Y)\n",
    "X_train, X_val, Y_train, Y_val = train_test_split(X_train, Y_train,\n",
    "                                    test_size=1/9, stratify=Y_train)"
   ]
  },
  {
   "cell_type": "markdown",
   "id": "4ba37d8e-604c-4da0-b5d7-b50673c21d27",
   "metadata": {},
   "source": [
    "## Now model creation and training definition\n",
    "\n",
    "**Define the LSTM model:**\n",
    "\n",
    "**To speed up learning we load the word2vec embeddings rather than using randomly initialized embedding weights. To reduce runtime we use a single LSTM and dense layer. To improve generalized performance, we use dropout.**\n",
    "\n",
    "**The hyperparameters will be tuned later.**"
   ]
  },
  {
   "cell_type": "code",
   "execution_count": 12,
   "id": "ae0cdad5-99f7-47de-9231-666fb7e2624e",
   "metadata": {
    "tags": []
   },
   "outputs": [],
   "source": [
    "def LSTM_model(ntoks, w2vsz, embed_mat, lstmunits, lstmdo,\n",
    "               rdo, fcunits, fcd):\n",
    "    \"\"\"\n",
    "    The LSTM-based RNN model.\n",
    "    \n",
    "    parameters:\n",
    "    ntoks (int): The total number of unique tokens\n",
    "    w2vsz (int): The embedding feature space size\n",
    "    embed_mat (numpy array): The embedding weight matrix from word2vec\n",
    "    lstmunits (int): The number of LSTM neurons\n",
    "    lstmdo (float): The input LSTM dropout\n",
    "    rdo (float): The recurrent LSTM dropout\n",
    "    fcunits (int): The number of dense neurons\n",
    "    fcd (float): The dense dropout\n",
    "    \n",
    "    returns:\n",
    "    model (tensorflow model): The LSTM-based RNN model.\n",
    "    \"\"\"\n",
    "    model = tfk.Sequential()\n",
    "\n",
    "    input_dat = tfkl.Embedding(ntoks, w2vsz)\n",
    "    input_dat.build(input_shape=(1,))\n",
    "    # initialize with the word2vec embedding weights\n",
    "    input_dat.set_weights([embed_mat])\n",
    "    \n",
    "    model.add(input_dat)\n",
    "    model.add(tfkl.LSTM(lstmunits, dropout=lstmdo, recurrent_dropout=rdo))\n",
    "    model.add(tfkl.Dense(fcunits, activation='relu'))\n",
    "    model.add(tfkl.BatchNormalization())\n",
    "    model.add(tfkl.Dropout(fcd))\n",
    "    model.add(tfkl.Dense(units = 5, activation = 'softmax'))\n",
    "    \n",
    "    return model"
   ]
  },
  {
   "cell_type": "markdown",
   "id": "0959ba2d-97cb-460b-a766-5eace0963538",
   "metadata": {},
   "source": [
    "**A custom callback to facilitate tiebreaking for model saving, based on summing scaled training and validation accuracies:**"
   ]
  },
  {
   "cell_type": "code",
   "execution_count": 13,
   "id": "2dab35fc-3909-4814-a342-72586d540062",
   "metadata": {
    "tags": []
   },
   "outputs": [],
   "source": [
    "class CombineCallback(tfk.callbacks.Callback):\n",
    "    \"\"\"\n",
    "    A custom callback to facilitate tiebreaking for model saving, based on summing scaled training and validation accuracies\n",
    "    \"\"\"\n",
    "    def __init__(self, **kargs):\n",
    "        super(CombineCallback, self).__init__(**kargs)\n",
    "\n",
    "    def on_epoch_end(self, epoch, logs={}):\n",
    "        logs['combine_accuracy'] = 0.999 * logs['val_accuracy'] + 0.001 * logs['accuracy']"
   ]
  },
  {
   "cell_type": "markdown",
   "id": "6dd7b48d-ec99-4f1e-9cb4-99de2bbf86c0",
   "metadata": {},
   "source": [
    "**Accuracy is one of the metrics.  We select it because it provides an intuitive measure for whether or not the model is learning.  Specifically, the result must be compared to the proportion of the most common label.  In *expoloratory_data_analysis.ipynb,* this was %60.3 for the 5 star rating.**"
   ]
  },
  {
   "cell_type": "markdown",
   "id": "1376941f-edb9-4b9c-ba49-e1caeb759aba",
   "metadata": {},
   "source": [
    "**The training/evaluation pipeline:**"
   ]
  },
  {
   "cell_type": "code",
   "execution_count": 14,
   "id": "897e1c90-0fe3-48c1-9125-db31c3ba3fd2",
   "metadata": {
    "tags": []
   },
   "outputs": [],
   "source": [
    "def train_eval_mod(X_train, X_vt, Y_train, Y_vt, epochs, batch_size, ntoks,\n",
    "                   w2vsz, embed_mat, lstmunits, lstmdo, rdo, fcunits, fcd):\n",
    "    \"\"\"\n",
    "    Train the model and make a final prediction.\n",
    "    \n",
    "    Saves the best performing model.\n",
    "    \n",
    "    parameters:\n",
    "    X_train (np.array): The training data\n",
    "    X_vt (np.array): The validation/testing data\n",
    "    Y_train (np.array): The training labels\n",
    "    Y_vt (np.array): The validation/testing labels\n",
    "    epochs (int): The number of training passes through the data\n",
    "    batch_size (int): The number of data points required for each weight update\n",
    "    ntoks (int): The total number of unique tokens\n",
    "    w2vsz (int): The embedding feature space size\n",
    "    embed_mat (numpy array): The embedding weight matrix from word2vec\n",
    "    lstmunits (int): The number of LSTM neurons\n",
    "    lstmdo (float): The input LSTM dropout\n",
    "    rdo (float): The recurrent LSTM dropout\n",
    "    fcunits (int): The number of dense neurons\n",
    "    fcd (float): The dense dropout\n",
    "    \n",
    "    returns:\n",
    "    history (tensorflow History): The record of training and validation metrics\n",
    "    y_preds (np.array): The prediction for the validation/testing data\n",
    "    \"\"\"\n",
    "    model = LSTM_model(ntoks, w2vsz, embed_mat, lstmunits, lstmdo,\n",
    "               rdo, fcunits, fcd)\n",
    "    opt = tfk.optimizers.legacy.Adam()\n",
    "    model.compile(optimizer='adam',\n",
    "                      loss='categorical_crossentropy',\n",
    "                      metrics=['accuracy'])\n",
    "    model.summary()\n",
    "    mod_callback = ModelCheckpoint(filepath = '../models/text_model.h5',\n",
    "                                  save_weights_only = False,\n",
    "                                  monitor = 'combine_accuracy',\n",
    "                                  mode = 'max',\n",
    "                                  save_best_only = True)\n",
    "    history = model.fit(X_train, Y_train, epochs=epochs, batch_size=batch_size,\n",
    "                       validation_data=(X_vt, Y_vt),\n",
    "                       callbacks = [CombineCallback(), mod_callback])\n",
    "    model = tfk.models.\\\n",
    "            load_model('../models/text_model.h5')\n",
    "    y_preds = model.predict(X_vt)\n",
    "    \n",
    "    return history, y_preds\n"
   ]
  },
  {
   "cell_type": "markdown",
   "id": "c4608b4f-e196-4dff-9a4c-e7363261d51e",
   "metadata": {},
   "source": [
    "**Another performance metric, which we call *proximalperf*.  See the docstring for discussion/description:**"
   ]
  },
  {
   "cell_type": "code",
   "execution_count": 15,
   "id": "afa72e37-2a9e-4d6e-950d-6fa9c2807297",
   "metadata": {
    "tags": []
   },
   "outputs": [],
   "source": [
    "def get_proximalperf(Y_vt, y_preds):\n",
    "    \"\"\"\n",
    "    Compute proximalperf.\n",
    "    \n",
    "    Assigns a value of 1 for each correct label, and a value (5-abs(diff))/nclasses\n",
    "    for each incorrect label. For example, if *y_truth=5* and *y_pred=2*,\n",
    "    then the value will be 2/5.\n",
    "    \n",
    "    This allows some lenience if scores were only a single star rating off.\n",
    "    This is important because there is inherent subjectivity and error in the\n",
    "    star ratings versus the text.\n",
    "    \n",
    "    parameters:\n",
    "    Y_vt (np.array): The validation/testing labels\n",
    "    y_preds (np.array): The prediction for the validation/testing data\n",
    "    \n",
    "    returns:\n",
    "    proximalperf (float): The proximalperf score\n",
    "    \"\"\"\n",
    "    truidxs = np.argwhere(Y_vt > 0)[:, 1]\n",
    "    prdidxs = np.argmax(y_preds, axis=1)\n",
    "    tot = (5 - np.abs(truidxs - prdidxs)) / y_preds.shape[1]\n",
    "    proximalperf =  np.sum(tot)\n",
    "    proximalperf /= y_preds.shape[0]\n",
    "    \n",
    "    return proximalperf\n"
   ]
  },
  {
   "cell_type": "markdown",
   "id": "6a9e08d9-9411-4855-811d-5727d8662f31",
   "metadata": {
    "tags": []
   },
   "source": [
    "## Now tune hyperparameters\n",
    "\n",
    "**We will explore 64 vs 128 neurons in each layer/cell, and dropout vs no dropout.**"
   ]
  },
  {
   "cell_type": "code",
   "execution_count": 16,
   "id": "32671174-efc9-470a-b8b1-8ce607a60cf7",
   "metadata": {
    "tags": []
   },
   "outputs": [],
   "source": [
    "def tune_model(X_train, X_val, Y_train, Y_val, ntoks,\n",
    "               inputsz, w2vsz, embed_model):\n",
    "    X_train = X_train[:50000, :]\n",
    "    Y_train = Y_train[:50000, :]\n",
    "    X_vt = X_val[:5000, :]\n",
    "    Y_vt = Y_val[:5000, :]\n",
    "\n",
    "    epochs = 10\n",
    "    batch_size = 64\n",
    "    embed_mat = embed_model.wv.vectors\n",
    "    \n",
    "    histories = []\n",
    "    proxperfs = []\n",
    "    for units in [64, 128]:\n",
    "        for do in [0, 0.5]:\n",
    "            lstmunits = units\n",
    "            fcunits = units\n",
    "            lstmdo = do\n",
    "            rdo = do\n",
    "            fcd = do\n",
    "            history, y_preds = train_eval_mod(X_train, X_vt, Y_train, Y_vt, epochs,\n",
    "                    batch_size, ntoks, w2vsz, embed_mat, lstmunits, lstmdo,\n",
    "                    rdo, fcunits, fcd)\n",
    "            histories.append(history)\n",
    "            proxperf = get_proximalperf(Y_vt, y_preds)\n",
    "            proxperfs.append(proxperf)\n",
    "    \n",
    "    return histories, proxperfs\n",
    "    "
   ]
  },
  {
   "cell_type": "code",
   "execution_count": 17,
   "id": "163e9056-a1a4-459c-ab4a-6c24fed60e44",
   "metadata": {
    "tags": []
   },
   "outputs": [
    {
     "name": "stderr",
     "output_type": "stream",
     "text": [
      "2024-04-21 11:28:59.103354: I external/local_xla/xla/stream_executor/cuda/cuda_executor.cc:998] successful NUMA node read from SysFS had negative value (-1), but there must be at least one NUMA node, so returning NUMA node zero. See more at https://github.com/torvalds/linux/blob/v6.0/Documentation/ABI/testing/sysfs-bus-pci#L344-L355\n",
      "2024-04-21 11:28:59.145729: I external/local_xla/xla/stream_executor/cuda/cuda_executor.cc:998] successful NUMA node read from SysFS had negative value (-1), but there must be at least one NUMA node, so returning NUMA node zero. See more at https://github.com/torvalds/linux/blob/v6.0/Documentation/ABI/testing/sysfs-bus-pci#L344-L355\n",
      "2024-04-21 11:28:59.145882: I external/local_xla/xla/stream_executor/cuda/cuda_executor.cc:998] successful NUMA node read from SysFS had negative value (-1), but there must be at least one NUMA node, so returning NUMA node zero. See more at https://github.com/torvalds/linux/blob/v6.0/Documentation/ABI/testing/sysfs-bus-pci#L344-L355\n",
      "2024-04-21 11:28:59.148962: I external/local_xla/xla/stream_executor/cuda/cuda_executor.cc:998] successful NUMA node read from SysFS had negative value (-1), but there must be at least one NUMA node, so returning NUMA node zero. See more at https://github.com/torvalds/linux/blob/v6.0/Documentation/ABI/testing/sysfs-bus-pci#L344-L355\n",
      "2024-04-21 11:28:59.149099: I external/local_xla/xla/stream_executor/cuda/cuda_executor.cc:998] successful NUMA node read from SysFS had negative value (-1), but there must be at least one NUMA node, so returning NUMA node zero. See more at https://github.com/torvalds/linux/blob/v6.0/Documentation/ABI/testing/sysfs-bus-pci#L344-L355\n",
      "2024-04-21 11:28:59.149219: I external/local_xla/xla/stream_executor/cuda/cuda_executor.cc:998] successful NUMA node read from SysFS had negative value (-1), but there must be at least one NUMA node, so returning NUMA node zero. See more at https://github.com/torvalds/linux/blob/v6.0/Documentation/ABI/testing/sysfs-bus-pci#L344-L355\n",
      "2024-04-21 11:28:59.254566: I external/local_xla/xla/stream_executor/cuda/cuda_executor.cc:998] successful NUMA node read from SysFS had negative value (-1), but there must be at least one NUMA node, so returning NUMA node zero. See more at https://github.com/torvalds/linux/blob/v6.0/Documentation/ABI/testing/sysfs-bus-pci#L344-L355\n",
      "2024-04-21 11:28:59.255006: I external/local_xla/xla/stream_executor/cuda/cuda_executor.cc:998] successful NUMA node read from SysFS had negative value (-1), but there must be at least one NUMA node, so returning NUMA node zero. See more at https://github.com/torvalds/linux/blob/v6.0/Documentation/ABI/testing/sysfs-bus-pci#L344-L355\n",
      "2024-04-21 11:28:59.255209: I external/local_xla/xla/stream_executor/cuda/cuda_executor.cc:998] successful NUMA node read from SysFS had negative value (-1), but there must be at least one NUMA node, so returning NUMA node zero. See more at https://github.com/torvalds/linux/blob/v6.0/Documentation/ABI/testing/sysfs-bus-pci#L344-L355\n",
      "2024-04-21 11:28:59.255540: I tensorflow/core/common_runtime/gpu/gpu_device.cc:1928] Created device /job:localhost/replica:0/task:0/device:GPU:0 with 6744 MB memory:  -> device: 0, name: NVIDIA GeForce RTX 2070 Super, pci bus id: 0000:01:00.0, compute capability: 7.5\n"
     ]
    },
    {
     "name": "stdout",
     "output_type": "stream",
     "text": [
      "Model: \"sequential\"\n",
      "_________________________________________________________________\n",
      " Layer (type)                Output Shape              Param #   \n",
      "=================================================================\n",
      " embedding (Embedding)       (None, None, 100)         31067500  \n",
      "                                                                 \n",
      " lstm (LSTM)                 (None, 64)                42240     \n",
      "                                                                 \n",
      " dense (Dense)               (None, 64)                4160      \n",
      "                                                                 \n",
      " batch_normalization (Batch  (None, 64)                256       \n",
      " Normalization)                                                  \n",
      "                                                                 \n",
      " dropout (Dropout)           (None, 64)                0         \n",
      "                                                                 \n",
      " dense_1 (Dense)             (None, 5)                 325       \n",
      "                                                                 \n",
      "=================================================================\n",
      "Total params: 31114481 (118.69 MB)\n",
      "Trainable params: 31114353 (118.69 MB)\n",
      "Non-trainable params: 128 (512.00 Byte)\n",
      "_________________________________________________________________\n",
      "Epoch 1/10\n"
     ]
    },
    {
     "name": "stderr",
     "output_type": "stream",
     "text": [
      "2024-04-21 11:29:16.282375: I external/local_xla/xla/stream_executor/cuda/cuda_dnn.cc:465] Loaded cuDNN version 8907\n",
      "WARNING: All log messages before absl::InitializeLog() is called are written to STDERR\n",
      "I0000 00:00:1713713356.695490  167876 service.cc:145] XLA service 0x7771ec0f0640 initialized for platform CUDA (this does not guarantee that XLA will be used). Devices:\n",
      "I0000 00:00:1713713356.695634  167876 service.cc:153]   StreamExecutor device (0): NVIDIA GeForce RTX 2070 Super, Compute Capability 7.5\n",
      "2024-04-21 11:29:16.711415: I tensorflow/compiler/mlir/tensorflow/utils/dump_mlir_util.cc:268] disabling MLIR crash reproducer, set env var `MLIR_CRASH_REPRODUCER_DIRECTORY` to enable.\n",
      "I0000 00:00:1713713356.792736  167876 device_compiler.h:188] Compiled cluster using XLA!  This line is logged at most once for the lifetime of the process.\n"
     ]
    },
    {
     "name": "stdout",
     "output_type": "stream",
     "text": [
      "782/782 [==============================] - ETA: 0s - loss: 1.0857 - accuracy: 0.6187"
     ]
    },
    {
     "name": "stderr",
     "output_type": "stream",
     "text": [
      "/home/clementejasonfortuna/anaconda3/lib/python3.11/site-packages/tf_keras/src/engine/training.py:3098: UserWarning: You are saving your model as an HDF5 file via `model.save()`. This file format is considered legacy. We recommend using instead the native TF-Keras format, e.g. `model.save('my_model.keras')`.\n",
      "  saving_api.save_model(\n"
     ]
    },
    {
     "name": "stdout",
     "output_type": "stream",
     "text": [
      "782/782 [==============================] - 57s 53ms/step - loss: 1.0857 - accuracy: 0.6187 - val_loss: 0.9154 - val_accuracy: 0.6418 - combine_accuracy: 0.6418\n",
      "Epoch 2/10\n",
      "782/782 [==============================] - 14s 18ms/step - loss: 0.8749 - accuracy: 0.6626 - val_loss: 0.8707 - val_accuracy: 0.6590 - combine_accuracy: 0.6590\n",
      "Epoch 3/10\n",
      "782/782 [==============================] - 10s 13ms/step - loss: 0.7923 - accuracy: 0.6960 - val_loss: 0.8831 - val_accuracy: 0.6588 - combine_accuracy: 0.6588\n",
      "Epoch 4/10\n",
      "782/782 [==============================] - 10s 13ms/step - loss: 0.6898 - accuracy: 0.7391 - val_loss: 0.9738 - val_accuracy: 0.6596 - combine_accuracy: 0.6597\n",
      "Epoch 5/10\n",
      "782/782 [==============================] - 9s 11ms/step - loss: 0.6060 - accuracy: 0.7735 - val_loss: 1.0881 - val_accuracy: 0.6434 - combine_accuracy: 0.6435\n",
      "Epoch 6/10\n",
      "782/782 [==============================] - 8s 10ms/step - loss: 0.5392 - accuracy: 0.8018 - val_loss: 1.1894 - val_accuracy: 0.6180 - combine_accuracy: 0.6182\n",
      "Epoch 7/10\n",
      "782/782 [==============================] - 7s 9ms/step - loss: 0.4889 - accuracy: 0.8204 - val_loss: 1.2573 - val_accuracy: 0.5938 - combine_accuracy: 0.5940\n",
      "Epoch 8/10\n",
      "782/782 [==============================] - 8s 10ms/step - loss: 0.4551 - accuracy: 0.8327 - val_loss: 1.2920 - val_accuracy: 0.6162 - combine_accuracy: 0.6164\n",
      "Epoch 9/10\n",
      "782/782 [==============================] - 7s 9ms/step - loss: 0.4252 - accuracy: 0.8441 - val_loss: 1.4746 - val_accuracy: 0.6160 - combine_accuracy: 0.6162\n",
      "Epoch 10/10\n",
      "782/782 [==============================] - 8s 10ms/step - loss: 0.3976 - accuracy: 0.8534 - val_loss: 1.4874 - val_accuracy: 0.6060 - combine_accuracy: 0.6062\n",
      "157/157 [==============================] - 1s 2ms/step\n",
      "WARNING:tensorflow:Layer lstm_1 will not use cuDNN kernels since it doesn't meet the criteria. It will use a generic GPU kernel as fallback when running on GPU.\n",
      "Model: \"sequential_1\"\n",
      "_________________________________________________________________\n",
      " Layer (type)                Output Shape              Param #   \n",
      "=================================================================\n",
      " embedding_1 (Embedding)     (None, None, 100)         31067500  \n",
      "                                                                 \n",
      " lstm_1 (LSTM)               (None, 64)                42240     \n",
      "                                                                 \n",
      " dense_2 (Dense)             (None, 64)                4160      \n",
      "                                                                 \n",
      " batch_normalization_1 (Bat  (None, 64)                256       \n",
      " chNormalization)                                                \n",
      "                                                                 \n",
      " dropout_1 (Dropout)         (None, 64)                0         \n",
      "                                                                 \n",
      " dense_3 (Dense)             (None, 5)                 325       \n",
      "                                                                 \n",
      "=================================================================\n",
      "Total params: 31114481 (118.69 MB)\n",
      "Trainable params: 31114353 (118.69 MB)\n",
      "Non-trainable params: 128 (512.00 Byte)\n",
      "_________________________________________________________________\n",
      "Epoch 1/10\n",
      "782/782 [==============================] - 149s 184ms/step - loss: 1.3637 - accuracy: 0.5432 - val_loss: 1.1828 - val_accuracy: 0.5996 - combine_accuracy: 0.5995\n",
      "Epoch 2/10\n",
      "782/782 [==============================] - 131s 168ms/step - loss: 1.2003 - accuracy: 0.5985 - val_loss: 1.1830 - val_accuracy: 0.5996 - combine_accuracy: 0.5996\n",
      "Epoch 3/10\n",
      "782/782 [==============================] - 127s 163ms/step - loss: 1.1939 - accuracy: 0.5995 - val_loss: 1.1821 - val_accuracy: 0.5990 - combine_accuracy: 0.5990\n",
      "Epoch 4/10\n",
      "782/782 [==============================] - 128s 163ms/step - loss: 1.1911 - accuracy: 0.5998 - val_loss: 1.1931 - val_accuracy: 0.5996 - combine_accuracy: 0.5996\n",
      "Epoch 5/10\n",
      "782/782 [==============================] - 127s 162ms/step - loss: 1.0281 - accuracy: 0.6177 - val_loss: 0.9178 - val_accuracy: 0.6404 - combine_accuracy: 0.6404\n",
      "Epoch 6/10\n",
      "782/782 [==============================] - 130s 167ms/step - loss: 0.9498 - accuracy: 0.6336 - val_loss: 0.8965 - val_accuracy: 0.6438 - combine_accuracy: 0.6438\n",
      "Epoch 7/10\n",
      "782/782 [==============================] - 133s 169ms/step - loss: 0.9156 - accuracy: 0.6486 - val_loss: 0.8790 - val_accuracy: 0.6614 - combine_accuracy: 0.6614\n",
      "Epoch 8/10\n",
      "782/782 [==============================] - 127s 162ms/step - loss: 0.8889 - accuracy: 0.6585 - val_loss: 0.8648 - val_accuracy: 0.6672 - combine_accuracy: 0.6672\n",
      "Epoch 9/10\n",
      "782/782 [==============================] - 126s 161ms/step - loss: 0.8584 - accuracy: 0.6700 - val_loss: 0.8768 - val_accuracy: 0.6574 - combine_accuracy: 0.6574\n",
      "Epoch 10/10\n",
      "782/782 [==============================] - 127s 162ms/step - loss: 0.8280 - accuracy: 0.6829 - val_loss: 0.8638 - val_accuracy: 0.6680 - combine_accuracy: 0.6680\n",
      "WARNING:tensorflow:Layer lstm_1 will not use cuDNN kernels since it doesn't meet the criteria. It will use a generic GPU kernel as fallback when running on GPU.\n",
      "157/157 [==============================] - 4s 24ms/step\n",
      "Model: \"sequential_2\"\n",
      "_________________________________________________________________\n",
      " Layer (type)                Output Shape              Param #   \n",
      "=================================================================\n",
      " embedding_2 (Embedding)     (None, None, 100)         31067500  \n",
      "                                                                 \n",
      " lstm_2 (LSTM)               (None, 128)               117248    \n",
      "                                                                 \n",
      " dense_4 (Dense)             (None, 128)               16512     \n",
      "                                                                 \n",
      " batch_normalization_2 (Bat  (None, 128)               512       \n",
      " chNormalization)                                                \n",
      "                                                                 \n",
      " dropout_2 (Dropout)         (None, 128)               0         \n",
      "                                                                 \n",
      " dense_5 (Dense)             (None, 5)                 645       \n",
      "                                                                 \n",
      "=================================================================\n",
      "Total params: 31202417 (119.03 MB)\n",
      "Trainable params: 31202161 (119.03 MB)\n",
      "Non-trainable params: 256 (1.00 KB)\n",
      "_________________________________________________________________\n",
      "Epoch 1/10\n",
      "782/782 [==============================] - 30s 35ms/step - loss: 1.1313 - accuracy: 0.6069 - val_loss: 0.9830 - val_accuracy: 0.6376 - combine_accuracy: 0.6376\n",
      "Epoch 2/10\n",
      "782/782 [==============================] - 13s 16ms/step - loss: 0.8789 - accuracy: 0.6595 - val_loss: 0.8716 - val_accuracy: 0.6536 - combine_accuracy: 0.6536\n",
      "Epoch 3/10\n",
      "782/782 [==============================] - 10s 12ms/step - loss: 0.8001 - accuracy: 0.6881 - val_loss: 0.9870 - val_accuracy: 0.6496 - combine_accuracy: 0.6496\n",
      "Epoch 4/10\n",
      "782/782 [==============================] - 9s 12ms/step - loss: 0.7117 - accuracy: 0.7251 - val_loss: 0.9610 - val_accuracy: 0.6600 - combine_accuracy: 0.6601\n",
      "Epoch 5/10\n",
      "782/782 [==============================] - 8s 10ms/step - loss: 0.6230 - accuracy: 0.7657 - val_loss: 1.0209 - val_accuracy: 0.6468 - combine_accuracy: 0.6469\n",
      "Epoch 6/10\n",
      "782/782 [==============================] - 8s 10ms/step - loss: 0.5415 - accuracy: 0.7976 - val_loss: 1.2172 - val_accuracy: 0.6482 - combine_accuracy: 0.6483\n",
      "Epoch 7/10\n",
      "782/782 [==============================] - 7s 9ms/step - loss: 0.4878 - accuracy: 0.8202 - val_loss: 1.2304 - val_accuracy: 0.6254 - combine_accuracy: 0.6256\n",
      "Epoch 8/10\n",
      "782/782 [==============================] - 8s 10ms/step - loss: 0.4525 - accuracy: 0.8323 - val_loss: 1.3337 - val_accuracy: 0.6252 - combine_accuracy: 0.6254\n",
      "Epoch 9/10\n",
      "782/782 [==============================] - 7s 9ms/step - loss: 0.4142 - accuracy: 0.8467 - val_loss: 1.4556 - val_accuracy: 0.6368 - combine_accuracy: 0.6370\n",
      "Epoch 10/10\n",
      "782/782 [==============================] - 7s 9ms/step - loss: 0.3852 - accuracy: 0.8596 - val_loss: 1.5091 - val_accuracy: 0.6266 - combine_accuracy: 0.6268\n",
      "157/157 [==============================] - 1s 2ms/step\n",
      "WARNING:tensorflow:Layer lstm_3 will not use cuDNN kernels since it doesn't meet the criteria. It will use a generic GPU kernel as fallback when running on GPU.\n",
      "Model: \"sequential_3\"\n",
      "_________________________________________________________________\n",
      " Layer (type)                Output Shape              Param #   \n",
      "=================================================================\n",
      " embedding_3 (Embedding)     (None, None, 100)         31067500  \n",
      "                                                                 \n",
      " lstm_3 (LSTM)               (None, 128)               117248    \n",
      "                                                                 \n",
      " dense_6 (Dense)             (None, 128)               16512     \n",
      "                                                                 \n",
      " batch_normalization_3 (Bat  (None, 128)               512       \n",
      " chNormalization)                                                \n",
      "                                                                 \n",
      " dropout_3 (Dropout)         (None, 128)               0         \n",
      "                                                                 \n",
      " dense_7 (Dense)             (None, 5)                 645       \n",
      "                                                                 \n",
      "=================================================================\n",
      "Total params: 31202417 (119.03 MB)\n",
      "Trainable params: 31202161 (119.03 MB)\n",
      "Non-trainable params: 256 (1.00 KB)\n",
      "_________________________________________________________________\n",
      "Epoch 1/10\n",
      "782/782 [==============================] - 149s 186ms/step - loss: 1.3133 - accuracy: 0.5636 - val_loss: 1.1835 - val_accuracy: 0.5996 - combine_accuracy: 0.5996\n",
      "Epoch 2/10\n",
      "782/782 [==============================] - 131s 168ms/step - loss: 1.1445 - accuracy: 0.6015 - val_loss: 0.9510 - val_accuracy: 0.6312 - combine_accuracy: 0.6312\n",
      "Epoch 3/10\n",
      "782/782 [==============================] - 129s 165ms/step - loss: 0.9869 - accuracy: 0.6252 - val_loss: 0.9063 - val_accuracy: 0.6566 - combine_accuracy: 0.6566\n",
      "Epoch 4/10\n",
      "782/782 [==============================] - 128s 163ms/step - loss: 0.9261 - accuracy: 0.6459 - val_loss: 0.8846 - val_accuracy: 0.6658 - combine_accuracy: 0.6658\n",
      "Epoch 5/10\n",
      "782/782 [==============================] - 127s 163ms/step - loss: 0.8985 - accuracy: 0.6552 - val_loss: 0.9202 - val_accuracy: 0.6510 - combine_accuracy: 0.6510\n",
      "Epoch 6/10\n",
      "782/782 [==============================] - 127s 163ms/step - loss: 0.8632 - accuracy: 0.6687 - val_loss: 0.8376 - val_accuracy: 0.6758 - combine_accuracy: 0.6758\n",
      "Epoch 7/10\n",
      "782/782 [==============================] - 127s 162ms/step - loss: 0.8352 - accuracy: 0.6783 - val_loss: 0.8429 - val_accuracy: 0.6730 - combine_accuracy: 0.6730\n",
      "Epoch 8/10\n",
      "782/782 [==============================] - 126s 162ms/step - loss: 0.8012 - accuracy: 0.6919 - val_loss: 0.8592 - val_accuracy: 0.6686 - combine_accuracy: 0.6686\n",
      "Epoch 9/10\n",
      "782/782 [==============================] - 128s 163ms/step - loss: 0.7647 - accuracy: 0.7060 - val_loss: 0.8873 - val_accuracy: 0.6672 - combine_accuracy: 0.6672\n",
      "Epoch 10/10\n",
      "782/782 [==============================] - 127s 162ms/step - loss: 0.7331 - accuracy: 0.7203 - val_loss: 0.9022 - val_accuracy: 0.6638 - combine_accuracy: 0.6639\n",
      "WARNING:tensorflow:Layer lstm_3 will not use cuDNN kernels since it doesn't meet the criteria. It will use a generic GPU kernel as fallback when running on GPU.\n",
      "157/157 [==============================] - 4s 24ms/step\n"
     ]
    }
   ],
   "source": [
    "histories, proxperfs = tune_model(X_train, X_val, Y_train, Y_val, ntoks,\n",
    "               inputsz, w2vsz, embed_model)"
   ]
  },
  {
   "cell_type": "code",
   "execution_count": 18,
   "id": "79657615-4751-4ca0-bbe4-bbb23155c0a7",
   "metadata": {
    "tags": []
   },
   "outputs": [
    {
     "name": "stdout",
     "output_type": "stream",
     "text": [
      "units=64, do=0.0, proximalperf=0.8907200000000001\n",
      "units=64, do=0.5, proximalperf=0.8952400000000001\n",
      "units=128, do=0.0, proximalperf=0.8914799999999999\n",
      "units=128, do=0.5, proximalperf=0.8972400000000001\n"
     ]
    },
    {
     "data": {
      "image/png": "[encoded data removed]",
      "text/plain": [
       "<Figure size 1200x1200 with 4 Axes>"
      ]
     },
     "metadata": {},
     "output_type": "display_data"
    }
   ],
   "source": [
    "def plot_tuning(histories, proxperfs):\n",
    "    nrow = 2\n",
    "    ncol = 2\n",
    "    titles = ['units=64, do=0.0', 'units=64, do=0.5', 'units=128, do=0.0', 'units=128, do=0.5']\n",
    "    fig, ax = plt.subplots(nrow, ncol, figsize=(12, 12))\n",
    "    ctr = 0\n",
    "    for ir in range(0, nrow):\n",
    "        for ic in range(0, ncol):\n",
    "            print('{}, proximalperf={}'.format(titles[ctr], proxperfs[ctr]))\n",
    "            ax[ir, ic].plot(histories[ctr].history['accuracy'])\n",
    "            ax[ir, ic].plot(histories[ctr].history['val_accuracy'])\n",
    "            ax[ir, ic].set_title(titles[ctr])\n",
    "            ax[ir, ic].set_ylabel('accuracy')\n",
    "            ax[ir, ic].set_xlabel('epoch')\n",
    "            ax[ir, ic].legend(['train', 'val'], loc='upper left')\n",
    "                                        \n",
    "            ctr += 1\n",
    "    plt.show()\n",
    "            \n",
    "plot_tuning(histories, proxperfs)"
   ]
  },
  {
   "cell_type": "markdown",
   "id": "983b3ae8-749e-42f8-84df-224a63826c89",
   "metadata": {
    "tags": []
   },
   "source": [
    "**As expected the models without dropout demonstrated overfitting in the plots.**\n",
    "\n",
    "**Between the *dropout=0.5* models in the *proximalperf* output, the 128 neuron model showed the best performance.  This means that while accuracy was comparable with the 64 neuron model, the 128 neuron model was less erroneous in the magnitude of difference in star predictions (i.e. being only 1 star off, rather than 2 stars off).**\n",
    "\n",
    "**Hence we will select *dropout=0.5* and 128 neurons for the final model.**"
   ]
  },
  {
   "cell_type": "code",
   "execution_count": 19,
   "id": "c4e2b990-294c-4fb6-bac9-b0630f09c0ca",
   "metadata": {},
   "outputs": [],
   "source": [
    "def finalize_model(X_train, X_test, Y_train, Y_test, ntoks,\n",
    "               inputsz, w2vsz, embed_model):\n",
    "    X_train = X_train\n",
    "    Y_train = Y_train\n",
    "    X_vt = X_test\n",
    "    Y_vt = Y_test\n",
    "\n",
    "    epochs = 5\n",
    "    batch_size = 64\n",
    "    embed_mat = embed_model.wv.vectors\n",
    "    lstmunits = 128\n",
    "    lstmdo = 0.5\n",
    "    rdo = 0.5\n",
    "    fcunits = 128\n",
    "    fcd = 0.5\n",
    "\n",
    "    history, y_preds = train_eval_mod(X_train, X_vt, Y_train, Y_vt, epochs,\n",
    "            batch_size, ntoks, w2vsz, embed_mat, lstmunits, lstmdo,\n",
    "            rdo, fcunits, fcd)\n",
    "    proxperf = get_proximalperf(Y_vt, y_preds)\n",
    "    \n",
    "    return history, proxperf\n",
    "    "
   ]
  },
  {
   "cell_type": "code",
   "execution_count": 20,
   "id": "6bee3bb0-ad09-4505-85d0-a00296300adb",
   "metadata": {
    "tags": []
   },
   "outputs": [
    {
     "name": "stdout",
     "output_type": "stream",
     "text": [
      "WARNING:tensorflow:Layer lstm_4 will not use cuDNN kernels since it doesn't meet the criteria. It will use a generic GPU kernel as fallback when running on GPU.\n",
      "Model: \"sequential_4\"\n",
      "_________________________________________________________________\n",
      " Layer (type)                Output Shape              Param #   \n",
      "=================================================================\n",
      " embedding_4 (Embedding)     (None, None, 100)         31067500  \n",
      "                                                                 \n",
      " lstm_4 (LSTM)               (None, 128)               117248    \n",
      "                                                                 \n",
      " dense_8 (Dense)             (None, 128)               16512     \n",
      "                                                                 \n",
      " batch_normalization_4 (Bat  (None, 128)               512       \n",
      " chNormalization)                                                \n",
      "                                                                 \n",
      " dropout_4 (Dropout)         (None, 128)               0         \n",
      "                                                                 \n",
      " dense_9 (Dense)             (None, 5)                 645       \n",
      "                                                                 \n",
      "=================================================================\n",
      "Total params: 31202417 (119.03 MB)\n",
      "Trainable params: 31202161 (119.03 MB)\n",
      "Non-trainable params: 256 (1.00 KB)\n",
      "_________________________________________________________________\n",
      "Epoch 1/5\n",
      "10359/10359 [==============================] - 1711s 165ms/step - loss: 0.9306 - accuracy: 0.6486 - val_loss: 0.8151 - val_accuracy: 0.6839 - combine_accuracy: 0.6839\n",
      "Epoch 2/5\n",
      "10359/10359 [==============================] - 1683s 162ms/step - loss: 0.8337 - accuracy: 0.6766 - val_loss: 0.8003 - val_accuracy: 0.6870 - combine_accuracy: 0.6870\n",
      "Epoch 3/5\n",
      "10359/10359 [==============================] - 1684s 163ms/step - loss: 0.7973 - accuracy: 0.6909 - val_loss: 0.8143 - val_accuracy: 0.6863 - combine_accuracy: 0.6863\n",
      "Epoch 4/5\n",
      "10359/10359 [==============================] - 1685s 163ms/step - loss: 0.7591 - accuracy: 0.7087 - val_loss: 0.8549 - val_accuracy: 0.6751 - combine_accuracy: 0.6752\n",
      "Epoch 5/5\n",
      "10359/10359 [==============================] - 1682s 162ms/step - loss: 0.7197 - accuracy: 0.7269 - val_loss: 0.8867 - val_accuracy: 0.6743 - combine_accuracy: 0.6744\n",
      "WARNING:tensorflow:Layer lstm_4 will not use cuDNN kernels since it doesn't meet the criteria. It will use a generic GPU kernel as fallback when running on GPU.\n",
      "2590/2590 [==============================] - 67s 26ms/step\n"
     ]
    }
   ],
   "source": [
    "history, proxperf = finalize_model(X_train, X_test, Y_train, Y_test, ntoks,\n",
    "               inputsz, w2vsz, embed_model)"
   ]
  },
  {
   "cell_type": "code",
   "execution_count": 21,
   "id": "e30aab5f-5709-4840-9bfd-9303d48946b9",
   "metadata": {
    "tags": []
   },
   "outputs": [
    {
     "name": "stdout",
     "output_type": "stream",
     "text": [
      "0.9059008084952335\n"
     ]
    },
    {
     "data": {
      "image/png": "[encoded data removed]",
      "text/plain": [
       "<Figure size 640x480 with 1 Axes>"
      ]
     },
     "metadata": {},
     "output_type": "display_data"
    }
   ],
   "source": [
    "print(proxperf)\n",
    "plt.plot(history.history['accuracy'])\n",
    "plt.plot(history.history['val_accuracy'])\n",
    "plt.title('Final Model, 128 neurons, do=0.5')\n",
    "plt.ylabel('accuracy')\n",
    "plt.xlabel('epoch')\n",
    "plt.legend(['train', 'val'], loc='upper left')\n",
    "plt.show()\n"
   ]
  },
  {
   "cell_type": "markdown",
   "id": "13a69067-201a-42c2-be0a-60ff47f63cbf",
   "metadata": {},
   "source": [
    "**Curiously, there seems to be some overfitting in spite of dropout=0.5 in place at the LSTM input, LSTM recurrent state, and the dense layer.  Nonetheless, the validation accuracy remains in range with the hyperparameter tuning results (approx %68) and exceeds the trivial result (%60.3).  Additionally, the *proximalperf* result is the highest, which is what we expected after using a much larger training set and more epochs.**"
   ]
  },
  {
   "cell_type": "code",
   "execution_count": null,
   "id": "52ef5bfe-1fe4-4dea-87f5-e8b0b01fc189",
   "metadata": {},
   "outputs": [],
   "source": []
  }
 ],
 "metadata": {
  "kernelspec": {
   "display_name": "Python 3 (ipykernel)",
   "language": "python",
   "name": "python3"
  },
  "language_info": {
   "codemirror_mode": {
    "name": "ipython",
    "version": 3
   },
   "file_extension": ".py",
   "mimetype": "text/x-python",
   "name": "python",
   "nbconvert_exporter": "python",
   "pygments_lexer": "ipython3",
   "version": "3.11.5"
  }
 },
 "nbformat": 4,
 "nbformat_minor": 5
}
