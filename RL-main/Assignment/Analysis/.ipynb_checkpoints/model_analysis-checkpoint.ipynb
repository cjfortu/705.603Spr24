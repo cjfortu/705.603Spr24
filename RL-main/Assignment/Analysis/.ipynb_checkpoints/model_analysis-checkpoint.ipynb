{
 "cells": [
  {
   "cell_type": "markdown",
   "metadata": {
    "jupyter": {
     "outputs_hidden": false
    }
   },
   "source": [
    "# Model Analysis\n",
    "\n",
    "**Our game will be to predict what actions to take for a given customer type for each day type. An episode will be defined as a single pass through all customer types for each day type.**"
   ]
  },
  {
   "cell_type": "code",
   "execution_count": 1,
   "metadata": {
    "collapsed": false,
    "jupyter": {
     "outputs_hidden": false
    }
   },
   "outputs": [],
   "source": [
    "import pandas as pd\n",
    "import numpy as np\n",
    "import pickle\n",
    "import holidays\n",
    "import time\n",
    "import matplotlib.pyplot as plt\n",
    "from multiprocessing import Pool\n",
    "from itertools import repeat\n",
    "from helpers import get_utypes\n",
    "\n",
    "pd.set_option('display.max_columns', None)\n",
    "pd.set_option('display.width', None)"
   ]
  },
  {
   "cell_type": "code",
   "execution_count": 2,
   "metadata": {
    "tags": []
   },
   "outputs": [
    {
     "name": "stdout",
     "output_type": "stream",
     "text": [
      "262144\n"
     ]
    }
   ],
   "source": [
    "with open ('../data/ubseq.bin', 'rb') as f:\n",
    "    ubseq = pickle.load(f)\n",
    "\n",
    "print(len(ubseq.keys()))\n"
   ]
  },
  {
   "cell_type": "code",
   "execution_count": 3,
   "metadata": {
    "tags": []
   },
   "outputs": [
    {
     "data": {
      "text/html": [
       "<div>\n",
       "<style scoped>\n",
       "    .dataframe tbody tr th:only-of-type {\n",
       "        vertical-align: middle;\n",
       "    }\n",
       "\n",
       "    .dataframe tbody tr th {\n",
       "        vertical-align: top;\n",
       "    }\n",
       "\n",
       "    .dataframe thead th {\n",
       "        text-align: right;\n",
       "    }\n",
       "</style>\n",
       "<table border=\"1\" class=\"dataframe\">\n",
       "  <thead>\n",
       "    <tr style=\"text-align: right;\">\n",
       "      <th></th>\n",
       "      <th>Customer_ID</th>\n",
       "      <th>SubjectLine_ID</th>\n",
       "      <th>Date</th>\n",
       "      <th>weekend</th>\n",
       "      <th>friday</th>\n",
       "      <th>holiday</th>\n",
       "      <th>resp</th>\n",
       "    </tr>\n",
       "  </thead>\n",
       "  <tbody>\n",
       "    <tr>\n",
       "      <th>0</th>\n",
       "      <td>1413</td>\n",
       "      <td>2</td>\n",
       "      <td>2016-01-28</td>\n",
       "      <td>False</td>\n",
       "      <td>False</td>\n",
       "      <td>False</td>\n",
       "      <td>False</td>\n",
       "    </tr>\n",
       "    <tr>\n",
       "      <th>1</th>\n",
       "      <td>83889</td>\n",
       "      <td>2</td>\n",
       "      <td>2016-03-02</td>\n",
       "      <td>False</td>\n",
       "      <td>False</td>\n",
       "      <td>False</td>\n",
       "      <td>False</td>\n",
       "    </tr>\n",
       "    <tr>\n",
       "      <th>2</th>\n",
       "      <td>457832</td>\n",
       "      <td>3</td>\n",
       "      <td>2016-03-09</td>\n",
       "      <td>False</td>\n",
       "      <td>False</td>\n",
       "      <td>False</td>\n",
       "      <td>False</td>\n",
       "    </tr>\n",
       "    <tr>\n",
       "      <th>3</th>\n",
       "      <td>127772</td>\n",
       "      <td>1</td>\n",
       "      <td>2016-01-20</td>\n",
       "      <td>False</td>\n",
       "      <td>False</td>\n",
       "      <td>False</td>\n",
       "      <td>False</td>\n",
       "    </tr>\n",
       "    <tr>\n",
       "      <th>4</th>\n",
       "      <td>192123</td>\n",
       "      <td>3</td>\n",
       "      <td>2016-02-03</td>\n",
       "      <td>False</td>\n",
       "      <td>False</td>\n",
       "      <td>False</td>\n",
       "      <td>False</td>\n",
       "    </tr>\n",
       "    <tr>\n",
       "      <th>...</th>\n",
       "      <td>...</td>\n",
       "      <td>...</td>\n",
       "      <td>...</td>\n",
       "      <td>...</td>\n",
       "      <td>...</td>\n",
       "      <td>...</td>\n",
       "      <td>...</td>\n",
       "    </tr>\n",
       "    <tr>\n",
       "      <th>2476650</th>\n",
       "      <td>46081</td>\n",
       "      <td>1</td>\n",
       "      <td>2016-02-22</td>\n",
       "      <td>False</td>\n",
       "      <td>False</td>\n",
       "      <td>False</td>\n",
       "      <td>True</td>\n",
       "    </tr>\n",
       "    <tr>\n",
       "      <th>2476651</th>\n",
       "      <td>34101</td>\n",
       "      <td>2</td>\n",
       "      <td>2016-03-17</td>\n",
       "      <td>False</td>\n",
       "      <td>False</td>\n",
       "      <td>False</td>\n",
       "      <td>True</td>\n",
       "    </tr>\n",
       "    <tr>\n",
       "      <th>2476652</th>\n",
       "      <td>337686</td>\n",
       "      <td>2</td>\n",
       "      <td>2016-01-06</td>\n",
       "      <td>False</td>\n",
       "      <td>False</td>\n",
       "      <td>False</td>\n",
       "      <td>True</td>\n",
       "    </tr>\n",
       "    <tr>\n",
       "      <th>2476653</th>\n",
       "      <td>78807</td>\n",
       "      <td>2</td>\n",
       "      <td>2016-01-21</td>\n",
       "      <td>False</td>\n",
       "      <td>False</td>\n",
       "      <td>False</td>\n",
       "      <td>True</td>\n",
       "    </tr>\n",
       "    <tr>\n",
       "      <th>2476654</th>\n",
       "      <td>317419</td>\n",
       "      <td>3</td>\n",
       "      <td>2016-01-30</td>\n",
       "      <td>True</td>\n",
       "      <td>False</td>\n",
       "      <td>False</td>\n",
       "      <td>True</td>\n",
       "    </tr>\n",
       "  </tbody>\n",
       "</table>\n",
       "<p>2476655 rows × 7 columns</p>\n",
       "</div>"
      ],
      "text/plain": [
       "         Customer_ID  SubjectLine_ID       Date  weekend  friday  holiday  \\\n",
       "0               1413               2 2016-01-28    False   False    False   \n",
       "1              83889               2 2016-03-02    False   False    False   \n",
       "2             457832               3 2016-03-09    False   False    False   \n",
       "3             127772               1 2016-01-20    False   False    False   \n",
       "4             192123               3 2016-02-03    False   False    False   \n",
       "...              ...             ...        ...      ...     ...      ...   \n",
       "2476650        46081               1 2016-02-22    False   False    False   \n",
       "2476651        34101               2 2016-03-17    False   False    False   \n",
       "2476652       337686               2 2016-01-06    False   False    False   \n",
       "2476653        78807               2 2016-01-21    False   False    False   \n",
       "2476654       317419               3 2016-01-30     True   False    False   \n",
       "\n",
       "          resp  \n",
       "0        False  \n",
       "1        False  \n",
       "2        False  \n",
       "3        False  \n",
       "4        False  \n",
       "...        ...  \n",
       "2476650   True  \n",
       "2476651   True  \n",
       "2476652   True  \n",
       "2476653   True  \n",
       "2476654   True  \n",
       "\n",
       "[2476655 rows x 7 columns]"
      ]
     },
     "execution_count": 3,
     "metadata": {},
     "output_type": "execute_result"
    }
   ],
   "source": [
    "with open ('../data/dfres.bin', 'rb') as f:\n",
    "    dfres = pickle.load(f)\n",
    "\n",
    "dfres"
   ]
  },
  {
   "cell_type": "markdown",
   "metadata": {},
   "source": [
    "## The environment class"
   ]
  },
  {
   "cell_type": "code",
   "execution_count": 4,
   "metadata": {
    "collapsed": false,
    "jupyter": {
     "outputs_hidden": false
    },
    "tags": []
   },
   "outputs": [],
   "source": [
    "class emailenv:\n",
    "    def __init__(self, ubseq, dfres, rewthresh, mode='Train'):\n",
    "        self.ubseq = ubseq\n",
    "        self.dfres = dfres\n",
    "        self.rewthresh = rewthresh\n",
    "        self.offset = 1e-20\n",
    "        \n",
    "        self.utypidx = 0\n",
    "        self.maxbatsteps = 2**18\n",
    "        if mode == 'Train':\n",
    "            self.utyps = list(ubseq.keys())\n",
    "            self.get_next_valid_state()\n",
    "            \n",
    "\n",
    "    def get_next_valid_state(self):\n",
    "        \"\"\"\n",
    "        Gets the next state with associated data.\n",
    "        \n",
    "        Necessary since some states have no associated data\n",
    "        \"\"\"\n",
    "        self.curusrs = self.ubseq[self.utyps[self.utypidx]]\n",
    "        while len(self.curusrs) == 0:\n",
    "            self.utypidx += 1\n",
    "            if self.isdone() == True:\n",
    "                return\n",
    "            self.curusrs = self.ubseq[self.utyps[self.utypidx]]\n",
    "        self.res = self.dfres.loc[self.dfres['Customer_ID'].\\\n",
    "                isin(self.curusrs)].\\\n",
    "                reset_index()\n",
    "        self.wdfrihol = 0  # up to 7 for wknd=True, fri=True, hol=True. 0 means all False\n",
    "        self.stateidx = self.utypidx + (self.wdfrihol * 2**18)\n",
    "    \n",
    "    \n",
    "    def get_state(self):\n",
    "        return self.stateidx\n",
    "\n",
    "\n",
    "    def isdone(self):\n",
    "        if self.utypidx == self.maxbatsteps - 1:\n",
    "            return True\n",
    "        else:\n",
    "            return False\n",
    "\n",
    "\n",
    "    def proc_reward_conv(self, act):\n",
    "        \"\"\"\n",
    "        Computes the reward and conversion numbers.\n",
    "        \n",
    "        Reward is designed so a state-action pair (for action != 0) must have\n",
    "        a conversion >= 1/rewthresh in order to learn that action as\n",
    "        opposed to action=0\n",
    "        \"\"\"\n",
    "        if act != 0:  # send an email with one of three subject lines\n",
    "            # the day type in binary\n",
    "            wdfriholbin = '{0:03b}'.format(self.wdfrihol)\n",
    "            # assign the binary values to holiday, friday, and weekend day types\n",
    "            hol, fri, wknd = int(wdfriholbin[0]), int(wdfriholbin[1]), int(wdfriholbin[2])\n",
    "            nfails = len(self.res.loc[(self.res['SubjectLine_ID'] == act) &\\\n",
    "                    (self.res['weekend'] == wknd) & (self.res['friday'] == fri) &\\\n",
    "                    (self.res['holiday'] == hol) & (self.res['resp'] == False)])\n",
    "            nresp = len(self.res.loc[(self.res['SubjectLine_ID'] == act) &\\\n",
    "                    (self.res['weekend'] == wknd) & (self.res['friday'] == fri) &\\\n",
    "                    (self.res['holiday'] == hol) & (self.res['resp'] == True)])\n",
    "            nsent = nfails + nresp + self.offset\n",
    "            # reward is negative if the state-action pair has insuffucient responses\n",
    "            if nsent != self.offset:\n",
    "                reward = (-1 * nfails) + (self.rewthresh * nresp)\n",
    "            else:\n",
    "                reward = -1\n",
    "        elif act == 0:  # do not send an email\n",
    "            reward = 0\n",
    "            nresp = 0\n",
    "            nsent = self.offset\n",
    "\n",
    "        return reward, nresp, nsent\n",
    "\n",
    "\n",
    "    def step(self, act):\n",
    "        self.wdfrihol += 1  # each step cycles through weekend, friday, or holiday day tyoes\n",
    "        if self.wdfrihol == 8:  # move to next user type after cycling though day types\n",
    "            self.utypidx += 1\n",
    "            self.get_next_valid_state()\n",
    "        else:\n",
    "            self.stateidx = self.utypidx + (self.wdfrihol * 2**18)\n",
    "        reward, nresp, nsent = self.proc_reward_conv(act)\n",
    "        self.done = self.isdone()\n",
    "\n",
    "        return self.stateidx, reward, nresp, nsent, self.done\n",
    "\n",
    "\n",
    "    def reset(self):\n",
    "        self.utypidx = 0\n",
    "        self.stepn = 0\n",
    "        self.get_next_valid_state()\n"
   ]
  },
  {
   "cell_type": "markdown",
   "metadata": {},
   "source": [
    "## Model training\n",
    "\n",
    "**We will use Q-Learning.**"
   ]
  },
  {
   "cell_type": "code",
   "execution_count": 5,
   "metadata": {
    "collapsed": false,
    "jupyter": {
     "outputs_hidden": false
    },
    "tags": []
   },
   "outputs": [],
   "source": [
    "def rl_train(rewthresh, maxepisodes):\n",
    "    \"\"\"Training the agent\"\"\"\n",
    "    q_table = np.zeros([2**21, 4])\n",
    "\n",
    "    # Hyperparameters\n",
    "    alpha = 0.1  # Learning rate\n",
    "    gamma = 1.0  # Discount rate. All steps matter equally.\n",
    "    epsilon = 1.0  # Exploration rate\n",
    "    epsilonmin = 0.01\n",
    "    maxepisodes = maxepisodes\n",
    "    epsdecay = np.power(epsilonmin/epsilon, 1/(maxepisodes-1))  # epsilon decay\n",
    "    rewthresh = rewthresh  # Reward for responses.  1/rewthresh = conversion rate cutoff\n",
    "\n",
    "    # Initialize the environment\n",
    "    env = emailenv(ubseq, dfres, rewthresh)\n",
    "\n",
    "    # Performance metrics\n",
    "    ep_rewards = np.zeros([maxepisodes])\n",
    "    ep_convs = np.zeros([maxepisodes])\n",
    "\n",
    "    episode = 0\n",
    "    bestep = -9e9\n",
    "    for episode in range(0, maxepisodes):  # train across episodes\n",
    "        done = False\n",
    "\n",
    "        epstT = time.time()\n",
    "        respall = 0\n",
    "        sentall = 0\n",
    "        while not done:  # train within episode\n",
    "            state = env.get_state()\n",
    "            if np.random.uniform(0.0, 1.0) < epsilon:\n",
    "                action = np.random.randint(0, 4) #Explore\n",
    "            else:\n",
    "                action = np.argmax(q_table[state, :]) #Exploit\n",
    "\n",
    "            new_state, reward, nresp, nsent, done = env.step(action)\n",
    "\n",
    "            new_state_max = np.max(q_table[new_state, :])\n",
    "\n",
    "            q_table[state, action] =\\\n",
    "                (1 - alpha) * q_table[state, action] +\\\n",
    "                alpha * (reward + gamma * new_state_max)\n",
    "\n",
    "            ep_rewards[episode] += reward\n",
    "\n",
    "            respall += nresp\n",
    "            sentall += nsent\n",
    "\n",
    "        epsold = epsilon\n",
    "        epsilon *= epsdecay\n",
    "        if epsilon >= epsilonmin:  # manage epsilon decay\n",
    "            pass\n",
    "        else:\n",
    "            epsilon = 0.05\n",
    "            \n",
    "        ep_convs[episode] = respall / sentall\n",
    "        if ep_convs[episode] > bestep:  # Save top performing q_table\n",
    "            perf = str(ep_convs[episode]).split('.')[1][:4]\n",
    "            with open ('../q_tables/q_table_{}-{}.bin'.format(episode, perf), 'wb') as f:\n",
    "                pickle.dump(q_table, f)\n",
    "            bestep = ep_convs[episode]\n",
    "\n",
    "        epT = time.time() - epstT\n",
    "        print('Episode: {}, ep_reward: {:.1f}, ep_conv: {:.4f}, epsilon: {:.3f}, #resp: {}, time: {:.2f}'.\\\n",
    "              format(episode, ep_rewards[episode], ep_convs[episode], epsold, respall, epT))\n",
    "\n",
    "        #Reset environment\n",
    "        state = env.reset()\n",
    "\n",
    "    print(\"\\n===Training completed.===\\n\")\n",
    "    \n",
    "    return ep_rewards, ep_convs\n",
    "\n"
   ]
  },
  {
   "cell_type": "markdown",
   "metadata": {},
   "source": [
    "## Model tuning\n",
    "\n",
    "**We will tune the reward threshold, *rewthresh*. This hyperparameter allows us to screen out state-action pairs which do not result in a minimum conversion.**\n",
    "\n",
    "***rewthresh*=10 equates to a minimum conversion of 0.10**  \n",
    "***rewthresh*=5 equates to a minimum conversion of 0.2**  \n",
    "***rewthresh*=3 equates to a minimum conversion of 0.33**  "
   ]
  },
  {
   "cell_type": "code",
   "execution_count": 6,
   "metadata": {
    "tags": []
   },
   "outputs": [
    {
     "name": "stdout",
     "output_type": "stream",
     "text": [
      "Tuning rewthresh = 10\n",
      "Episode: 0, ep_reward: 8311.0, ep_conv: 0.0924, epsilon: 1.000, #resp: 58022, time: 32.92\n",
      "Episode: 1, ep_reward: 22767.0, ep_conv: 0.0949, epsilon: 0.785, #resp: 52931, time: 30.87\n",
      "Episode: 2, ep_reward: 36154.0, ep_conv: 0.0971, epsilon: 0.616, #resp: 53208, time: 29.83\n",
      "Episode: 3, ep_reward: 43929.0, ep_conv: 0.0980, epsilon: 0.483, #resp: 56969, time: 29.35\n",
      "Episode: 4, ep_reward: 55637.0, ep_conv: 0.1000, epsilon: 0.379, #resp: 56899, time: 29.15\n",
      "Episode: 5, ep_reward: 65466.0, ep_conv: 0.1009, epsilon: 0.298, #resp: 60802, time: 29.91\n",
      "Episode: 6, ep_reward: 72864.0, ep_conv: 0.1024, epsilon: 0.234, #resp: 59513, time: 30.04\n",
      "Episode: 7, ep_reward: 79337.0, ep_conv: 0.1033, epsilon: 0.183, #resp: 60710, time: 28.89\n",
      "Episode: 8, ep_reward: 83669.0, ep_conv: 0.1041, epsilon: 0.144, #resp: 60382, time: 28.74\n",
      "Episode: 9, ep_reward: 89409.0, ep_conv: 0.1047, epsilon: 0.113, #resp: 62071, time: 28.32\n",
      "Episode: 10, ep_reward: 88425.0, ep_conv: 0.1044, epsilon: 0.089, #resp: 62578, time: 28.74\n",
      "Episode: 11, ep_reward: 92706.0, ep_conv: 0.1051, epsilon: 0.070, #resp: 62880, time: 28.62\n",
      "Episode: 12, ep_reward: 92554.0, ep_conv: 0.1051, epsilon: 0.055, #resp: 62709, time: 28.25\n",
      "Episode: 13, ep_reward: 92746.0, ep_conv: 0.1052, epsilon: 0.043, #resp: 62177, time: 28.37\n",
      "Episode: 14, ep_reward: 96404.0, ep_conv: 0.1056, epsilon: 0.034, #resp: 63367, time: 28.05\n",
      "Episode: 15, ep_reward: 95752.0, ep_conv: 0.1055, epsilon: 0.026, #resp: 63040, time: 28.14\n",
      "Episode: 16, ep_reward: 96789.0, ep_conv: 0.1057, epsilon: 0.021, #resp: 63091, time: 28.01\n",
      "Episode: 17, ep_reward: 97302.0, ep_conv: 0.1058, epsilon: 0.016, #resp: 63055, time: 28.19\n",
      "Episode: 18, ep_reward: 97574.0, ep_conv: 0.1058, epsilon: 0.013, #resp: 63094, time: 28.31\n",
      "Episode: 19, ep_reward: 98035.0, ep_conv: 0.1059, epsilon: 0.010, #resp: 63122, time: 29.58\n",
      "\n",
      "===Training completed.===\n",
      "\n",
      "Tuning rewthresh = 5\n",
      "Episode: 0, ep_reward: -281895.0, ep_conv: 0.0929, epsilon: 1.000, #resp: 58635, time: 32.01\n",
      "Episode: 1, ep_reward: -219995.0, ep_conv: 0.0932, epsilon: 0.785, #resp: 46151, time: 31.34\n",
      "Episode: 2, ep_reward: -185616.0, ep_conv: 0.0931, epsilon: 0.616, #resp: 38890, time: 29.06\n",
      "Episode: 3, ep_reward: -135433.0, ep_conv: 0.0942, epsilon: 0.483, #resp: 29100, time: 28.16\n",
      "Episode: 4, ep_reward: -107935.0, ep_conv: 0.0959, epsilon: 0.379, #resp: 24191, time: 27.85\n",
      "Episode: 5, ep_reward: -76405.0, ep_conv: 0.0942, epsilon: 0.298, #resp: 16379, time: 27.26\n",
      "Episode: 6, ep_reward: -58534.0, ep_conv: 0.0969, epsilon: 0.234, #resp: 13432, time: 26.88\n",
      "Episode: 7, ep_reward: -42401.0, ep_conv: 0.0991, epsilon: 0.183, #resp: 10259, time: 27.06\n",
      "Episode: 8, ep_reward: -30783.0, ep_conv: 0.1024, epsilon: 0.144, #resp: 8094, time: 27.53\n",
      "Episode: 9, ep_reward: -51451.0, ep_conv: 0.0989, epsilon: 0.113, #resp: 12445, time: 26.13\n",
      "Episode: 10, ep_reward: -24189.0, ep_conv: 0.1061, epsilon: 0.089, #resp: 6999, time: 26.31\n",
      "Episode: 11, ep_reward: -17408.0, ep_conv: 0.1112, epsilon: 0.070, #resp: 5759, time: 25.71\n",
      "Episode: 12, ep_reward: -19538.0, ep_conv: 0.1071, epsilon: 0.055, #resp: 5824, time: 25.34\n",
      "Episode: 13, ep_reward: -4481.0, ep_conv: 0.1369, epsilon: 0.043, #resp: 3345, time: 25.71\n",
      "Episode: 14, ep_reward: -4961.0, ep_conv: 0.1353, epsilon: 0.034, #resp: 3504, time: 25.55\n",
      "Episode: 15, ep_reward: -1058.0, ep_conv: 0.1572, epsilon: 0.026, #resp: 2686, time: 25.96\n",
      "Episode: 16, ep_reward: -2979.0, ep_conv: 0.1440, epsilon: 0.021, #resp: 3087, time: 25.32\n",
      "Episode: 17, ep_reward: 934.0, ep_conv: 0.1802, epsilon: 0.016, #resp: 2197, time: 25.59\n",
      "Episode: 18, ep_reward: 970.0, ep_conv: 0.1800, epsilon: 0.013, #resp: 2301, time: 25.35\n",
      "Episode: 19, ep_reward: 928.0, ep_conv: 0.1796, epsilon: 0.010, #resp: 2267, time: 25.76\n",
      "\n",
      "===Training completed.===\n",
      "\n",
      "Tuning rewthresh = 3\n",
      "Episode: 0, ep_reward: -384950.0, ep_conv: 0.0925, epsilon: 1.000, #resp: 56213, time: 32.25\n",
      "Episode: 1, ep_reward: -279245.0, ep_conv: 0.0923, epsilon: 0.785, #resp: 40569, time: 30.50\n",
      "Episode: 2, ep_reward: -236858.0, ep_conv: 0.0941, epsilon: 0.616, #resp: 35541, time: 29.39\n",
      "Episode: 3, ep_reward: -194174.0, ep_conv: 0.0938, epsilon: 0.483, #resp: 28978, time: 27.83\n",
      "Episode: 4, ep_reward: -126993.0, ep_conv: 0.0932, epsilon: 0.379, #resp: 18755, time: 27.14\n",
      "Episode: 5, ep_reward: -100206.0, ep_conv: 0.0951, epsilon: 0.298, #resp: 15283, time: 26.98\n",
      "Episode: 6, ep_reward: -80417.0, ep_conv: 0.0940, epsilon: 0.234, #resp: 12029, time: 26.16\n",
      "Episode: 7, ep_reward: -61126.0, ep_conv: 0.0932, epsilon: 0.183, #resp: 9029, time: 26.69\n",
      "Episode: 8, ep_reward: -58283.0, ep_conv: 0.0984, epsilon: 0.144, #resp: 9399, time: 26.60\n",
      "Episode: 9, ep_reward: -51303.0, ep_conv: 0.0968, epsilon: 0.113, #resp: 8067, time: 25.63\n",
      "Episode: 10, ep_reward: -24644.0, ep_conv: 0.1046, epsilon: 0.089, #resp: 4395, time: 26.56\n",
      "Episode: 11, ep_reward: -27472.0, ep_conv: 0.0987, epsilon: 0.070, #resp: 4454, time: 25.86\n",
      "Episode: 12, ep_reward: -15068.0, ep_conv: 0.1025, epsilon: 0.055, #resp: 2595, time: 26.25\n",
      "Episode: 13, ep_reward: -22623.0, ep_conv: 0.1058, epsilon: 0.043, #resp: 4130, time: 25.57\n",
      "Episode: 14, ep_reward: -4362.0, ep_conv: 0.1288, epsilon: 0.034, #resp: 1142, time: 25.30\n",
      "Episode: 15, ep_reward: -11315.0, ep_conv: 0.1134, epsilon: 0.026, #resp: 2341, time: 25.81\n",
      "Episode: 16, ep_reward: -7018.0, ep_conv: 0.1249, epsilon: 0.021, #resp: 1742, time: 24.84\n",
      "Episode: 17, ep_reward: -2483.0, ep_conv: 0.1551, epsilon: 0.016, #resp: 997, time: 25.05\n",
      "Episode: 18, ep_reward: -4316.0, ep_conv: 0.1319, epsilon: 0.013, #resp: 1199, time: 24.85\n",
      "Episode: 19, ep_reward: -4106.0, ep_conv: 0.1334, epsilon: 0.010, #resp: 1168, time: 24.89\n",
      "\n",
      "===Training completed.===\n",
      "\n"
     ]
    }
   ],
   "source": [
    "def rl_tune():\n",
    "    ep_rewardsall = []\n",
    "    ep_convsall = []\n",
    "    for rewthresh in [10, 5, 3]:\n",
    "        print('Tuning rewthresh = {}'.format(rewthresh))\n",
    "        ep_rewards, ep_convs = rl_train(rewthresh, 20)\n",
    "        ep_rewardsall.append(ep_rewards)\n",
    "        ep_convsall.append(ep_convs)\n",
    "        \n",
    "    return ep_rewardsall, ep_convsall\n",
    "        \n",
    "ep_rewardsall, ep_convsall = rl_tune()"
   ]
  },
  {
   "cell_type": "markdown",
   "metadata": {},
   "source": [
    "**We see that increased conversion tends to correlate with a decreased total number of responses.**"
   ]
  },
  {
   "cell_type": "code",
   "execution_count": 7,
   "metadata": {
    "tags": []
   },
   "outputs": [
    {
     "data": {
      "image/png": "[encoded data removed]",
      "text/plain": [
       "<Figure size 640x480 with 1 Axes>"
      ]
     },
     "metadata": {},
     "output_type": "display_data"
    }
   ],
   "source": [
    "def plot_tuning(ep_convsall):\n",
    "    # Plot conversion convergence\n",
    "    plt.title(\"Conversion per Episode\")\n",
    "    plt.xlabel(\"Episode\")\n",
    "    plt.ylabel(\"Conversion\")\n",
    "    plt.plot(ep_convsall[0], label='reward thresh = 10')\n",
    "    plt.plot(ep_convsall[1], label='reward thresh = 5')\n",
    "    plt.plot(ep_convsall[2], label='reward thresh = 3')\n",
    "    plt.legend()\n",
    "    plt.show()\n",
    "            \n",
    "plot_tuning(ep_convsall)\n"
   ]
  },
  {
   "cell_type": "markdown",
   "metadata": {},
   "source": [
    "**We will select *rewthresh*=5, which equates to a conversion of 0.2.  We select this because it is significantly greater than the conversion of the full data set, 0.0925, and we also want to mitigate against a reduction of total responses.**\n",
    "\n",
    "**For full training, we will increase the maximum episodes to 100 to improve convergence.**"
   ]
  },
  {
   "cell_type": "code",
   "execution_count": 16,
   "metadata": {
    "tags": []
   },
   "outputs": [
    {
     "name": "stdout",
     "output_type": "stream",
     "text": [
      "Episode: 0, ep_reward: -288996.0, ep_conv: 0.0927, epsilon: 1.000, #resp: 59907, time: 31.92\n",
      "Episode: 1, ep_reward: -265140.0, ep_conv: 0.0931, epsilon: 0.955, #resp: 55533, time: 31.76\n",
      "Episode: 2, ep_reward: -255060.0, ep_conv: 0.0928, epsilon: 0.911, #resp: 52950, time: 31.47\n",
      "Episode: 3, ep_reward: -248672.0, ep_conv: 0.0918, epsilon: 0.870, #resp: 50429, time: 31.53\n",
      "Episode: 4, ep_reward: -230179.0, ep_conv: 0.0923, epsilon: 0.830, #resp: 47247, time: 30.90\n",
      "Episode: 5, ep_reward: -213504.0, ep_conv: 0.0926, epsilon: 0.792, #resp: 44111, time: 30.40\n",
      "Episode: 6, ep_reward: -210523.0, ep_conv: 0.0940, epsilon: 0.756, #resp: 45045, time: 29.99\n",
      "Episode: 7, ep_reward: -196079.0, ep_conv: 0.0935, epsilon: 0.722, #resp: 41440, time: 29.86\n",
      "Episode: 8, ep_reward: -205305.0, ep_conv: 0.0932, epsilon: 0.689, #resp: 43066, time: 29.56\n",
      "Episode: 9, ep_reward: -185789.0, ep_conv: 0.0931, epsilon: 0.658, #resp: 38884, time: 29.74\n",
      "Episode: 10, ep_reward: -161134.0, ep_conv: 0.0951, epsilon: 0.628, #resp: 35334, time: 29.81\n",
      "Episode: 11, ep_reward: -168688.0, ep_conv: 0.0949, epsilon: 0.599, #resp: 36856, time: 30.19\n",
      "Episode: 12, ep_reward: -164671.0, ep_conv: 0.0925, epsilon: 0.572, #resp: 33960, time: 29.15\n",
      "Episode: 13, ep_reward: -143259.0, ep_conv: 0.0944, epsilon: 0.546, #resp: 30921, time: 29.12\n",
      "Episode: 14, ep_reward: -142638.0, ep_conv: 0.0932, epsilon: 0.521, #resp: 29885, time: 28.92\n",
      "Episode: 15, ep_reward: -131321.0, ep_conv: 0.0937, epsilon: 0.498, #resp: 27847, time: 28.84\n",
      "Episode: 16, ep_reward: -127086.0, ep_conv: 0.0966, epsilon: 0.475, #resp: 28914, time: 29.19\n",
      "Episode: 17, ep_reward: -119640.0, ep_conv: 0.0950, epsilon: 0.453, #resp: 26172, time: 28.21\n",
      "Episode: 18, ep_reward: -114536.0, ep_conv: 0.0953, epsilon: 0.433, #resp: 25271, time: 28.03\n",
      "Episode: 19, ep_reward: -129950.0, ep_conv: 0.0948, epsilon: 0.413, #resp: 28330, time: 28.05\n",
      "Episode: 20, ep_reward: -106630.0, ep_conv: 0.0973, epsilon: 0.394, #resp: 24746, time: 28.08\n",
      "Episode: 21, ep_reward: -105022.0, ep_conv: 0.0937, epsilon: 0.376, #resp: 22294, time: 27.88\n",
      "Episode: 22, ep_reward: -99567.0, ep_conv: 0.0963, epsilon: 0.359, #resp: 22516, time: 27.95\n",
      "Episode: 23, ep_reward: -91578.0, ep_conv: 0.0962, epsilon: 0.343, #resp: 20649, time: 28.09\n",
      "Episode: 24, ep_reward: -98341.0, ep_conv: 0.0966, epsilon: 0.327, #resp: 22409, time: 27.45\n",
      "Episode: 25, ep_reward: -87509.0, ep_conv: 0.0968, epsilon: 0.313, #resp: 20043, time: 27.61\n",
      "Episode: 26, ep_reward: -73374.0, ep_conv: 0.0977, epsilon: 0.298, #resp: 17185, time: 27.67\n",
      "Episode: 27, ep_reward: -72061.0, ep_conv: 0.0996, epsilon: 0.285, #resp: 17668, time: 28.17\n",
      "Episode: 28, ep_reward: -48218.0, ep_conv: 0.1024, epsilon: 0.272, #resp: 12645, time: 28.02\n",
      "Episode: 29, ep_reward: -77161.0, ep_conv: 0.0974, epsilon: 0.260, #resp: 17942, time: 27.11\n",
      "Episode: 30, ep_reward: -68369.0, ep_conv: 0.0964, epsilon: 0.248, #resp: 15492, time: 27.06\n",
      "Episode: 31, ep_reward: -66203.0, ep_conv: 0.1007, epsilon: 0.236, #resp: 16723, time: 26.91\n",
      "Episode: 32, ep_reward: -62922.0, ep_conv: 0.1008, epsilon: 0.226, #resp: 15918, time: 27.24\n",
      "Episode: 33, ep_reward: -67384.0, ep_conv: 0.0989, epsilon: 0.215, #resp: 16282, time: 27.19\n",
      "Episode: 34, ep_reward: -49737.0, ep_conv: 0.1031, epsilon: 0.206, #resp: 13298, time: 27.00\n",
      "Episode: 35, ep_reward: -53057.0, ep_conv: 0.0999, epsilon: 0.196, #resp: 13103, time: 26.70\n",
      "Episode: 36, ep_reward: -38543.0, ep_conv: 0.1032, epsilon: 0.187, #resp: 10320, time: 27.15\n",
      "Episode: 37, ep_reward: -41449.0, ep_conv: 0.1036, epsilon: 0.179, #resp: 11220, time: 26.87\n",
      "Episode: 38, ep_reward: -37798.0, ep_conv: 0.1023, epsilon: 0.171, #resp: 9900, time: 26.86\n",
      "Episode: 39, ep_reward: -41783.0, ep_conv: 0.1031, epsilon: 0.163, #resp: 11175, time: 26.73\n",
      "Episode: 40, ep_reward: -57284.0, ep_conv: 0.1032, epsilon: 0.156, #resp: 15448, time: 26.88\n",
      "Episode: 41, ep_reward: -48473.0, ep_conv: 0.1035, epsilon: 0.148, #resp: 13153, time: 27.04\n",
      "Episode: 42, ep_reward: -33815.0, ep_conv: 0.1085, epsilon: 0.142, #resp: 10398, time: 26.71\n",
      "Episode: 43, ep_reward: -23307.0, ep_conv: 0.1118, epsilon: 0.135, #resp: 7789, time: 26.83\n",
      "Episode: 44, ep_reward: -31259.0, ep_conv: 0.1071, epsilon: 0.129, #resp: 9269, time: 26.59\n",
      "Episode: 45, ep_reward: -30823.0, ep_conv: 0.1061, epsilon: 0.123, #resp: 8924, time: 26.81\n",
      "Episode: 46, ep_reward: -28431.0, ep_conv: 0.1107, epsilon: 0.118, #resp: 9275, time: 26.47\n",
      "Episode: 47, ep_reward: -30981.0, ep_conv: 0.1056, epsilon: 0.112, #resp: 8846, time: 26.44\n",
      "Episode: 48, ep_reward: -33435.0, ep_conv: 0.1069, epsilon: 0.107, #resp: 9882, time: 26.61\n",
      "Episode: 49, ep_reward: -23804.0, ep_conv: 0.1112, epsilon: 0.102, #resp: 7859, time: 28.05\n",
      "Episode: 50, ep_reward: -32631.0, ep_conv: 0.1063, epsilon: 0.098, #resp: 9507, time: 27.49\n",
      "Episode: 51, ep_reward: -33842.0, ep_conv: 0.1066, epsilon: 0.093, #resp: 9940, time: 27.04\n",
      "Episode: 52, ep_reward: -20024.0, ep_conv: 0.1152, epsilon: 0.089, #resp: 7370, time: 26.41\n",
      "Episode: 53, ep_reward: -28029.0, ep_conv: 0.1067, epsilon: 0.085, #resp: 8239, time: 26.27\n",
      "Episode: 54, ep_reward: -13006.0, ep_conv: 0.1201, epsilon: 0.081, #resp: 5514, time: 26.48\n",
      "Episode: 55, ep_reward: -17213.0, ep_conv: 0.1151, epsilon: 0.077, #resp: 6327, time: 26.14\n",
      "Episode: 56, ep_reward: -18408.0, ep_conv: 0.1160, epsilon: 0.074, #resp: 6955, time: 27.08\n",
      "Episode: 57, ep_reward: -18670.0, ep_conv: 0.1136, epsilon: 0.071, #resp: 6590, time: 26.81\n",
      "Episode: 58, ep_reward: -12489.0, ep_conv: 0.1212, epsilon: 0.067, #resp: 5472, time: 26.77\n",
      "Episode: 59, ep_reward: -16099.0, ep_conv: 0.1184, epsilon: 0.064, #resp: 6490, time: 26.23\n",
      "Episode: 60, ep_reward: -13708.0, ep_conv: 0.1214, epsilon: 0.061, #resp: 6059, time: 25.71\n",
      "Episode: 61, ep_reward: -9727.0, ep_conv: 0.1269, epsilon: 0.059, #resp: 5093, time: 25.81\n",
      "Episode: 62, ep_reward: -14080.0, ep_conv: 0.1200, epsilon: 0.056, #resp: 5970, time: 25.58\n",
      "Episode: 63, ep_reward: -13095.0, ep_conv: 0.1213, epsilon: 0.053, #resp: 5763, time: 25.70\n",
      "Episode: 64, ep_reward: -10320.0, ep_conv: 0.1277, epsilon: 0.051, #resp: 5561, time: 25.65\n",
      "Episode: 65, ep_reward: -14108.0, ep_conv: 0.1186, epsilon: 0.049, #resp: 5749, time: 25.62\n",
      "Episode: 66, ep_reward: -14266.0, ep_conv: 0.1204, epsilon: 0.046, #resp: 6128, time: 26.16\n",
      "Episode: 67, ep_reward: -8555.0, ep_conv: 0.1301, epsilon: 0.044, #resp: 5008, time: 25.95\n",
      "Episode: 68, ep_reward: -2419.0, ep_conv: 0.1505, epsilon: 0.042, #resp: 3563, time: 26.49\n",
      "Episode: 69, ep_reward: -5731.0, ep_conv: 0.1376, epsilon: 0.040, #resp: 4422, time: 25.84\n",
      "Episode: 70, ep_reward: -2625.0, ep_conv: 0.1502, epsilon: 0.039, #resp: 3800, time: 25.82\n",
      "Episode: 71, ep_reward: -5663.0, ep_conv: 0.1384, epsilon: 0.037, #resp: 4514, time: 25.86\n",
      "Episode: 72, ep_reward: -4400.0, ep_conv: 0.1431, epsilon: 0.035, #resp: 4319, time: 25.65\n",
      "Episode: 73, ep_reward: -382.0, ep_conv: 0.1644, epsilon: 0.034, #resp: 3352, time: 27.05\n",
      "Episode: 74, ep_reward: -5958.0, ep_conv: 0.1363, epsilon: 0.032, #resp: 4385, time: 26.85\n",
      "Episode: 75, ep_reward: -350.0, ep_conv: 0.1646, epsilon: 0.031, #resp: 3214, time: 25.62\n",
      "Episode: 76, ep_reward: -1689.0, ep_conv: 0.1551, epsilon: 0.029, #resp: 3530, time: 25.76\n",
      "Episode: 77, ep_reward: 940.0, ep_conv: 0.1768, epsilon: 0.028, #resp: 3024, time: 25.91\n",
      "Episode: 78, ep_reward: -7754.0, ep_conv: 0.1300, epsilon: 0.027, #resp: 4533, time: 25.75\n",
      "Episode: 79, ep_reward: -5399.0, ep_conv: 0.1372, epsilon: 0.025, #resp: 4116, time: 25.85\n",
      "Episode: 80, ep_reward: -1120.0, ep_conv: 0.1589, epsilon: 0.024, #resp: 3479, time: 26.07\n",
      "Episode: 81, ep_reward: -1109.0, ep_conv: 0.1589, epsilon: 0.023, #resp: 3471, time: 25.98\n",
      "Episode: 82, ep_reward: -65.0, ep_conv: 0.1669, epsilon: 0.022, #resp: 3254, time: 26.60\n",
      "Episode: 83, ep_reward: 227.0, ep_conv: 0.1693, epsilon: 0.021, #resp: 3351, time: 26.68\n",
      "Episode: 84, ep_reward: -962.0, ep_conv: 0.1597, epsilon: 0.020, #resp: 3402, time: 26.82\n",
      "Episode: 85, ep_reward: -804.0, ep_conv: 0.1613, epsilon: 0.019, #resp: 3641, time: 27.44\n",
      "Episode: 86, ep_reward: 531.0, ep_conv: 0.1720, epsilon: 0.018, #resp: 3223, time: 26.86\n",
      "Episode: 87, ep_reward: 2048.0, ep_conv: 0.1897, epsilon: 0.017, #resp: 2916, time: 26.55\n",
      "Episode: 88, ep_reward: 1287.0, ep_conv: 0.1808, epsilon: 0.017, #resp: 2891, time: 25.28\n",
      "Episode: 89, ep_reward: -2064.0, ep_conv: 0.1515, epsilon: 0.016, #resp: 3316, time: 25.57\n",
      "Episode: 90, ep_reward: -1618.0, ep_conv: 0.1556, epsilon: 0.015, #resp: 3636, time: 25.59\n",
      "Episode: 91, ep_reward: -221.0, ep_conv: 0.1653, epsilon: 0.015, #resp: 3236, time: 26.03\n",
      "Episode: 92, ep_reward: -185.0, ep_conv: 0.1657, epsilon: 0.014, #resp: 3413, time: 25.74\n",
      "Episode: 93, ep_reward: 276.0, ep_conv: 0.1696, epsilon: 0.013, #resp: 3325, time: 25.78\n",
      "Episode: 94, ep_reward: 1312.0, ep_conv: 0.1798, epsilon: 0.013, #resp: 3129, time: 25.73\n",
      "Episode: 95, ep_reward: -5313.0, ep_conv: 0.1373, epsilon: 0.012, #resp: 4089, time: 25.73\n",
      "Episode: 96, ep_reward: 2801.0, ep_conv: 0.2006, epsilon: 0.011, #resp: 2817, time: 25.60\n",
      "Episode: 97, ep_reward: 3133.0, ep_conv: 0.2086, epsilon: 0.011, #resp: 2649, time: 25.66\n",
      "Episode: 98, ep_reward: -1365.0, ep_conv: 0.1571, epsilon: 0.010, #resp: 3576, time: 25.66\n",
      "Episode: 99, ep_reward: 894.0, ep_conv: 0.1750, epsilon: 0.010, #resp: 3320, time: 25.96\n",
      "\n",
      "===Training completed.===\n",
      "\n"
     ]
    }
   ],
   "source": [
    "ep_rewards, ep_convs = rl_train(5, 100)"
   ]
  },
  {
   "cell_type": "markdown",
   "metadata": {},
   "source": [
    "**We see that 100 episodes improved performance, notably in episode 98 (numbered 97).**\n",
    "\n",
    "**We note that %1 of steps still involved exploration, so the final greedy actions may result in higher performance.**"
   ]
  },
  {
   "cell_type": "code",
   "execution_count": 20,
   "metadata": {
    "tags": []
   },
   "outputs": [
    {
     "data": {
      "image/png": "[encoded data removed]",
      "text/plain": [
       "<Figure size 640x480 with 1 Axes>"
      ]
     },
     "metadata": {},
     "output_type": "display_data"
    }
   ],
   "source": [
    "# Plot reward convergence\n",
    "plt.title(\"Reward per Episode\")\n",
    "plt.xlabel(\"Episode\")\n",
    "plt.ylabel(\"Reward\")\n",
    "plt.plot(ep_rewards)\n",
    "plt.show()"
   ]
  },
  {
   "cell_type": "markdown",
   "metadata": {},
   "source": [
    "**When the reward becomes positive (consistently starting at episode 130), this indicates the model is able to produce roughly 0.2 conversion.  Again this is based on *rewthresh*=5.**\n",
    "\n",
    "**We also observe convergence in this region (epsides 130 and higher).**"
   ]
  },
  {
   "cell_type": "code",
   "execution_count": 21,
   "metadata": {
    "tags": []
   },
   "outputs": [
    {
     "data": {
      "image/png": "[encoded data removed]",
      "text/plain": [
       "<Figure size 640x480 with 1 Axes>"
      ]
     },
     "metadata": {},
     "output_type": "display_data"
    }
   ],
   "source": [
    "# Plot conversion convergence\n",
    "plt.title(\"Conversion per Episode\")\n",
    "plt.xlabel(\"Episode\")\n",
    "plt.ylabel(\"Conversion\")\n",
    "plt.plot(ep_convs)\n",
    "plt.show()"
   ]
  },
  {
   "cell_type": "markdown",
   "metadata": {},
   "source": [
    "**Although the model can achieve small improvements with further episodes and shrinking epsilon, it will likely also further reduce the total number of email responses.  Hence we will stop training at this point.**"
   ]
  },
  {
   "cell_type": "code",
   "execution_count": 24,
   "metadata": {
    "collapsed": false,
    "jupyter": {
     "outputs_hidden": false
    }
   },
   "outputs": [
    {
     "name": "stdout",
     "output_type": "stream",
     "text": [
      "[[0. 0. 0. 0.]\n",
      " [0. 0. 0. 0.]\n",
      " [0. 0. 0. 0.]\n",
      " ...\n",
      " [0. 0. 0. 0.]\n",
      " [0. 0. 0. 0.]\n",
      " [0. 0. 0. 0.]]\n"
     ]
    }
   ],
   "source": [
    "with open ('../q_tables/q_table_148-2104.bin', 'rb') as f:\n",
    "    q_table = pickle.load(f)\n",
    "\n",
    "print(q_table)"
   ]
  },
  {
   "cell_type": "markdown",
   "metadata": {},
   "source": [
    "**The Q table seems sparse, either due to lack of data or the best choice being to not send an email.**\n",
    "\n",
    "**We can get the number of populated states:**"
   ]
  },
  {
   "cell_type": "code",
   "execution_count": 38,
   "metadata": {
    "tags": []
   },
   "outputs": [
    {
     "data": {
      "text/plain": [
       "(6192,)"
      ]
     },
     "execution_count": 38,
     "metadata": {},
     "output_type": "execute_result"
    }
   ],
   "source": [
    "np.where(np.sum(abs(q_table) > 1e-3, axis=1) > 0)[0].shape"
   ]
  },
  {
   "cell_type": "markdown",
   "metadata": {},
   "source": [
    "**We can view the populated states**"
   ]
  },
  {
   "cell_type": "code",
   "execution_count": 41,
   "metadata": {
    "tags": []
   },
   "outputs": [
    {
     "data": {
      "text/plain": [
       "array([[ 2.91393032e-01, -1.95020580e+00, -9.37118000e-01,\n",
       "        -1.02902859e+00],\n",
       "       [ 2.59795361e+00, -1.10995180e+00, -1.81674708e+00,\n",
       "        -9.90880855e-01],\n",
       "       [ 2.16355119e-23, -6.86189404e-01,  3.00009270e+00,\n",
       "        -5.21703100e-01],\n",
       "       ...,\n",
       "       [ 2.68748410e+00, -2.78911373e-01, -6.09396282e-01,\n",
       "        -3.93391953e-01],\n",
       "       [ 0.00000000e+00,  2.99999215e+00, -6.51321560e-01,\n",
       "        -1.70859837e+00],\n",
       "       [ 0.00000000e+00, -5.69532790e-01, -6.51321560e-01,\n",
       "        -5.21703100e-01]])"
      ]
     },
     "execution_count": 41,
     "metadata": {},
     "output_type": "execute_result"
    }
   ],
   "source": [
    "q_table[np.where(np.sum(abs(q_table) > 1e-3, axis=1) > 0)[0]]"
   ]
  },
  {
   "cell_type": "markdown",
   "metadata": {},
   "source": [
    "**We can get state indices in which the best action is to send an email**"
   ]
  },
  {
   "cell_type": "code",
   "execution_count": 42,
   "metadata": {
    "collapsed": true,
    "jupyter": {
     "outputs_hidden": true
    },
    "tags": []
   },
   "outputs": [
    {
     "data": {
      "text/plain": [
       "array([     34,     528,    1024,    2080,    2081,    2082,    2084,\n",
       "          2128,    2192,    2320,    2576,    3088,    4136,    4176,\n",
       "          4624,    8224,    8225,    8226,    8232,    8272,    9232,\n",
       "         16420,   16424,   16528,   16656,   17408,   32804,   32848,\n",
       "         32912,   33296,   33808,   65576,   65792,   66048,   66049,\n",
       "         66050,   66052,   67592,   67618,   67664,   68098,   68100,\n",
       "         69664,   69712,   69888,   70145,   70146,   70148,   73808,\n",
       "         73872,   74241,   74244,   74248,   81956,   82177,   82180,\n",
       "         82184,   82434,   82436,   82948,   98336,   98338,   98344,\n",
       "         98448,   98560,   98817,   98818,  132104,  133392,  133632,\n",
       "        134144,  134152,  135200,  135201,  135204,  135248,  135312,\n",
       "        139298,  139304,  139344,  139408,  139536,  139776,  147600,\n",
       "        147976,  147984,  148480,  148481,  163984,  164368,  164866,\n",
       "        196640,  196641,  196648,  196864,  196865,  196866,  197121,\n",
       "        197122,  197124,  198688,  198689,  198696,  198720,  198800,\n",
       "        198912,  198920,  199168,  199169,  199170,  199172,  200738,\n",
       "        200744,  200784,  200848,  200960,  200962,  200964,  200968,\n",
       "        201216,  201218,  201220,  201224,  204832,  204833,  204834,\n",
       "        204880,  204944,  205056,  205060,  205072,  205312,  205314,\n",
       "        205316,  205320,  205825,  205832,  213024,  213025,  213028,\n",
       "        213032,  213056,  213120,  213122,  213248,  213249,  213250,\n",
       "        213252,  213256,  213504,  213505,  229409,  229410,  229416,\n",
       "        229456,  229632,  229633,  229634,  229636,  229640,  229890,\n",
       "        262288,  262416,  264228,  264256,  264336,  264464,  266274,\n",
       "        266276,  266320,  266384,  266512,  266752,  266768,  267264,\n",
       "        270372,  270416,  278592,  278600,  278672,  278800,  279040,\n",
       "        279048,  279056,  279552,  295056,  327712,  327936,  327937,\n",
       "        327938,  327944,  328196,  328200,  328708,  328712,  329760,\n",
       "        329856,  329984,  329992,  330242,  330244,  331809,  331920,\n",
       "        332032,  332034,  332289,  332290,  332801,  335912,  336129,\n",
       "        336386,  336388,  336392,  336897,  344100,  344104,  344320,\n",
       "        360480,  360484,  360712,  360964,  393744,  394244,  394248,\n",
       "        395328,  395408,  396288,  396289,  397392,  398338,  398340,\n",
       "        401440,  401488,  401680,  402432,  402440,  409664,  409666,\n",
       "        409668,  409680,  410624,  410632,  426048,  426056,  426128,\n",
       "        426256,  426496,  426504,  427009,  427010,  458784,  458788,\n",
       "        458792,  458816,  458817,  458881,  459008,  459009,  459010,\n",
       "        459012,  460836,  460840,  460864,  460929,  460936,  461056,\n",
       "        461057,  461058,  461060,  461312,  461314,  461316,  462849,\n",
       "        462880,  462881,  462884,  462913,  463105,  463106,  463112,\n",
       "        466976,  467008,  467024,  467073,  467200,  467201,  467202,\n",
       "        467216,  467460,  467969,  467972,  475176,  475264,  475265,\n",
       "        475272,  475280,  475392,  475393,  491553,  491584,  491600,\n",
       "        491649,  491664,  491784,  492032,  655873,  659712,  664576,\n",
       "        664580,  672000,  672001,  688257,  688648,  721026,  721032,\n",
       "        729152,  729346,  729348,  737416,  753924,  786496,  786504,\n",
       "        786562,  786944,  787457,  787458,  787460,  787464,  788992,\n",
       "        789504,  790593,  790600,  790792,  791552,  794696,  794768,\n",
       "        795136,  795652,  795656,  802884,  803840,  803841,  803842,\n",
       "        803844,  803848,  819265,  819272,  819457,  819712,  819713,\n",
       "        820224,  820225,  820226,  820232,  852004,  852032,  852033,\n",
       "        852096,  852225,  852226,  852228,  852232,  854048,  854052,\n",
       "        854088,  854274,  856097,  856100,  856104,  856192,  856320,\n",
       "        856321,  856328,  856577,  860193,  860194,  860196,  860225,\n",
       "        860226,  860416,  860417,  860418,  860420,  868388,  868416,\n",
       "        868482,  868609,  868610,  868612,  884768,  884769,  884800,\n",
       "        884801,  884804,  884864,  884872,  884993,  884996,  917540,\n",
       "        917568,  917572,  917648,  918016,  918017,  918529,  919616,\n",
       "        919618,  919624,  919696,  920064,  920065,  920066,  920068,\n",
       "        920072,  920578,  920580,  920584,  921636,  921664,  921672,\n",
       "        921728,  921856,  922116,  922120,  922624,  922626,  922628,\n",
       "        922632,  925760,  925768,  926208,  926210,  926212,  926720,\n",
       "        926721,  926724,  926728,  933952,  933953,  933956,  933968,\n",
       "        934024,  934144,  934145,  934152,  934160,  934402,  934408,\n",
       "        934912,  934914,  934920,  950340,  950344,  950401,  950544,\n",
       "        950784,  950785,  950786,  950788,  950792,  951297,  951298,\n",
       "        951300,  983073,  983076,  983104,  983105,  983170,  983176,\n",
       "        983298,  983556,  985122,  985124,  985152,  985153,  985154,\n",
       "        985156,  985216,  985217,  985344,  985345,  987169,  987172,\n",
       "        987200,  987208,  987264,  987266,  987392,  987393,  987396,\n",
       "        991265,  991296,  991297,  991304,  991360,  991368,  991490,\n",
       "        991492,  991496,  991504,  999490,  999492,  999496,  999554,\n",
       "        999556,  999560,  999682,  999684, 1015844, 1015872, 1015873,\n",
       "       1015876, 1015880, 1015937, 1015938, 1015940, 1015944, 1016066,\n",
       "       1016068, 1016072, 1048642, 1049089, 1053704, 1081380, 1114248,\n",
       "       1116232, 1118468, 1122340, 1147016, 1188868, 1188872, 1245250,\n",
       "       1249352, 1249412, 1249540, 1278212, 1310784, 1310786, 1310848,\n",
       "       1310992, 1311232, 1311233, 1311240, 1311744, 1311746, 1312832,\n",
       "       1312833, 1312840, 1313281, 1313282, 1313794, 1313796, 1314881,\n",
       "       1314888, 1315329, 1315336, 1315841, 1315848, 1318984, 1319056,\n",
       "       1319170, 1319425, 1319938, 1319944, 1327169, 1327170, 1327248,\n",
       "       1327361, 1327362, 1327616, 1327617, 1327620, 1328132, 1343524,\n",
       "       1343744, 1343745, 1343752, 1344000, 1344001, 1344002, 1344008,\n",
       "       1376320, 1376328, 1376384, 1376386, 1376388, 1376392, 1376514,\n",
       "       1376520, 1377281, 1378340, 1378368, 1378376, 1378432, 1378433,\n",
       "       1378440, 1378568, 1380386, 1380418, 1380424, 1380481, 1380482,\n",
       "       1380610, 1380612, 1380616, 1380868, 1384484, 1384512, 1384513,\n",
       "       1384520, 1384576, 1384577, 1384578, 1384704, 1384705, 1384708,\n",
       "       1384712, 1392704, 1392705, 1392768, 1392770, 1392776, 1392896,\n",
       "       1392898, 1393153, 1409064, 1409090, 1409152, 1409153, 1409156,\n",
       "       1409160, 1409168, 1409282, 1409284, 1441857, 1441858, 1441920,\n",
       "       1441921, 1441928, 1442049, 1442050, 1442305, 1442306, 1442308,\n",
       "       1442312, 1442824, 1443906, 1443908, 1443912, 1443968, 1443970,\n",
       "       1443976, 1444098, 1444352, 1444353, 1444354, 1444356, 1444360,\n",
       "       1445953, 1445954, 1446017, 1446145, 1446152, 1446400, 1446408,\n",
       "       1446912, 1446914, 1446916, 1446920, 1450050, 1450056, 1450113,\n",
       "       1450242, 1450248, 1450496, 1450497, 1450498, 1450504, 1451008,\n",
       "       1451009, 1451010, 1451012, 1451016, 1458242, 1458306, 1458312,\n",
       "       1458320, 1458432, 1458433, 1458690, 1458692, 1459204, 1474625,\n",
       "       1474628, 1474690, 1474832, 1475072, 1475074, 1475076, 1475080,\n",
       "       1507362, 1507392, 1507394, 1507400, 1507457, 1507458, 1507585,\n",
       "       1507586, 1507588, 1509409, 1509440, 1509441, 1509448, 1509504,\n",
       "       1509505, 1509508, 1509512, 1509633, 1509634, 1511457, 1511458,\n",
       "       1511460, 1511496, 1511556, 1511560, 1511680, 1511682, 1511684,\n",
       "       1511944, 1515552, 1515560, 1515648, 1515649, 1515652, 1515778,\n",
       "       1515780, 1515784, 1516036, 1523776, 1523777, 1523780, 1523840,\n",
       "       1523841, 1523844, 1523848, 1540162, 1540168, 1540226, 1540228,\n",
       "       1540232, 1540352, 1540356, 1574984, 1638436, 1638916, 1646628,\n",
       "       1703972, 1706018, 1706020, 1706512, 1708064, 1736744, 1771664,\n",
       "       1785889, 1786000, 1786114, 1802496, 1835528, 1836040, 1837089,\n",
       "       1837090, 1837128, 1837192, 1837576, 1838088, 1838096, 1839136,\n",
       "       1839176, 1840144, 1843236, 1844232, 1851428, 1851912, 1867809,\n",
       "       1867810, 1868040, 1868816, 1900546, 1900580, 1900680, 1901056,\n",
       "       1901060, 1901064, 1901572, 1902592, 1902600, 1902664, 1903105,\n",
       "       1903618, 1903624, 1904676, 1904712, 1904776, 1904904, 1905152,\n",
       "       1905153, 1905154, 1905665, 1905672, 1908772, 1909249, 1909250,\n",
       "       1916961, 1917064, 1917188, 1917192, 1917441, 1917442, 1933316,\n",
       "       1933345, 1933456, 1933824, 1933826, 1934338, 1966116, 1966600,\n",
       "       1968161, 1968162, 1968164, 1968392, 1968648, 1968656, 1969168,\n",
       "       1970208, 1970440, 1970696, 1971208, 1971216, 1974344, 1974536,\n",
       "       1974792, 1982496, 1982498, 1982536, 1982992, 1983489, 1983492,\n",
       "       1998882, 1998888, 1998984, 1999112, 1999120, 1999368, 1999376,\n",
       "       2031688, 2031752, 2031760, 2031876, 2032129, 2033800, 2033808,\n",
       "       2033924, 2034177, 2034178, 2034690, 2034692, 2034696, 2035784,\n",
       "       2035848, 2035972, 2035984, 2036224, 2036226, 2036228, 2039844,\n",
       "       2039952, 2040080, 2040321, 2040324, 2040833, 2040840, 2048033,\n",
       "       2048072, 2048136, 2048144, 2048256, 2048257, 2048258, 2048513,\n",
       "       2048516, 2064416, 2064420, 2064520, 2064640, 2064897, 2064900,\n",
       "       2065412])"
      ]
     },
     "execution_count": 42,
     "metadata": {},
     "output_type": "execute_result"
    }
   ],
   "source": [
    "np.where(np.argmax(q_table, axis=1) != 0)[0]"
   ]
  },
  {
   "cell_type": "markdown",
   "metadata": {},
   "source": [
    "**We can view these *send email* rows now.**"
   ]
  },
  {
   "cell_type": "code",
   "execution_count": 44,
   "metadata": {
    "tags": []
   },
   "outputs": [
    {
     "data": {
      "text/plain": [
       "array([[ 2.16355119e-23, -6.86189404e-01,  3.00009270e+00,\n",
       "        -5.21703100e-01],\n",
       "       [ 3.62417209e-01, -4.36473540e-01,  1.02139228e+01,\n",
       "        -1.87276821e+00],\n",
       "       [ 1.90975961e-01,  1.10455082e+01, -4.66076938e+00,\n",
       "        -1.72298499e+01],\n",
       "       ...,\n",
       "       [ 1.73419495e+00, -4.90453541e+00,  1.02588771e+00,\n",
       "         1.31747424e+01],\n",
       "       [ 1.22718057e-21, -5.21703095e-01, -1.70859837e+00,\n",
       "         2.00185442e+00],\n",
       "       [ 0.00000000e+00,  2.99999215e+00, -6.51321560e-01,\n",
       "        -1.70859837e+00]])"
      ]
     },
     "execution_count": 44,
     "metadata": {},
     "output_type": "execute_result"
    }
   ],
   "source": [
    "q_table[np.where(np.argmax(q_table, axis=1) != 0)[0]]"
   ]
  },
  {
   "cell_type": "code",
   "execution_count": 15,
   "metadata": {
    "tags": []
   },
   "outputs": [
    {
     "name": "stdout",
     "output_type": "stream",
     "text": [
      "000000100010010000\n",
      "1\n"
     ]
    }
   ],
   "source": [
    "print('{0:018b}'.format(2192))\n",
    "print(np.argmax(q_table[2192]))"
   ]
  },
  {
   "cell_type": "markdown",
   "metadata": {},
   "source": [
    "**The above output shows a binary customer type and the recommended action given a day type:**\n",
    "\n",
    "**A male customer, type C, with an MSN email, 30-39 years old, 0-3 month tenure, should have email subject 1 sent on an ordinary (non weekend/friday/holiday) day.**"
   ]
  },
  {
   "cell_type": "code",
   "execution_count": 19,
   "metadata": {
    "collapsed": false,
    "jupyter": {
     "outputs_hidden": false
    }
   },
   "outputs": [
    {
     "name": "stdout",
     "output_type": "stream",
     "text": [
      "reward: 4172.0, conv: 0.2327, #resp: 2479, time: 25.65\n",
      "\n",
      "===Evaluation completed.===\n",
      "\n"
     ]
    }
   ],
   "source": [
    "def rl_soln(q_table):\n",
    "\n",
    "    \"\"\"Evaluating the agent\"\"\"\n",
    "    # Hyperparameters\n",
    "    maxepisodes = 1  # single pass through data\n",
    "    rewthresh = 5\n",
    "\n",
    "    # Initialize the environment\n",
    "    env = emailenv(ubseq, dfres, rewthresh)\n",
    "\n",
    "    # Performance metrics\n",
    "    ep_rewards = np.zeros([maxepisodes])\n",
    "    ep_convs = np.zeros([maxepisodes])\n",
    "\n",
    "    episode = 0\n",
    "    bestep = -9e9\n",
    "    for episode in range(0, maxepisodes):  # train across episodes\n",
    "        done = False\n",
    "\n",
    "        epstT = time.time()\n",
    "        respall = 0\n",
    "        sentall = 0\n",
    "        while not done:  # train within episode\n",
    "            state = env.get_state()\n",
    "            action = np.argmax(q_table[state, :]) # Exploit\n",
    "            new_state, reward, nresp, nsent, done = env.step(action)\n",
    "            # if nresp/nsent > 0.2:\n",
    "            #     print('{} {} {}'.format(state, nresp, nsent))\n",
    "\n",
    "            ep_rewards[episode] += reward\n",
    "\n",
    "            respall += nresp\n",
    "            sentall += nsent\n",
    "\n",
    "        ep_convs[episode] = respall / sentall\n",
    "\n",
    "        epT = time.time() - epstT\n",
    "        print('reward: {:.1f}, conv: {:.4f}, #resp: {}, time: {:.2f}'.\\\n",
    "              format(ep_rewards[episode], ep_convs[episode], respall, epT))\n",
    "\n",
    "        #Reset environment\n",
    "        state = env.reset()\n",
    "\n",
    "    print(\"\\n===Evaluation completed.===\\n\")\n",
    "\n",
    "    \n",
    "rl_soln(q_table)"
   ]
  },
  {
   "cell_type": "markdown",
   "metadata": {},
   "source": [
    "**The selected model achieved 0.2327 conversion.**"
   ]
  },
  {
   "cell_type": "code",
   "execution_count": null,
   "metadata": {},
   "outputs": [],
   "source": []
  }
 ],
 "metadata": {
  "kernelspec": {
   "display_name": "Python 3 (ipykernel)",
   "language": "python",
   "name": "python3"
  },
  "language_info": {
   "codemirror_mode": {
    "name": "ipython",
    "version": 3
   },
   "file_extension": ".py",
   "mimetype": "text/x-python",
   "name": "python",
   "nbconvert_exporter": "python",
   "pygments_lexer": "ipython3",
   "version": "3.11.5"
  }
 },
 "nbformat": 4,
 "nbformat_minor": 4
}
