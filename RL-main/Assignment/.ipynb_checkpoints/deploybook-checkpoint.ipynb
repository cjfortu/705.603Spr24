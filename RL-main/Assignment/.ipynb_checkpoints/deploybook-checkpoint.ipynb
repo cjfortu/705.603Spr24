{
 "cells": [
  {
   "cell_type": "markdown",
   "id": "52775a18",
   "metadata": {},
   "source": [
    "### A scratch pad for testing the web service"
   ]
  },
  {
   "cell_type": "markdown",
   "id": "d4a85d3a-40b0-4048-a8bf-66c8beaea35e",
   "metadata": {},
   "source": [
    "**Provides two microservices**\n",
    "1) returns testing performance on the provided reviews - http://localhost:8786/performance\n",
    "2) returns predictions on a new review:\n",
    "* first send the review as a text file via POST request to http://localhost:8786/post\n",
    "* then run the prediction and see the result at http://localhost:8786/predict\n",
    "\n",
    "**Details on new reviews**  \n",
    "We recommend *postman* for the POST request."
   ]
  },
  {
   "cell_type": "code",
   "execution_count": 1,
   "id": "54df3028",
   "metadata": {},
   "outputs": [
    {
     "name": "stdout",
     "output_type": "stream",
     "text": [
      "/bin/bash: /home/clementejasonfortuna/anaconda3/lib/libtinfo.so.6: no version information available (required by /bin/bash)\n",
      "starting server...\n",
      " * Serving Flask app 'Service'\n",
      " * Debug mode: off\n",
      "\u001b[31m\u001b[1mWARNING: This is a development server. Do not use it in a production deployment. Use a production WSGI server instead.\u001b[0m\n",
      " * Running on all addresses (0.0.0.0)\n",
      " * Running on http://127.0.0.1:8786\n",
      " * Running on http://192.168.1.83:8786\n",
      "\u001b[33mPress CTRL+C to quit\u001b[0m\n",
      "textfile: sendcust.csv received\n",
      "127.0.0.1 - - [05/May/2024 12:35:34] \"POST /post HTTP/1.1\" 200 -\n",
      "['M', ' 45', ' C', ' ajf3490j@yahoo.com', ' 18', ' 2024-05-06']\n",
      "127.0.0.1 - - [05/May/2024 12:35:37] \"GET /predict HTTP/1.1\" 200 -\n",
      "^C\n"
     ]
    }
   ],
   "source": [
    "!python Service.py"
   ]
  },
  {
   "cell_type": "code",
   "execution_count": null,
   "id": "9fce823a-8e8c-479b-9cb6-3bac483f7da6",
   "metadata": {},
   "outputs": [],
   "source": []
  }
 ],
 "metadata": {
  "kernelspec": {
   "display_name": "Python 3 (ipykernel)",
   "language": "python",
   "name": "python3"
  },
  "language_info": {
   "codemirror_mode": {
    "name": "ipython",
    "version": 3
   },
   "file_extension": ".py",
   "mimetype": "text/x-python",
   "name": "python",
   "nbconvert_exporter": "python",
   "pygments_lexer": "ipython3",
   "version": "3.11.5"
  }
 },
 "nbformat": 4,
 "nbformat_minor": 5
}
