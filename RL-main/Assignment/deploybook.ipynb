{
 "cells": [
  {
   "cell_type": "markdown",
   "id": "9af6c67e",
   "metadata": {},
   "source": [
    "### A scratch pad for testing the web service"
   ]
  },
  {
   "cell_type": "markdown",
   "id": "a77684dd",
   "metadata": {},
   "source": [
    "**Provides two microservices**\n",
    "1) returns testing performance on the email & customer data - http://localhost:8786/performance\n",
    "2) returns predictions on a new customer and date:\n",
    "* first send the customer data and date via POST request to http://localhost:8786/post\n",
    "* then run the prediction and see the result at http://localhost:8786/predict\n",
    "\n",
    "**Details on predictions**  \n",
    "**Format for CSV:** Gender,Age,CustomerType,Email,Tenure,Date  \n",
    "**example:** M,35,C,ajf3490j@msn.com,2,2024-05-06  \n",
    "see **/sample_customers/sendcust.csv**  \n",
    "We recommend *postman* for the POST request."
   ]
  },
  {
   "cell_type": "code",
   "execution_count": 1,
   "id": "5cd41e5f",
   "metadata": {},
   "outputs": [
    {
     "name": "stdout",
     "output_type": "stream",
     "text": [
      "/bin/bash: /home/clementejasonfortuna/anaconda3/lib/libtinfo.so.6: no version information available (required by /bin/bash)\n",
      "starting server...\n",
      " * Serving Flask app 'Service'\n",
      " * Debug mode: off\n",
      "\u001b[31m\u001b[1mWARNING: This is a development server. Do not use it in a production deployment. Use a production WSGI server instead.\u001b[0m\n",
      " * Running on all addresses (0.0.0.0)\n",
      " * Running on http://127.0.0.1:8786\n",
      " * Running on http://192.168.1.83:8786\n",
      "\u001b[33mPress CTRL+C to quit\u001b[0m\n",
      "reward: 4172.0, conv: 0.2327, #resp: 2479, time: 26.62\n",
      "\n",
      "===Evaluation completed.===\n",
      "\n",
      "127.0.0.1 - - [05/May/2024 15:03:23] \"GET /performance HTTP/1.1\" 200 -\n",
      "textfile: sendcust.csv received\n",
      "127.0.0.1 - - [05/May/2024 15:03:34] \"POST /post HTTP/1.1\" 200 -\n",
      "['M', '35', 'C', 'ajf3490j@msn.com', '2', '2024-05-06']\n",
      "EMAIL: ajf3490j@msn.com\n",
      "DOMAIN: msn\n",
      "127.0.0.1 - - [05/May/2024 15:03:37] \"GET /predict HTTP/1.1\" 200 -\n"
     ]
    }
   ],
   "source": [
    "!python Service.py"
   ]
  },
  {
   "cell_type": "code",
   "execution_count": null,
   "id": "b40770a6",
   "metadata": {},
   "outputs": [],
   "source": []
  }
 ],
 "metadata": {
  "kernelspec": {
   "display_name": "Python 3 (ipykernel)",
   "language": "python",
   "name": "python3"
  },
  "language_info": {
   "codemirror_mode": {
    "name": "ipython",
    "version": 3
   },
   "file_extension": ".py",
   "mimetype": "text/x-python",
   "name": "python",
   "nbconvert_exporter": "python",
   "pygments_lexer": "ipython3",
   "version": "3.10.6"
  }
 },
 "nbformat": 4,
 "nbformat_minor": 5
}
