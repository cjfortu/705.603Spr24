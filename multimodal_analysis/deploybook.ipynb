{
 "cells": [
  {
   "cell_type": "markdown",
   "id": "52775a18",
   "metadata": {},
   "source": [
    "### A scratch pad for testing the web service"
   ]
  },
  {
   "cell_type": "markdown",
   "id": "d4a85d3a-40b0-4048-a8bf-66c8beaea35e",
   "metadata": {},
   "source": [
    "**Provides two microservices**\n",
    "1) returns testing performance on the provided reviews - http://localhost:8786/performance\n",
    "2) returns predictions on a new review:\n",
    "* first send the review as a text file via POST request to http://localhost:8786/post\n",
    "* then run the prediction and see the result at http://localhost:8786/predict\n",
    "\n",
    "**Details on new reviews**  \n",
    "We recommend *postman* for the POST request."
   ]
  },
  {
   "cell_type": "code",
   "execution_count": null,
   "id": "4cb47df4-c30c-446b-9294-128d4e311d05",
   "metadata": {
    "tags": []
   },
   "outputs": [],
   "source": [
    "# import tensorflow as tf\n",
    "# print(tf.__version__)\n"
   ]
  },
  {
   "cell_type": "code",
   "execution_count": null,
   "id": "54df3028",
   "metadata": {},
   "outputs": [],
   "source": [
    "!python service.py"
   ]
  },
  {
   "cell_type": "code",
   "execution_count": null,
   "id": "9fce823a-8e8c-479b-9cb6-3bac483f7da6",
   "metadata": {},
   "outputs": [],
   "source": []
  }
 ],
 "metadata": {
  "kernelspec": {
   "display_name": "Python 3 (ipykernel)",
   "language": "python",
   "name": "python3"
  },
  "language_info": {
   "codemirror_mode": {
    "name": "ipython",
    "version": 3
   },
   "file_extension": ".py",
   "mimetype": "text/x-python",
   "name": "python",
   "nbconvert_exporter": "python",
   "pygments_lexer": "ipython3",
   "version": "3.11.5"
  }
 },
 "nbformat": 4,
 "nbformat_minor": 5
}
