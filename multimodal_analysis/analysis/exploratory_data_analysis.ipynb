{
 "cells": [
  {
   "cell_type": "markdown",
   "id": "c2e24f8c-d3d1-4295-94cf-fc7c208e9c7f",
   "metadata": {},
   "source": [
    "# Exploratory Data Analysis"
   ]
  },
  {
   "cell_type": "markdown",
   "id": "838cc0b5-69ee-4fb9-bc51-48b61c014cc0",
   "metadata": {},
   "source": [
    "**We will use the star rating system as the reference for understanding the sentiment in customer reviews. This will allow a system in which the customer only submits a text review and the model assigns a rating, hence reducing reliance on human generated star reviews and shifting to reliance on human verbal expression.** \n",
    "\n",
    "**This should reduce the prevalence of conflicting reviews (high star to negative sentiment, or vice versa). This means we will explore assuming the ML problem will be multiclass classification for text sentiment analysis.**\n"
   ]
  },
  {
   "cell_type": "code",
   "execution_count": 1,
   "id": "e98b6461-e7f4-4904-8ed3-cb6f000ce5b5",
   "metadata": {
    "tags": []
   },
   "outputs": [
    {
     "name": "stderr",
     "output_type": "stream",
     "text": [
      "2024-04-20 10:12:59.388961: I tensorflow/core/platform/cpu_feature_guard.cc:210] This TensorFlow binary is optimized to use available CPU instructions in performance-critical operations.\n",
      "To enable the following instructions: AVX2 FMA, in other operations, rebuild TensorFlow with the appropriate compiler flags.\n",
      "2024-04-20 10:13:00.242136: W tensorflow/compiler/tf2tensorrt/utils/py_utils.cc:38] TF-TRT Warning: Could not find TensorRT\n"
     ]
    }
   ],
   "source": [
    "import os\n",
    "os.chdir('/home/clementejasonfortuna/workspace/705.603Portfolio/Multimodal-Analysis/analysis')\n",
    "\n",
    "from collections import deque\n",
    "import pandas as pd\n",
    "import numpy as np\n",
    "import matplotlib.pyplot as plt\n",
    "from pathlib import Path\n",
    "from multiprocessing import Pool\n",
    "from itertools import repeat\n",
    "import time\n",
    "\n",
    "from Helpers import preprocess, tokentext2seqs\n",
    "\n",
    "from sklearn.feature_extraction.text import CountVectorizer\n",
    "from sklearn.feature_extraction.text import TfidfVectorizer\n",
    "\n",
    "from gensim.models import Word2Vec\n",
    "from nltk.tokenize import word_tokenize\n",
    "import nltk\n",
    "import contractions\n",
    "import string\n"
   ]
  },
  {
   "cell_type": "code",
   "execution_count": 2,
   "id": "17cafe2e-6f87-4a63-b225-4a0bcd41c525",
   "metadata": {
    "tags": []
   },
   "outputs": [],
   "source": [
    "pd.set_option('display.max_columns', None)  # None or 1000\n",
    "pd.set_option('display.max_rows', 10)  # or 1000\n",
    "pd.set_option('display.max_colwidth', None)  # or 199"
   ]
  },
  {
   "cell_type": "markdown",
   "id": "436036dc-c444-4c5e-95d5-20371f606523",
   "metadata": {},
   "source": [
    "**Ingest the data**"
   ]
  },
  {
   "cell_type": "code",
   "execution_count": 3,
   "id": "6f1dee95-73b3-436b-bd45-f0db0e4cd7aa",
   "metadata": {
    "tags": []
   },
   "outputs": [
    {
     "name": "stderr",
     "output_type": "stream",
     "text": [
      "/tmp/ipykernel_85541/1706385969.py:1: DtypeWarning: Columns (18,25) have mixed types. Specify dtype option on import or set low_memory=False.\n",
      "  df = pd.read_csv('../data/amazon_movie_reviews.csv')\n"
     ]
    }
   ],
   "source": [
    "df = pd.read_csv('../data/amazon_movie_reviews.csv')"
   ]
  },
  {
   "cell_type": "code",
   "execution_count": 16,
   "id": "6c792974-60a2-4692-b145-ddcf24069595",
   "metadata": {
    "tags": []
   },
   "outputs": [
    {
     "name": "stdout",
     "output_type": "stream",
     "text": [
      "Unnamed: 0  int64\n",
      "rating  float64\n",
      "review_title  object\n",
      "text  object\n",
      "images_x  object\n",
      "asin  object\n",
      "parent_asin  object\n",
      "user_id  object\n",
      "timestamp  int64\n",
      "helpful_vote  int64\n",
      "verified_purchase  bool\n",
      "main_category  object\n",
      "movie_title  object\n",
      "subtitle  object\n",
      "average_rating  float64\n",
      "rating_number  float64\n",
      "features  object\n",
      "description  object\n",
      "price  object\n",
      "images_y  object\n",
      "videos  object\n",
      "store  object\n",
      "categories  object\n",
      "details  object\n",
      "bought_together  float64\n",
      "author  object\n"
     ]
    }
   ],
   "source": [
    "for col, dtyp in zip(df.columns, df.dtypes):\n",
    "    print('{}  {}'.format(col, dtyp))\n"
   ]
  },
  {
   "cell_type": "markdown",
   "id": "293f8a92-6e97-4faf-8939-0a217b6f365f",
   "metadata": {},
   "source": [
    "**We are interested in *rating* and *text*.**"
   ]
  },
  {
   "cell_type": "markdown",
   "id": "72d645db-8d09-4149-b179-b051acbba1e2",
   "metadata": {},
   "source": [
    "**scan for bad entries**"
   ]
  },
  {
   "cell_type": "code",
   "execution_count": 10,
   "id": "cf59f834-41ee-4fe2-a00e-40f72b2f71dc",
   "metadata": {},
   "outputs": [
    {
     "data": {
      "text/plain": [
       "Unnamed: 0               0\n",
       "rating                   0\n",
       "review_title           127\n",
       "text                   149\n",
       "images_x                 0\n",
       "                    ...   \n",
       "store               610148\n",
       "categories          542290\n",
       "details                  0\n",
       "bought_together    1000000\n",
       "author              999882\n",
       "Length: 26, dtype: int64"
      ]
     },
     "execution_count": 10,
     "metadata": {},
     "output_type": "execute_result"
    }
   ],
   "source": [
    "df.isna().sum()"
   ]
  },
  {
   "cell_type": "markdown",
   "id": "fbd898c1-4fc4-4972-bf46-b177d382ede5",
   "metadata": {},
   "source": [
    "**There are some *NaN* in the *text* column. The preprocessing pipeline must eliminate these rows.**"
   ]
  },
  {
   "cell_type": "code",
   "execution_count": 13,
   "id": "de5bb3e1-c802-4934-9d4a-e9cbd95459a4",
   "metadata": {
    "tags": []
   },
   "outputs": [
    {
     "data": {
      "text/plain": [
       "(1000000, 26)"
      ]
     },
     "execution_count": 13,
     "metadata": {},
     "output_type": "execute_result"
    }
   ],
   "source": [
    "df.shape"
   ]
  },
  {
   "cell_type": "markdown",
   "id": "565667e5-b8c6-422b-baa4-6825014d0f63",
   "metadata": {},
   "source": [
    "**The dataset is very large.  Preprocessing and training will need to reduce operation complexity and leverage parallelization.**"
   ]
  },
  {
   "cell_type": "code",
   "execution_count": 8,
   "id": "6e44d14c-00b5-460d-abe7-ed70d34402ba",
   "metadata": {
    "tags": []
   },
   "outputs": [
    {
     "data": {
      "text/plain": [
       "(171303, 26)"
      ]
     },
     "execution_count": 8,
     "metadata": {},
     "output_type": "execute_result"
    }
   ],
   "source": [
    "df[df.duplicated('text')].shape"
   ]
  },
  {
   "cell_type": "markdown",
   "id": "47f213cd-3e29-4eb7-b7e6-23b2a145f600",
   "metadata": {},
   "source": [
    "**There are a significant number of duplicates.  Preprocessing must eliminate these as well.**"
   ]
  },
  {
   "cell_type": "markdown",
   "id": "ec4ae888-9a36-4a19-b4f7-b323eee61051",
   "metadata": {},
   "source": [
    "**We will examine the distibution of star ratings:**"
   ]
  },
  {
   "cell_type": "code",
   "execution_count": 23,
   "id": "59dcfa79-7e1e-49d1-b139-8e1c205058b6",
   "metadata": {
    "tags": []
   },
   "outputs": [],
   "source": [
    "df2 = df.drop_duplicates(subset=['text'])\n",
    "df2 = df2.loc[df2['text'].notna(), ['rating', 'text']]"
   ]
  },
  {
   "cell_type": "code",
   "execution_count": 24,
   "id": "db731bde-130b-4609-b19a-2d8cf4f57f30",
   "metadata": {
    "tags": []
   },
   "outputs": [
    {
     "name": "stdout",
     "output_type": "stream",
     "text": [
      "5.0 star: 0.603\n",
      "4.0 star: 0.172\n",
      "3.0 star: 0.096\n",
      "2.0 star: 0.054\n",
      "1.0 star: 0.075\n"
     ]
    }
   ],
   "source": [
    "for rate in [5.0, 4.0, 3.0, 2.0, 1.0]:\n",
    "    star = (df2['rating'] == rate).sum() / df2.shape[0]\n",
    "    print('{} star: {:.3f}'.format(rate, star))"
   ]
  },
  {
   "cell_type": "markdown",
   "id": "55060624-b9a7-40c0-945b-6f765f10ce97",
   "metadata": {},
   "source": [
    "**5 star ratings comprise %60.3 of all ratings.  The model should achieve an accuracy beyond this, to demonstrate surpassing any trivial solution.**\n",
    "\n",
    "**Preprocessing must also one-hot-encode the ratings.**"
   ]
  },
  {
   "cell_type": "markdown",
   "id": "0511e9b0-69fb-4554-9963-6d10c9bf1e3b",
   "metadata": {},
   "source": [
    "**We will analyze the lengths of text entries. To do this we will introduce the normalizing/stemming/tokenizing function, which will be used in both model_analysis.ipynb and the deployed system:**"
   ]
  },
  {
   "cell_type": "code",
   "execution_count": 30,
   "id": "02db81cf-1b9d-4f40-beed-380c401891aa",
   "metadata": {
    "tags": []
   },
   "outputs": [],
   "source": [
    "def get_proccorpus(dfproc):\n",
    "    \"\"\"\n",
    "    Get a normalized, stemmed, tokenized form of a corpus of text.\n",
    "    \n",
    "    parameters:\n",
    "    corpus (list of str): The text corpus\n",
    "    \n",
    "    returns:\n",
    "    tokentext (list of [str]): The tokenized corpus\n",
    "    proctext (list of str): The tokenized corpus with word re-joined\n",
    "    ratings (list of float): The star ratings\n",
    "    \"\"\"\n",
    "    corpus = dfproc['text'].to_list()\n",
    "    ratings = dfproc['rating'].to_list()\n",
    "    with Pool(14) as pool:  # see helper\n",
    "        result = pool.starmap(preprocess, zip(corpus, ratings))\n",
    "    \n",
    "    df = pd.DataFrame(result, columns = ['tokentext', 'proctext', 'rating'])\n",
    "    tokentext = df['tokentext'].to_list()\n",
    "    proctext = df['proctext'].to_list()\n",
    "    ratings = df['rating'].to_list()\n",
    "    \n",
    "    return (tokentext, proctext, ratings)\n",
    "        "
   ]
  },
  {
   "cell_type": "code",
   "execution_count": 26,
   "id": "22f534ca-7c7e-4aca-b233-5cc9d58d1a9a",
   "metadata": {
    "tags": []
   },
   "outputs": [],
   "source": [
    "result = get_proccorpus(df2)"
   ]
  },
  {
   "cell_type": "code",
   "execution_count": 29,
   "id": "0015ebf0-24e1-459c-b91f-c964d265be39",
   "metadata": {
    "tags": []
   },
   "outputs": [
    {
     "name": "stdout",
     "output_type": "stream",
     "text": [
      "mean #tokens: 28.18695034125904\n",
      "max #tokens: 3459\n"
     ]
    },
    {
     "data": {
      "text/plain": [
       "(array([1.64231e+05, 1.91288e+05, 1.30240e+05, 7.75230e+04, 4.97090e+04,\n",
       "        3.47140e+04, 2.59120e+04, 2.00460e+04, 1.59690e+04, 1.29370e+04,\n",
       "        1.05440e+04, 8.83200e+03, 7.46700e+03, 6.48400e+03, 5.56600e+03,\n",
       "        4.85400e+03, 4.23000e+03, 3.85600e+03, 3.42800e+03, 3.06400e+03,\n",
       "        2.75000e+03, 2.58600e+03, 2.29100e+03, 2.13900e+03, 2.08300e+03,\n",
       "        1.86600e+03, 1.70900e+03, 1.59700e+03, 1.49200e+03, 1.40500e+03,\n",
       "        1.30300e+03, 1.23000e+03, 1.11800e+03, 1.14200e+03, 9.94000e+02,\n",
       "        1.00500e+03, 9.39000e+02, 9.39000e+02, 8.76000e+02, 8.47000e+02,\n",
       "        7.45000e+02, 7.32000e+02, 7.13000e+02, 6.51000e+02, 6.40000e+02,\n",
       "        5.91000e+02, 6.56000e+02, 5.23000e+02, 5.30000e+02, 5.24000e+02,\n",
       "        5.19000e+02, 4.80000e+02, 4.32000e+02, 4.75000e+02, 3.84000e+02,\n",
       "        3.91000e+02, 3.90000e+02, 3.86000e+02, 3.49000e+02, 3.44000e+02,\n",
       "        2.90000e+02, 3.29000e+02, 2.87000e+02, 2.74000e+02, 2.28000e+02,\n",
       "        2.43000e+02, 2.49000e+02, 2.21000e+02, 1.89000e+02, 2.02000e+02,\n",
       "        1.84000e+02, 1.73000e+02, 1.67000e+02, 1.52000e+02, 1.32000e+02,\n",
       "        1.70000e+02, 1.48000e+02, 1.34000e+02, 1.34000e+02, 1.13000e+02,\n",
       "        1.10000e+02, 1.13000e+02, 8.70000e+01, 8.80000e+01, 8.80000e+01,\n",
       "        9.50000e+01, 8.30000e+01, 8.70000e+01, 8.60000e+01, 8.40000e+01,\n",
       "        7.70000e+01, 7.50000e+01, 5.90000e+01, 7.40000e+01, 7.50000e+01,\n",
       "        5.80000e+01, 5.90000e+01, 5.20000e+01, 4.50000e+01, 5.90000e+01]),\n",
       " array([  0.,   5.,  10.,  15.,  20.,  25.,  30.,  35.,  40.,  45.,  50.,\n",
       "         55.,  60.,  65.,  70.,  75.,  80.,  85.,  90.,  95., 100., 105.,\n",
       "        110., 115., 120., 125., 130., 135., 140., 145., 150., 155., 160.,\n",
       "        165., 170., 175., 180., 185., 190., 195., 200., 205., 210., 215.,\n",
       "        220., 225., 230., 235., 240., 245., 250., 255., 260., 265., 270.,\n",
       "        275., 280., 285., 290., 295., 300., 305., 310., 315., 320., 325.,\n",
       "        330., 335., 340., 345., 350., 355., 360., 365., 370., 375., 380.,\n",
       "        385., 390., 395., 400., 405., 410., 415., 420., 425., 430., 435.,\n",
       "        440., 445., 450., 455., 460., 465., 470., 475., 480., 485., 490.,\n",
       "        495., 500.]),\n",
       " <BarContainer object of 100 artists>)"
      ]
     },
     "execution_count": 29,
     "metadata": {},
     "output_type": "execute_result"
    },
    {
     "data": {
      "image/png": "[encoded data removed]",
      "text/plain": [
       "<Figure size 640x480 with 1 Axes>"
      ]
     },
     "metadata": {},
     "output_type": "display_data"
    }
   ],
   "source": [
    "lens = deque()\n",
    "for item in result[0]:\n",
    "    lens.append(len(item))\n",
    "leans = np.array(lens)\n",
    "\n",
    "print('mean #tokens: {}'.format(np.mean(lens)))\n",
    "print('max #tokens: {}'.format(np.max(lens)))\n",
    "plt.hist(lens, bins=100, range=[0, 500])"
   ]
  },
  {
   "cell_type": "markdown",
   "id": "c12d3778-4054-4b18-b7fa-f0a83e1ec94d",
   "metadata": {
    "tags": []
   },
   "source": [
    "**Though there can be over 1000 tokens in a review, we will limit the input size to 100 tokens.  This will capture most of the entries and reduce computational requirements.**"
   ]
  },
  {
   "cell_type": "markdown",
   "id": "dd317768-cde3-4cd7-9785-b02236a0afcb",
   "metadata": {},
   "source": [
    "## Summary\n",
    "\n",
    "**Preprocessing must include the following:**\n",
    "* **Elimination of NaN rows.**\n",
    "* **Elimination of duplicate text reviews.**\n",
    "* **One hot encoding of ratings.**\n",
    "* **Complexity reduction.**\n",
    "* **Input size limit to 50 tokens.**\n",
    "\n",
    "**Lastly, the goal for the accuracy metric must be exceeding %60.3.**"
   ]
  },
  {
   "cell_type": "code",
   "execution_count": null,
   "id": "9cd612f1-002a-4f02-932f-8ab540de63a4",
   "metadata": {},
   "outputs": [],
   "source": []
  }
 ],
 "metadata": {
  "kernelspec": {
   "display_name": "Python 3 (ipykernel)",
   "language": "python",
   "name": "python3"
  },
  "language_info": {
   "codemirror_mode": {
    "name": "ipython",
    "version": 3
   },
   "file_extension": ".py",
   "mimetype": "text/x-python",
   "name": "python",
   "nbconvert_exporter": "python",
   "pygments_lexer": "ipython3",
   "version": "3.11.5"
  }
 },
 "nbformat": 4,
 "nbformat_minor": 5
}
