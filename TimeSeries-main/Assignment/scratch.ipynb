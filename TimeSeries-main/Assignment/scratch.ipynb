{
 "cells": [
  {
   "cell_type": "code",
   "execution_count": 1,
   "id": "dd831114-62f3-40fa-a276-5c0f66c4a9e2",
   "metadata": {
    "tags": []
   },
   "outputs": [],
   "source": [
    "import pandas as pd\n",
    "import numpy as np"
   ]
  },
  {
   "cell_type": "code",
   "execution_count": 2,
   "id": "4106b9f1-de00-4449-9132-5c9015f21b14",
   "metadata": {
    "tags": []
   },
   "outputs": [
    {
     "name": "stdout",
     "output_type": "stream",
     "text": [
      "1.2857142857142858\n"
     ]
    }
   ],
   "source": [
    "today = pd.Timestamp('2022-12-31')\n",
    "targetday = pd.Timestamp('2023-01-09')\n",
    "delt = (targetday - today) / np.timedelta64(1, 'W')\n",
    "print(delt)"
   ]
  },
  {
   "cell_type": "code",
   "execution_count": 3,
   "id": "fa6d1c45-92eb-451f-96a6-04000952565a",
   "metadata": {
    "tags": []
   },
   "outputs": [
    {
     "data": {
      "text/plain": [
       "2.0"
      ]
     },
     "execution_count": 3,
     "metadata": {},
     "output_type": "execute_result"
    }
   ],
   "source": [
    "np.ceil(1.2)"
   ]
  },
  {
   "cell_type": "code",
   "execution_count": null,
   "id": "b076f2f9-65be-4462-bc7e-e0ae6cb6ec7c",
   "metadata": {},
   "outputs": [],
   "source": []
  }
 ],
 "metadata": {
  "kernelspec": {
   "display_name": "Python 3 (ipykernel)",
   "language": "python",
   "name": "python3"
  },
  "language_info": {
   "codemirror_mode": {
    "name": "ipython",
    "version": 3
   },
   "file_extension": ".py",
   "mimetype": "text/x-python",
   "name": "python",
   "nbconvert_exporter": "python",
   "pygments_lexer": "ipython3",
   "version": "3.11.5"
  }
 },
 "nbformat": 4,
 "nbformat_minor": 5
}
